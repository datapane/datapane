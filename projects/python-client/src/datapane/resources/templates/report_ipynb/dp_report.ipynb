{
 "cells": [
  {
   "cell_type": "markdown",
   "source": [
    "Sample Datapane Report - {{ name }}"
   ],
   "metadata": {
    "collapsed": false,
    "pycharm": {
     "name": "#%% md\n"
    }
   }
  },
  {
   "cell_type": "code",
   "execution_count": null,
   "id": "applied-plant",
   "metadata": {},
   "outputs": [],
   "source": [
    "import pandas as pd\n",
    "import altair as alt\n",
    "import datapane as dp"
   ]
  },
  {
   "cell_type": "code",
   "execution_count": null,
   "id": "comic-sleeping",
   "metadata": {},
   "outputs": [],
   "source": [
    "# download data & group by manufacturer\n",
    "df = pd.read_csv('https://covid.ourworldindata.org/data/vaccinations/vaccinations-by-manufacturer.csv', parse_dates=['date'])\n",
    "df = df.groupby(['vaccine', 'date'])['total_vaccinations'].sum().tail(1000).reset_index()"
   ]
  },
  {
   "cell_type": "code",
   "execution_count": null,
   "id": "artificial-income",
   "metadata": {},
   "outputs": [],
   "source": [
    "# plot vaccinations over time using Altair\n",
    "plot = alt.Chart(df).mark_area(opacity=0.4, stroke='black').encode(\n",
    "    x='date:T',\n",
    "    y=alt.Y('total_vaccinations:Q'),\n",
    "    color=alt.Color('vaccine:N', scale=alt.Scale(scheme='set1')),\n",
    "    tooltip='vaccine:N'\n",
    ").interactive().properties(width='container')"
   ]
  },
  {
   "cell_type": "code",
   "execution_count": null,
   "id": "decimal-panel",
   "metadata": {},
   "outputs": [],
   "source": [
    "# tablulate total vaccinations by manufacturer\n",
    "total_df = df[df[\"date\"] == df[\"date\"].max()].sort_values(\"total_vaccinations\", ascending=False).reset_index(drop=True)\n",
    "total_styled = total_df.style.bar(subset=[\"total_vaccinations\"], color='#5fba7d', vmax=total_df[\"total_vaccinations\"].sum())"
   ]
  },
  {
   "cell_type": "code",
   "execution_count": null,
   "id": "transsexual-statement",
   "metadata": {},
   "outputs": [],
   "source": [
    "# embed into a Datapane Report and Publish\n",
    "report = dp.Report(\n",
    "    \"## Vaccination Report\",\n",
    "    dp.Plot(plot, caption=\"Vaccinations by manufacturer over time\"),\n",
    "    dp.Table(total_styled, caption=\"Current vaccination totals by manufacturer\"),\n",
    "    dp.Table(df, caption=\"Initial Dataset\")\n",
    ")\n",
    "report.upload(name='Covid Vaccinations Demo {{ name }}',\n",
    "               description=\"Covid Vaccinations report, using data from ourworldindata\", open=True)"
   ]
  }
 ],
 "metadata": {
  "kernelspec": {
   "display_name": "Python 3",
   "language": "python",
   "name": "python3"
  },
  "language_info": {
   "codemirror_mode": {
    "name": "ipython",
    "version": 3
   },
   "file_extension": ".py",
   "mimetype": "text/x-python",
   "name": "python",
   "nbconvert_exporter": "python",
   "pygments_lexer": "ipython3",
   "version": "3.9.2"
  }
 },
 "nbformat": 4,
 "nbformat_minor": 5
}