{
 "cells": [
  {
   "cell_type": "markdown",
   "id": "a9e92fd9-34f1-436d-bc9f-25758bd65e8e",
   "metadata": {
    "tags": []
   },
   "source": [
    "# Pages&#x20;\n",
    "\n",
    "Apps on Datapane can have multiple pages, which are presented to users as tabs at the top of your app. These can be used similarly to sheets in an Excel document.\n",
    "\n",
    "To add a page, use the `dp.Page` block at the top-level of your app, and give it a title with the `title` parameter.\n",
    "\n",
    "!!! info \n",
    "    \n",
    "    Pages cannot be nested, and can only exist at the root level of your `dp.App` object. If you're using pages, all other blocks must be contained inside a Page block.&#x20;\n",
    "    "
   ]
  },
  {
   "cell_type": "markdown",
   "id": "0402d6d1-5cfe-4702-8b94-6ffb22c03d0a",
   "metadata": {
    "tags": []
   },
   "source": [
    "## Simple Pages"
   ]
  },
  {
   "cell_type": "code",
   "execution_count": null,
   "id": "feb85b17-db4a-4042-ac49-cb2aff1085ac",
   "metadata": {
    "tags": [
     "remove_all_output"
    ]
   },
   "outputs": [],
   "source": [
    "import seaborn as sns\n",
    "import altair as alt\n",
    "import datapane as dp\n",
    "\n",
    "titanic = sns.load_dataset(\"titanic\")\n",
    "\n",
    "points = (\n",
    "    alt.Chart(titanic)\n",
    "    .mark_point()\n",
    "    .encode(\n",
    "        x=\"age:Q\",\n",
    "        color=\"class:N\",\n",
    "        y=\"fare:Q\",\n",
    "    )\n",
    "    .interactive()\n",
    "    .properties(width=\"container\")\n",
    ")\n",
    "\n",
    "app = dp.App(\n",
    "    dp.Page(title=\"Titanic Dataset\", blocks=[\"### Dataset\", titanic]),\n",
    "    dp.Page(title=\"Titanic Plot\", blocks=[\"### Plot\", points]),\n",
    ")\n",
    "\n",
    "app.save(path=\"simple-page.html\")"
   ]
  },
  {
   "cell_type": "code",
   "execution_count": null,
   "id": "b9db65f6-afbf-48bd-a2f4-415cc47afb04",
   "metadata": {
    "tags": [
     "remove_input"
    ]
   },
   "outputs": [],
   "source": [
    "from dpdocsutils import previews\n",
    "previews.embed_local_app('/catalogs/blocks/simple-page.html', width=\"100%\", height=740)"
   ]
  },
  {
   "cell_type": "markdown",
   "id": "0375daea-7ae4-404f-a93c-b01cf62b05f7",
   "metadata": {
    "tags": []
   },
   "source": [
    "## Pages with side navigation"
   ]
  },
  {
   "cell_type": "code",
   "execution_count": null,
   "id": "ba5a1749-6b02-4197-bffe-08f6b1fadcdd",
   "metadata": {
    "tags": [
     "remove_all_output"
    ]
   },
   "outputs": [],
   "source": [
    "import seaborn as sns\n",
    "import altair as alt\n",
    "import datapane as dp\n",
    "\n",
    "titanic = sns.load_dataset(\"titanic\")\n",
    "\n",
    "points = (\n",
    "    alt.Chart(titanic)\n",
    "    .mark_point()\n",
    "    .encode(\n",
    "        x=\"age:Q\",\n",
    "        color=\"class:N\",\n",
    "        y=\"fare:Q\",\n",
    "    )\n",
    "    .interactive()\n",
    "    .properties(width=\"container\")\n",
    ")\n",
    "\n",
    "app = dp.App(\n",
    "    dp.Page(title=\"Titanic Dataset\", blocks=[\"### Dataset\", titanic]),\n",
    "    dp.Page(title=\"Titanic Plot\", blocks=[\"### Plot\", points]),\n",
    "    layout=dp.PageLayout.SIDE,\n",
    ")\n",
    "\n",
    "app.save(path=\"page-side-nav.html\")"
   ]
  },
  {
   "cell_type": "code",
   "execution_count": null,
   "id": "213294a5-b3ca-4f57-947d-d2f38c90e97b",
   "metadata": {
    "tags": [
     "remove_input"
    ]
   },
   "outputs": [],
   "source": [
    "from dpdocsutils import previews\n",
    "previews.embed_local_app('/catalogs/blocks/page-side-nav.html', width=\"100%\", height=640)"
   ]
  }
 ],
 "metadata": {
  "language_info": {
   "name": "python"
  }
 },
 "nbformat": 4,
 "nbformat_minor": 5
}
