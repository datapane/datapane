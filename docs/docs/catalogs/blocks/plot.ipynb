{
 "cells": [
  {
   "cell_type": "markdown",
   "id": "37c2a3bd-e9e4-4b86-b06c-37c0478e6403",
   "metadata": {},
   "source": [
    "# Plots\n",
    "\n",
    "Datapane supports all major Python visualization libraries, allowing you to add interactive plots and visualizations to your app.\n",
    "\n",
    "The `dp.Plot` block takes a plot object from one of the supported Python visualisation libraries and renders it in your app. \n",
    "\n",
    "!!! info\n",
    "\n",
    "    Datapane will automatically wrap your visualization or plot in a `dp.Plot` block if you pass it into your app directly.\n",
    "\n",
    "It takes the following parameters: \n",
    "\n",
    "* `name`: Sets the name of the chart within the caption\n",
    "* `caption` : Adds a caption beneath your plot\n",
    "* `responsive`:  Boolean \\(`True` by default\\) which controls whether the plot fills the block. Set to `False` if you want to manually specify the height and width within the plot object. "
   ]
  },
  {
   "cell_type": "markdown",
   "id": "b17b2027-ae6a-44aa-8be3-8549e560800b",
   "metadata": {},
   "source": [
    "```python\n",
    "dp.Plot(\n",
    "    fig, name=\"fig1\", caption=\"Chart showing average life expectancy\", responsive=False\n",
    ")\n",
    "```\n",
    "\n",
    "Datapane currently supports the following libraries:\n",
    "\n",
    "| Library | Site / Docs |\n",
    "| :--- | :--- |\n",
    "| [Altair](#altair) | [https://altair-viz.github.io/](https://altair-viz.github.io/) |\n",
    "| [Matplotlib / Seaborn](#matplotlib) | [https://matplotlib.org/](https://matplotlib.org/) / [https://seaborn.pydata.org/](https://seaborn.pydata.org/) |\n",
    "| [Bokeh](#bokeh) | [https://bokeh.org/](https://bokeh.org/) |\n",
    "| [PlotAPI](#plotapi) | [https://plotapi.com](https://plotapi.com) |\n",
    "| [Plotly](#plotly) | [https://plotly.com/python/](https://plotly.com/python/) |\n",
    "\n",
    "If you're using another visualization library e.g. Pyvis for networks, try saving your chart as a local HTML file and wrapping that in a [dp.HTML](/catalogs/blocks/html) block. "
   ]
  },
  {
   "cell_type": "markdown",
   "id": "6dba1d29-43db-420f-a3ac-a0b345620c60",
   "metadata": {},
   "source": [
    "## Altair\n",
    "\n",
    "[Altair](https://altair-viz.github.io/) is a declarative statistical visualization library for Python, based on [Vega](http://vega.github.io/vega) and [Vega-Lite](http://vega.github.io/vega-lite). Altair’s API is simple, friendly and consistent and built on top of the powerful [Vega-Lite](http://vega.github.io/vega-lite) visualization grammar. This elegant simplicity produces beautiful and effective visualizations with a minimal amount of code.\n",
    "\n",
    "To get started using Altair to make your visualizations, begin with Altair's [Documentation](https://altair-viz.github.io/)"
   ]
  },
  {
   "cell_type": "code",
   "execution_count": null,
   "id": "918f4d84-1086-47ac-94ba-e32f04f63c42",
   "metadata": {
    "tags": [
     "remove_all_output"
    ]
   },
   "outputs": [],
   "source": [
    "import altair as alt\n",
    "import datapane as dp\n",
    "import pandas as pd\n",
    "from vega_datasets import data as vega_data\n",
    "\n",
    "gap = pd.read_json(vega_data.gapminder.url)\n",
    "\n",
    "select_year = alt.selection_single(\n",
    "    name=\"select\",\n",
    "    fields=[\"year\"],\n",
    "    init={\"year\": 1955},\n",
    "    bind=alt.binding_range(min=1955, max=2005, step=5),\n",
    ")\n",
    "\n",
    "alt_chart = (\n",
    "    alt.Chart(gap)\n",
    "    .mark_point(filled=True)\n",
    "    .encode(\n",
    "        alt.X(\"fertility\", scale=alt.Scale(zero=False)),\n",
    "        alt.Y(\"life_expect\", scale=alt.Scale(zero=False)),\n",
    "        alt.Size(\"pop:Q\"),\n",
    "        alt.Color(\"cluster:N\"),\n",
    "        alt.Order(\"pop:Q\", sort=\"descending\"),\n",
    "    )\n",
    "    .add_selection(select_year)\n",
    "    .transform_filter(select_year)\n",
    ")\n",
    "\n",
    "dp.App(dp.Plot(alt_chart)).save(path=\"altair-plot.html\")"
   ]
  },
  {
   "cell_type": "code",
   "execution_count": null,
   "id": "7f12489f-048d-4ebe-a3dc-cb1fd7a0265b",
   "metadata": {
    "tags": [
     "remove_input"
    ]
   },
   "outputs": [],
   "source": [
    "from dpdocsutils import previews\n",
    "previews.embed_local_app('/catalogs/blocks/altair-plot.html', width=\"100%\", height=460)"
   ]
  },
  {
   "cell_type": "markdown",
   "id": "a38f249d-8567-4db6-953c-8ea8ae57dc79",
   "metadata": {},
   "source": [
    "## Bokeh\n",
    "\n",
    "Bokeh is an interactive visualization library which provides elegant, concise construction of versatile graphics, and affords high-performance interactivity over large datasets. \n",
    "\n",
    "To get started using Bokeh to make your visualizations, begin with Bokeh's [User Guide](https://docs.bokeh.org/en/latest/docs/user_guide.html#userguide)."
   ]
  },
  {
   "cell_type": "code",
   "execution_count": null,
   "id": "676fc6ae-9b8b-4be4-aa66-601478dee429",
   "metadata": {
    "tags": [
     "remove_all_output"
    ]
   },
   "outputs": [],
   "source": [
    "from bokeh.plotting import figure, output_file, show\n",
    "from bokeh.sampledata.iris import flowers\n",
    "import datapane as dp\n",
    "\n",
    "colormap = {\"setosa\": \"red\", \"versicolor\": \"green\", \"virginica\": \"blue\"}\n",
    "colors = [colormap[x] for x in flowers[\"species\"]]\n",
    "\n",
    "bokeh_chart = figure(title=\"Iris Morphology\")\n",
    "bokeh_chart.xaxis.axis_label = \"Petal Length\"\n",
    "bokeh_chart.yaxis.axis_label = \"Petal Width\"\n",
    "\n",
    "bokeh_chart.circle(\n",
    "    flowers[\"petal_length\"],\n",
    "    flowers[\"petal_width\"],\n",
    "    color=colors,\n",
    "    fill_alpha=0.2,\n",
    "    size=10,\n",
    ")\n",
    "\n",
    "dp.App(dp.Plot(bokeh_chart)).save(path=\"bokeh-plot.html\")"
   ]
  },
  {
   "cell_type": "code",
   "execution_count": null,
   "id": "a1633bad-deef-4f9d-bcdf-6f18cdffa832",
   "metadata": {
    "tags": [
     "remove_input"
    ]
   },
   "outputs": [],
   "source": [
    "from dpdocsutils import previews\n",
    "previews.embed_local_app('/catalogs/blocks/bokeh-plot.html', width=\"100%\", height=700)"
   ]
  },
  {
   "cell_type": "markdown",
   "id": "0bd40ed1-212a-412c-ab58-ec637edaefea",
   "metadata": {},
   "source": [
    "## Matplotlib\n",
    "\n",
    "[Matplotlib](https://matplotlib.org) is the original Python visualisation library, often supported and used with [Jupyter Notebooks](https://jupyter.org/). Matplotlib plots are not interactive in Datapane apps, but are saved as SVGs so can be viewed at high fidelity.\n",
    "\n",
    "Higher-level matplotlib libraries such as [Seaborn](https://seaborn.pydata.org/) are also supported, and can be used in a similar way to the matplotlib example below,"
   ]
  },
  {
   "cell_type": "code",
   "execution_count": null,
   "id": "fbd100cd-2fdd-4a70-a4a0-cab3432e58c0",
   "metadata": {
    "tags": [
     "remove_all_output"
    ]
   },
   "outputs": [],
   "source": [
    "import matplotlib.pyplot as plt\n",
    "import pandas as pd\n",
    "import datapane as dp\n",
    "from vega_datasets import data as vega_data\n",
    "\n",
    "gap = pd.read_json(vega_data.gapminder.url)\n",
    "fig = gap.plot.scatter(x=\"life_expect\", y=\"fertility\")\n",
    "\n",
    "dp.App(dp.Plot(fig)).save(path=\"matplotlib-plot.html\")"
   ]
  },
  {
   "cell_type": "code",
   "execution_count": null,
   "id": "2be68e40-6bc4-4458-ab93-de3af075a9cc",
   "metadata": {
    "tags": [
     "remove_input"
    ]
   },
   "outputs": [],
   "source": [
    "from dpdocsutils import previews\n",
    "previews.embed_local_app('/catalogs/blocks/matplotlib-plot.html', width=\"100%\", height=580)"
   ]
  },
  {
   "cell_type": "markdown",
   "id": "407afe18-00a8-418c-9748-9e3279c897fd",
   "metadata": {},
   "source": [
    "!!! info\n",
    "    \n",
    "    You can pass either a `matplotlib` `Figure` or `Axes` object to `dp.Plot`,  you can obtain the current global figure from `matplotlib` by running `plt.gcf()`"
   ]
  },
  {
   "cell_type": "markdown",
   "id": "378ba82a-5181-41d1-be7a-a793873be7f4",
   "metadata": {
    "tags": []
   },
   "source": [
    "## PlotAPI\n",
    "\n",
    "[PlotAPI](https://plotapi.com) is a visualization package that's beautiful by default. It enables beautiful and interactive visualizations with just a single line of code.\n",
    "\n",
    "Check out the [PlotAPI docs and examples](https://plotapi.com/docs/) to get started."
   ]
  },
  {
   "cell_type": "code",
   "execution_count": null,
   "id": "5a8c87d3-65c8-4676-91bb-2eebdba0c9fb",
   "metadata": {
    "tags": [
     "remove_cell"
    ]
   },
   "outputs": [],
   "source": [
    "plotapi_username = \"testing\"\n",
    "plotapi_license = \"TESTING-bbGg8LCsfJhSFd2M2xMv7QGBRTbnieQ7\""
   ]
  },
  {
   "cell_type": "code",
   "execution_count": null,
   "id": "ddedb2b9-f6f8-4db8-bd16-7d4b9951eb25",
   "metadata": {
    "tags": [
     "remove_all_output"
    ]
   },
   "outputs": [],
   "source": [
    "import datapane as dp\n",
    "from plotapi import Chord\n",
    "\n",
    "Chord.set_license(plotapi_username, plotapi_license)\n",
    "\n",
    "matrix = [\n",
    "    [0, 5, 6, 4, 7, 4],\n",
    "    [5, 0, 5, 4, 6, 5],\n",
    "    [6, 5, 0, 4, 5, 5],\n",
    "    [4, 4, 4, 0, 5, 5],\n",
    "    [7, 6, 5, 5, 0, 4],\n",
    "    [4, 5, 5, 5, 4, 0],\n",
    "]\n",
    "\n",
    "names = [\"Action\", \"Adventure\", \"Comedy\", \"Drama\", \"Fantasy\", \"Thriller\"]\n",
    "\n",
    "fig = Chord(matrix, names)\n",
    "\n",
    "dp.App(dp.Plot(fig)).save(path=\"plotapi-plot.html\")"
   ]
  },
  {
   "cell_type": "code",
   "execution_count": null,
   "id": "40e45613-047a-4925-9183-0438dbfec976",
   "metadata": {
    "tags": [
     "remove_input"
    ]
   },
   "outputs": [],
   "source": [
    "from dpdocsutils import previews\n",
    "previews.embed_local_app('/catalogs/blocks/plotapi-plot.html', width=\"100%\", height=750)"
   ]
  },
  {
   "cell_type": "markdown",
   "id": "4e5529b5-5e89-48e3-b87e-48a83f0b8146",
   "metadata": {},
   "source": [
    "## Plotly\n",
    "\n",
    "[Plotly's Python graphing library](https://plotly.com/python/) makes interactive, publication-quality graphs."
   ]
  },
  {
   "cell_type": "code",
   "execution_count": null,
   "id": "9f9d173e-7452-4ef1-9092-6a98f0588c30",
   "metadata": {
    "tags": [
     "remove_all_output"
    ]
   },
   "outputs": [],
   "source": [
    "import plotly.express as px\n",
    "import datapane as dp\n",
    "\n",
    "df = px.data.gapminder()\n",
    "\n",
    "plotly_chart = px.scatter(\n",
    "    df.query(\"year==2007\"),\n",
    "    x=\"gdpPercap\",\n",
    "    y=\"lifeExp\",\n",
    "    size=\"pop\",\n",
    "    color=\"continent\",\n",
    "    hover_name=\"country\",\n",
    "    log_x=True,\n",
    "    size_max=60,\n",
    ")\n",
    "\n",
    "dp.App(dp.Plot(plotly_chart)).save(path=\"plotly-plot.html\")"
   ]
  },
  {
   "cell_type": "code",
   "execution_count": null,
   "id": "c7be181f-f3ac-4f99-af3b-bc3bef645a60",
   "metadata": {
    "tags": [
     "remove_input"
    ]
   },
   "outputs": [],
   "source": [
    "from dpdocsutils import previews\n",
    "previews.embed_local_app('/catalogs/blocks/plotly-plot.html', width=\"100%\", height=540)"
   ]
  }
 ],
 "metadata": {
  "language_info": {
   "name": "python"
  }
 },
 "nbformat": 4,
 "nbformat_minor": 5
}
