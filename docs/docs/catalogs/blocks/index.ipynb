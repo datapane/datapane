{
 "cells": [
  {
   "cell_type": "markdown",
   "id": "5d593263-7cc4-49f6-84ef-89fcc312839e",
   "metadata": {
    "tags": []
   },
   "source": [
    "# Blocks catalog\n",
    "\n",
    "Welcome to the Datapane blocks catalog. Here you will find functioning and reusable examples of Datapane blocks in action."
   ]
  },
  {
   "cell_type": "markdown",
   "id": "bbdb7596-16ee-4476-ba93-fc3eb3ae5dd6",
   "metadata": {
    "tags": []
   },
   "source": [
    "## Tables and data\n",
    "\n",
    "Add datasets to your apps, from simple tables to interactive drilldowns.\n",
    "\n",
    "<div class=\"grid cards\" markdown>\n",
    "    \n",
    "-   <a href=\"/catalogs/blocks/table\"><img style=\"width:100%;\" src=\"../../img/catalogs/table.png\"></a>\n",
    "\n",
    "    __[Table](/catalogs/blocks/table)__\n",
    "    \n",
    "-   <a href=\"/catalogs/blocks/datatable\"><img style=\"width:100%;\" src=\"../../img/catalogs/datatable.png\"></a>\n",
    "\n",
    "    __[Data Table](/catalogs/blocks/datatable)__\n",
    "\n",
    "-   <a href=\"/catalogs/blocks/bignumber\"><img style=\"width:100%;\" src=\"../../img/catalogs/bignumber.png\"></a>\n",
    "\n",
    "    __[Big Number](/catalogs/blocks/bignumber)__\n",
    " \n",
    "</div>"
   ]
  },
  {
   "cell_type": "markdown",
   "id": "1307aca3-fa31-4ca6-9250-231c6a7fe5df",
   "metadata": {},
   "source": [
    "## Plots and visualizations\n",
    "\n",
    "Add interactive plots and visualizations to your app. Supports all major Python visualization libraries. \n",
    "\n",
    "<div class=\"grid cards\" markdown>\n",
    "    \n",
    "-   <a href=\"/catalogs/blocks/plot\"><img style=\"width:100%;\" src=\"../../img/catalogs/plot.png\"></a>\n",
    "\n",
    "    __[Plots](/catalogs/blocks/plot)__\n",
    "\n",
    "-   <a href=\"/catalogs/blocks/map\"><img style=\"width:100%;\" src=\"../../img/catalogs/map.png\"></a>\n",
    "\n",
    "    __[Maps](/catalogs/blocks/map)__\n",
    "    \n",
    "</div>"
   ]
  },
  {
   "cell_type": "markdown",
   "id": "b9429c83-f451-4477-989f-7563ffc67b3b",
   "metadata": {},
   "source": [
    "## Text and HTML\n",
    "\n",
    "Add markdown text to your apps, including helpers for creating text-heavy Python apps.\n",
    "\n",
    "<div class=\"grid cards\" markdown>\n",
    "    \n",
    "-   <a href=\"/catalogs/blocks/text\"><img style=\"width:100%;\" src=\"../../img/catalogs/text.png\"></a>\n",
    "\n",
    "    __[Text](/catalogs/blocks/text)__\n",
    "\n",
    "-   <a href=\"/catalogs/blocks/formula\"><img style=\"width:100%;\" src=\"../../img/catalogs/formula.png\"></a>\n",
    "\n",
    "    __[Formulas](/catalogs/blocks/formula)__\n",
    "    \n",
    "-   <a href=\"/catalogs/blocks/code\"><img style=\"width:100%;\" src=\"../../img/catalogs/code.png\"></a>\n",
    "\n",
    "    __[Code](/catalogs/blocks/code)__\n",
    "    \n",
    "-   <a href=\"/catalogs/blocks/html\"><img style=\"width:100%;\" src=\"../../img/catalogs/html.png\"></a>\n",
    "\n",
    "    __[HTML](/catalogs/blocks/html)__\n",
    "    \n",
    "</div>"
   ]
  },
  {
   "cell_type": "markdown",
   "id": "fd43588b-294c-4a76-b910-75d0b6de6b08",
   "metadata": {},
   "source": [
    "## Media and embeds\n",
    "\n",
    "Add images, GIFs, videos, attachments, and embeds to your app.\n",
    "\n",
    "<div class=\"grid cards\" markdown>\n",
    "    \n",
    "-   <a href=\"/catalogs/blocks/media\"><img style=\"width:100%;\" src=\"../../img/catalogs/media.png\"></a>\n",
    "\n",
    "    __[Media](/catalogs/blocks/media)__\n",
    "\n",
    "-   <a href=\"/catalogs/blocks/attachment\"><img style=\"width:100%;\" src=\"../../img/catalogs/attachment.png\"></a>\n",
    "\n",
    "    __[Attachments](/catalogs/blocks/attachment)__\n",
    "    \n",
    "-   <a href=\"/catalogs/blocks/embed\"><img style=\"width:100%;\" src=\"../../img/catalogs/embed.png\"></a>\n",
    "\n",
    "    __[Embeds](/catalogs/blocks/embed)__\n",
    "    \n",
    "</div>"
   ]
  },
  {
   "cell_type": "markdown",
   "id": "8695579f-4482-4181-8982-e7c9b7c7f640",
   "metadata": {},
   "source": [
    "## Layout and pages\n",
    "\n",
    "Laying out your app to make it more readable and understandable.\n",
    "\n",
    "<div class=\"grid cards\" markdown>\n",
    "    \n",
    "-   <a href=\"/catalogs/blocks/group\"><img style=\"width:100%;\" src=\"../../img/catalogs/group.png\"></a>\n",
    "\n",
    "    __[Grids](/catalogs/blocks/group)__\n",
    "\n",
    "-   <a href=\"/catalogs/blocks/page\"><img style=\"width:100%;\" src=\"../../img/catalogs/page.png\"></a>\n",
    "\n",
    "    __[Pages](/catalogs/blocks/page)__\n",
    "    \n",
    "-   <a href=\"/catalogs/blocks/select\"><img style=\"width:100%;\" src=\"../../img/catalogs/select.png\"></a>\n",
    "\n",
    "    __[Tabs and dropdowns](/catalogs/blocks/select)__\n",
    "    \n",
    "</div>"
   ]
  }
 ],
 "metadata": {
  "language_info": {
   "name": "python"
  }
 },
 "nbformat": 4,
 "nbformat_minor": 5
}
