{
 "cells": [
  {
   "cell_type": "markdown",
   "id": "1fe2a952-3b03-4cc7-8071-693984e3b11e",
   "metadata": {
    "tags": []
   },
   "source": [
    "# Welcome to Datapane\n",
    "\n",
    "Datapane is a Python library for building interactive reports for your end-users in seconds.&#x20; \n",
    "\n",
    "## Get started\n",
    "\n",
    "Get up and running in minutes with our [Quickstart guide](quickstart/), or get started with our in-depth tutorials and guides below.\n",
    "\n",
    "<div class=\"grid cards\" markdown>\n",
    "    \n",
    "-   :material-format-list-numbered:{ .lg .middle } __Tutorials__\n",
    "\n",
    "    ---\n",
    "\n",
    "    Learn how to use Datapane through short exercises.\n",
    "    \n",
    "    [:octicons-arrow-right-24: Get started](tutorials/basics/install-datapane/)\n",
    "\n",
    "-   :material-navigation-variant-outline:{ .lg .middle } __Guides__\n",
    "\n",
    "    ---\n",
    "    \n",
    "    Follow how-to guides that solve real-world problems.\n",
    "\n",
    "    [:octicons-arrow-right-24: Guides](guides/adding-interactive-filters-to-plots/adding-interactive-filters-to-plots/)\n",
    "\n",
    "-   :material-lightbulb-on-10:{ .lg .middle } __Explanations__\n",
    "\n",
    "    ---\n",
    "    \n",
    "    Read explanations of Datapane-specific concepts.\n",
    "\n",
    "    [:octicons-arrow-right-24: Explanations](concepts/datapane-teams/)\n",
    "    \n",
    "-   :material-view-list:{ .lg .middle } __Reference__\n",
    "\n",
    "    ---\n",
    "    \n",
    "    View the technical descriptions of the API and how to operate it.\n",
    "\n",
    "    [:octicons-arrow-right-24: Reference](https://datapane.github.io/datapane/)\n",
    "</div>\n",
    "\n",
    "## What is Datapane?\n",
    "\n",
    "Import our library into your existing script/notebook and build reports programmatically by wrapping components such as:\n",
    "\n",
    "* [Pandas DataFrames](https://pandas.pydata.org/)\n",
    "* Plots from Python visualization libraries such as [Bokeh](https://bokeh.org/), [Altair](https://altair-viz.github.io/), [Plotly](https://plotly.com/python/), [Plotapi](https://plotapi.com), and [Folium](https://python-visualization.github.io/folium/quickstart.html)\n",
    "* Markdown and text\n",
    "* General files, such as images, PDFs, JSON data, etc.\n",
    "\n",
    "Datapane reports are flexible and can also contain pages, tabs, drop downs, and more. Once created, reports can be uploaded to the web, dynamically generated in the cloud, or embedded into your own application, where your viewers can interact with your data and visualizations.&#x20;\n",
    "\n",
    "Here's an example of a basic Datapane report exported to a HTML document:&#x20;"
   ]
  },
  {
   "cell_type": "code",
   "execution_count": 1,
   "id": "018c7403-9e96-4f45-ae97-31904b414259",
   "metadata": {
    "tags": [
     "remove_all_output"
    ]
   },
   "outputs": [
    {
     "name": "stderr",
     "output_type": "stream",
     "text": [
      "/Users/shahin/Documents/datapane-hosted/datapane/projects/python-client/src/datapane/client/api/files.py:136: FutureWarning: this method is deprecated in favour of `Styler.to_html()`\n",
      "  return obj.render()\n"
     ]
    },
    {
     "data": {
      "text/markdown": [
       "Report saved to ./basic-report.html"
      ],
      "text/plain": [
       "<IPython.core.display.Markdown object>"
      ]
     },
     "metadata": {},
     "output_type": "display_data"
    }
   ],
   "source": [
    "import pandas as pd\n",
    "import altair as alt\n",
    "import datapane as dp\n",
    "\n",
    "df = pd.read_csv(\n",
    "    \"https://covid.ourworldindata.org/data/vaccinations/vaccinations-by-manufacturer.csv\",\n",
    "    parse_dates=[\"date\"],\n",
    ")\n",
    "df = (\n",
    "    df.groupby([\"vaccine\", \"date\"])[\"total_vaccinations\"].sum().tail(1000).reset_index()\n",
    ")\n",
    "\n",
    "plot = (\n",
    "    alt.Chart(df)\n",
    "    .mark_area(opacity=0.4, stroke=\"black\")\n",
    "    .encode(\n",
    "        x=\"date:T\",\n",
    "        y=alt.Y(\"total_vaccinations:Q\"),\n",
    "        color=alt.Color(\"vaccine:N\", scale=alt.Scale(scheme=\"set1\")),\n",
    "        tooltip=\"vaccine:N\",\n",
    "    )\n",
    "    .interactive()\n",
    "    .properties(width=\"container\")\n",
    ")\n",
    "\n",
    "total_df = (\n",
    "    df[df[\"date\"] == df[\"date\"].max()]\n",
    "    .sort_values(\"total_vaccinations\", ascending=False)\n",
    "    .reset_index(drop=True)\n",
    ")\n",
    "total_styled = total_df.style.bar(\n",
    "    subset=[\"total_vaccinations\"],\n",
    "    color=\"#5fba7d\",\n",
    "    vmax=total_df[\"total_vaccinations\"].sum(),\n",
    ")\n",
    "\n",
    "report = dp.Report(\n",
    "    \"## Vaccination Report\",\n",
    "    dp.Plot(plot, caption=\"Vaccinations by manufacturer over time\"),\n",
    "    dp.Table(total_styled, caption=\"Current vaccination totals by manufacturer\"),\n",
    ")\n",
    "\n",
    "report.save(path=\"basic-report.html\")"
   ]
  },
  {
   "cell_type": "code",
   "execution_count": 2,
   "id": "628b65af-2c66-4f4d-b5dd-6913883bf257",
   "metadata": {
    "tags": [
     "remove_input"
    ]
   },
   "outputs": [
    {
     "data": {
      "text/html": [
       "<a href=\"/basic-report.html\"><img src=\"/basic-report-preview.png\"></a>"
      ],
      "text/plain": [
       "<IPython.core.display.HTML object>"
      ]
     },
     "metadata": {},
     "output_type": "display_data"
    }
   ],
   "source": [
    "from dpdocsutils import previews\n",
    "previews.embed_local_report('/basic-report.html', width=\"100%\", height=700)"
   ]
  }
 ],
 "metadata": {
  "kernelspec": {
   "display_name": "Python 3 (ipykernel)",
   "language": "python",
   "name": "python3"
  },
  "language_info": {
   "codemirror_mode": {
    "name": "ipython",
    "version": 3
   },
   "file_extension": ".py",
   "mimetype": "text/x-python",
   "name": "python",
   "nbconvert_exporter": "python",
   "pygments_lexer": "ipython3",
   "version": "3.10.5"
  }
 },
 "nbformat": 4,
 "nbformat_minor": 5
}
