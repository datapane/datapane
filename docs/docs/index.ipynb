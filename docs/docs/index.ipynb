{
 "cells": [
  {
   "cell_type": "markdown",
   "id": "1fe2a952-3b03-4cc7-8071-693984e3b11e",
   "metadata": {
    "tags": []
   },
   "source": [
    "# 👋 Welcome to Datapane\n",
    "\n",
    "Datapane lets you transform a Jupyter Notebook or a Python script into an beautiful, interactive **web app** which you can share with non-technical audiences in 10 seconds.\n",
    "\n",
    "## Why build a data app?\n",
    "\n",
    "Python and Jupyter are **amazing for analyzing data**, but are **bad for sharing** with non-technical audiences. This means data scientists struggle to demonstrate value and spend hours manually compiling reports for stakeholders in tools like PowerPoint.\n",
    "\n",
    "Serverless data apps bridge this gap. Data scientists use the plots, data, and functions in their Jupyter Notebook or script to build interactive web apps which stakeholders can use to get answers. Result: your data science analysis makes the impact it deserves!\n",
    "\n",
    "## Why should my data app be serverless?\n",
    "\n",
    "A *serverless* architecture means that you can build and share apps without thinking about backend code, hosting, or infrastructure. \n",
    "\n",
    "* **Tired of rewriting notebooks or scripts as backend applications?** Build data apps from _inside_ of any existing Jupyter Notebook, pipeline, or script in 1 line of code\n",
    "* **Struggling with backend code and complex hosting?** Upload apps in <5s to Datapane cloud and share with a link, or export static HTML which you can host anywhere or share via email/Slack.\n",
    "\n",
    "\n",
    "## Get started\n",
    "\n",
    "Get up and running in **10 seconds** with our [Quickstart guide](quickstart/), or get started with our in-depth tutorials and guides below.\n",
    "\n",
    "<div class=\"grid cards\" markdown>\n",
    "    \n",
    "-   :material-format-list-numbered:{ .lg .middle } __Tutorials__\n",
    "\n",
    "    ---\n",
    "\n",
    "    Learn how to use Datapane through short exercises.\n",
    "    \n",
    "    [:octicons-arrow-right-24: Get started](tutorials/basics/install-datapane/)\n",
    "    \n",
    "-   :material-view-gallery-outline:{ .lg .middle } __Catalogues__\n",
    "\n",
    "    ---\n",
    "\n",
    "    Browse through premade and reusable Blocks, Components, and Templates.\n",
    "    \n",
    "    [:octicons-arrow-right-24: Browse catalogues](catalogues/)\n",
    "\n",
    "-   :material-navigation-variant-outline:{ .lg .middle } __Guides__\n",
    "\n",
    "    ---\n",
    "    \n",
    "    Follow how-to guides that solve real-world problems.\n",
    "\n",
    "    [:octicons-arrow-right-24: Guides](guides/adding-interactive-filters-to-plots/adding-interactive-filters-to-plots/)\n",
    "    \n",
    "-   :material-view-list:{ .lg .middle } __Reference__\n",
    "\n",
    "    ---\n",
    "    \n",
    "    View the technical descriptions of the API and how to operate it.\n",
    "\n",
    "    [:octicons-arrow-right-24: Reference](https://datapane.github.io/datapane/)\n",
    "</div>"
   ]
  }
 ],
 "metadata": {
  "language_info": {
   "name": "python"
  }
 },
 "nbformat": 4,
 "nbformat_minor": 5
}
