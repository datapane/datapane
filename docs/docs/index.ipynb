{
 "cells": [
  {
   "cell_type": "markdown",
   "id": "1fe2a952-3b03-4cc7-8071-693984e3b11e",
   "metadata": {
    "tags": []
   },
   "source": [
    "# Welcome to Datapane\n",
    "\n",
    "Datapane is a Python library for building interactive reports for your end-users in seconds.&#x20; \n",
    "\n",
    "## Get started\n",
    "\n",
    "Get up and running in minutes with our [Quickstart guide](quickstart), or get started with our in-depth tutorials and guides below.\n",
    "\n",
    "<div class=\"grid cards\" markdown>\n",
    "    \n",
    "-   :material-format-list-numbered:{ .lg .middle } __Tutorials__\n",
    "\n",
    "    ---\n",
    "\n",
    "    Learn how to use Datapane through short exercises.\n",
    "    \n",
    "    [:octicons-arrow-right-24: Get started](#)\n",
    "\n",
    "-   :material-navigation-variant-outline:{ .lg .middle } __Guides__\n",
    "\n",
    "    ---\n",
    "    \n",
    "    Follow how-to guides that solve real-world problems.\n",
    "\n",
    "    [:octicons-arrow-right-24: Guides](#)\n",
    "\n",
    "-   :material-lightbulb-on-10:{ .lg .middle } __Explanations__\n",
    "\n",
    "    ---\n",
    "    \n",
    "    Read explanations of Datapane-specific concepts.\n",
    "\n",
    "    [:octicons-arrow-right-24: Explanations](#)\n",
    "    \n",
    "-   :material-view-list:{ .lg .middle } __Reference__\n",
    "\n",
    "    ---\n",
    "    \n",
    "    View the technical descriptions of the API and how to operate it.\n",
    "\n",
    "    [:octicons-arrow-right-24: Reference](#)\n",
    "</div>\n",
    "\n",
    "## What is Datapane?\n",
    "\n",
    "Import our library into your existing script/notebook and build reports programmatically by wrapping components such as:\n",
    "\n",
    "* [Pandas DataFrames](https://pandas.pydata.org/)\n",
    "* Plots from Python visualization libraries such as [Bokeh](https://bokeh.org/), [Altair](https://altair-viz.github.io/), [Plotly](https://plotly.com/python/), and [Folium](https://python-visualization.github.io/folium/quickstart.html)\n",
    "* Markdown and text\n",
    "* General files, such as images, PDFs, JSON data, etc.\n",
    "\n",
    "Datapane reports are flexible and can also contain pages, tabs, drop downs, and more. Once created, reports can be uploaded to the web, dynamically generated in the cloud, or embedded into your own application, where your viewers can interact with your data and visualizations.&#x20;\n",
    "\n",
    "Here's an example of a basic Datapane report exported to a HTML document:&#x20;"
   ]
  },
  {
   "cell_type": "code",
   "execution_count": 1,
   "id": "018c7403-9e96-4f45-ae97-31904b414259",
   "metadata": {
    "tags": [
     "remove_all_output"
    ]
   },
   "outputs": [
    {
     "name": "stderr",
     "output_type": "stream",
     "text": [
      "/Users/shahin/Documents/datapane-docs-beta/.venv/lib/python3.10/site-packages/datapane/client/api/files.py:133: FutureWarning: this method is deprecated in favour of `Styler.to_html()`\n",
      "  return obj.render()\n"
     ]
    },
    {
     "data": {
      "text/markdown": [
       "Report saved to ./basic-report.html"
      ],
      "text/plain": [
       "<IPython.core.display.Markdown object>"
      ]
     },
     "metadata": {},
     "output_type": "display_data"
    }
   ],
   "source": [
    "import pandas as pd\n",
    "import altair as alt\n",
    "import datapane as dp\n",
    "\n",
    "df = pd.read_csv(\n",
    "    \"https://covid.ourworldindata.org/data/vaccinations/vaccinations-by-manufacturer.csv\",\n",
    "    parse_dates=[\"date\"],\n",
    ")\n",
    "df = (\n",
    "    df.groupby([\"vaccine\", \"date\"])[\"total_vaccinations\"].sum().tail(1000).reset_index()\n",
    ")\n",
    "\n",
    "plot = (\n",
    "    alt.Chart(df)\n",
    "    .mark_area(opacity=0.4, stroke=\"black\")\n",
    "    .encode(\n",
    "        x=\"date:T\",\n",
    "        y=alt.Y(\"total_vaccinations:Q\"),\n",
    "        color=alt.Color(\"vaccine:N\", scale=alt.Scale(scheme=\"set1\")),\n",
    "        tooltip=\"vaccine:N\",\n",
    "    )\n",
    "    .interactive()\n",
    "    .properties(width=\"container\")\n",
    ")\n",
    "\n",
    "total_df = (\n",
    "    df[df[\"date\"] == df[\"date\"].max()]\n",
    "    .sort_values(\"total_vaccinations\", ascending=False)\n",
    "    .reset_index(drop=True)\n",
    ")\n",
    "total_styled = total_df.style.bar(\n",
    "    subset=[\"total_vaccinations\"],\n",
    "    color=\"#5fba7d\",\n",
    "    vmax=total_df[\"total_vaccinations\"].sum(),\n",
    ")\n",
    "\n",
    "report = dp.Report(\n",
    "    \"## Vaccination Report\",\n",
    "    dp.Plot(plot, caption=\"Vaccinations by manufacturer over time\"),\n",
    "    dp.Table(total_styled, caption=\"Current vaccination totals by manufacturer\"),\n",
    ")\n",
    "\n",
    "report.save(path=\"basic-report.html\")"
   ]
  },
  {
   "cell_type": "code",
   "execution_count": 2,
   "id": "628b65af-2c66-4f4d-b5dd-6913883bf257",
   "metadata": {
    "tags": [
     "remove_input"
    ]
   },
   "outputs": [
    {
     "data": {
      "text/html": [
       "<a href=\"/basic-report.html\"><img src=\"/basic-report-preview.png\"></a>"
      ],
      "text/plain": [
       "<IPython.core.display.HTML object>"
      ]
     },
     "metadata": {},
     "output_type": "display_data"
    }
   ],
   "source": [
    "from dpdocsutils import previews\n",
    "previews.embed_local_report('/basic-report.html', width=\"100%\", height=700)"
   ]
  }
 ],
 "metadata": {
  "language_info": {
   "name": "python"
  }
 },
 "nbformat": 4,
 "nbformat_minor": 5
}
