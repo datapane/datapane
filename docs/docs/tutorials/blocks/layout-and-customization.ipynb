{
 "cells": [
  {
   "cell_type": "markdown",
   "id": "c09f7100-e03a-4ab0-85e4-6df33c76a60d",
   "metadata": {},
   "source": [
    "# Layout, Pages, and Selects\n",
    "\n",
    "Laying out your report to make it more readable and understandable.\n",
    "\n",
    "## Overview\n",
    "\n",
    "Although you are you probably analyzing data in a list of sequential steps, it may not the best way to present results -- especially if you are sharing with people who are used to a traditional dashboard or BI tool.\n",
    "\n",
    "Datapane's report library provides components which allow for more flexible grid-style layouts, multiple pages, tabs, and selects, which allows you to create powerful custom interfaces without knowledge of HTML or CSS."
   ]
  }
 ],
 "metadata": {
  "kernelspec": {
   "display_name": "Python 3 (ipykernel)",
   "language": "python",
   "name": "python3"
  },
  "language_info": {
   "codemirror_mode": {
    "name": "ipython",
    "version": 3
   },
   "file_extension": ".py",
   "mimetype": "text/x-python",
   "name": "python",
   "nbconvert_exporter": "python",
   "pygments_lexer": "ipython3",
   "version": "3.10.5"
  }
 },
 "nbformat": 4,
 "nbformat_minor": 5
}
