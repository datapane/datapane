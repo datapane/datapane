{
 "cells": [
  {
   "cell_type": "markdown",
   "id": "dc3e7afa-78a2-423f-bc28-0cb58df6e243",
   "metadata": {},
   "source": [
    "# Layout, Pages, and Selects\n",
    "\n",
    "Laying out your report to make it more readable and understandable.\n",
    "\n",
    "## Overview\n",
    "\n",
    "Although you are you probably analyzing data in a list of sequential steps, it may not the best way to present results -- especially if you are sharing with people who are used to a traditional dashboard or BI tool.\n",
    "\n",
    "Datapane's report library provides components which allow for more flexible grid-style layouts, multiple pages, tabs, and selects, which allows you to create powerful custom interfaces without knowledge of HTML or CSS.\n",
    "\n",
    "## Grid layouts\n",
    "\n",
    "If you pass a list of blocks (such as `Plot` and `Table`) to a Report, they are -- by default -- laid out in a single column with a row per block. If you would like to customize the rows and columns, Datapane provides a `Group` component which takes a list of blocks and a number of columns and lays them out in a grid.\n",
    "\n",
    "If we take the example in the earlier tutorial, but want to lay the plot and dataset side-by-side, we can use specify this using `Group` and specifying the number of columns."
   ]
  },
  {
   "cell_type": "code",
   "execution_count": 1,
   "id": "c5c61532-5010-4583-9722-240c93d42f5d",
   "metadata": {
    "tags": [
     "remove_all_output"
    ]
   },
   "outputs": [
    {
     "data": {
      "text/markdown": [
       "Report saved to ./grid-layout.html"
      ],
      "text/plain": [
       "<IPython.core.display.Markdown object>"
      ]
     },
     "metadata": {},
     "output_type": "display_data"
    }
   ],
   "source": [
    "import pandas as pd\n",
    "import altair as alt\n",
    "import datapane as dp\n",
    "alt.data_transformers.disable_max_rows()\n",
    "\n",
    "dataset = pd.read_csv(\"https://covid.ourworldindata.org/data/owid-covid-data.csv\")\n",
    "df = (\n",
    "    dataset.groupby([\"continent\", \"date\"])[\"new_cases_smoothed_per_million\"]\n",
    "    .mean()\n",
    "    .reset_index()\n",
    ")\n",
    "\n",
    "plot = (\n",
    "    alt.Chart(df)\n",
    "    .mark_area(opacity=0.4, stroke=\"black\")\n",
    "    .encode(\n",
    "        x=\"date:T\",\n",
    "        y=alt.Y(\"new_cases_smoothed_per_million:Q\", stack=None),\n",
    "        color=alt.Color(\"continent:N\", scale=alt.Scale(scheme=\"set1\")),\n",
    "        tooltip=\"continent:N\",\n",
    "    )\n",
    "    .interactive()\n",
    "    .properties(width=\"container\")\n",
    ")\n",
    "\n",
    "report = dp.Report(dp.Group(dp.Plot(plot), dp.DataTable(df), columns=2))\n",
    "report = report.save(path=\"grid-layout.html\")"
   ]
  },
  {
   "cell_type": "code",
   "execution_count": 2,
   "id": "6cd61748-8c5b-4088-b21e-7a462f0808ad",
   "metadata": {
    "tags": [
     "remove_input"
    ]
   },
   "outputs": [
    {
     "data": {
      "text/html": [
       "<a href=\"/tutorials/blocks/grid-layout.html\"><img src=\"/tutorials/blocks/grid-layout-preview.png\"></a>"
      ],
      "text/plain": [
       "<IPython.core.display.HTML object>"
      ]
     },
     "metadata": {},
     "output_type": "display_data"
    }
   ],
   "source": [
    "from dpdocsutils import previews\n",
    "previews.embed_local_report('/tutorials/blocks/grid-layout.html', width=\"100%\", height=580)"
   ]
  },
  {
   "cell_type": "markdown",
   "id": "2acdc1e1-1c94-480d-91cb-4a33bda321b1",
   "metadata": {},
   "source": [
    "If you're generating your plots programmatically or have a lot of plots, you can pass them into the Group block as a list, using the `blocks` parameter. We can rewrite the previous example as follows :&#x20;"
   ]
  },
  {
   "cell_type": "code",
   "execution_count": 3,
   "id": "35fe1a13-5f54-4bf6-a996-f655c8f2f929",
   "metadata": {
    "tags": [
     "remove_all_output"
    ]
   },
   "outputs": [
    {
     "data": {
      "text/markdown": [
       "Report saved to ./group-list.html"
      ],
      "text/plain": [
       "<IPython.core.display.Markdown object>"
      ]
     },
     "metadata": {},
     "output_type": "display_data"
    }
   ],
   "source": [
    "import pandas as pd\n",
    "import altair as alt\n",
    "import datapane as dp\n",
    "\n",
    "dataset = pd.read_csv(\"https://covid.ourworldindata.org/data/owid-covid-data.csv\")\n",
    "df = (\n",
    "    dataset.groupby([\"continent\", \"date\"])[\"new_cases_smoothed_per_million\"]\n",
    "    .mean()\n",
    "    .reset_index()\n",
    ")\n",
    "\n",
    "plot = (\n",
    "    alt.Chart(df)\n",
    "    .mark_area(opacity=0.4, stroke=\"black\")\n",
    "    .encode(\n",
    "        x=\"date:T\",\n",
    "        y=alt.Y(\"new_cases_smoothed_per_million:Q\", stack=None),\n",
    "        color=alt.Color(\"continent:N\", scale=alt.Scale(scheme=\"set1\")),\n",
    "        tooltip=\"continent:N\",\n",
    "    )\n",
    "    .interactive()\n",
    "    .properties(width=\"container\")\n",
    ")\n",
    "\n",
    "# You could also generate these in a loop/function\n",
    "my_plots = [dp.Plot(plot), dp.DataTable(df)]\n",
    "\n",
    "report = dp.Report(dp.Group(blocks=my_plots, columns=2))\n",
    "\n",
    "report.save(path=\"group-list.html\")"
   ]
  },
  {
   "cell_type": "code",
   "execution_count": 4,
   "id": "4d8524e5-4a7d-40f6-a51a-f386dccd900d",
   "metadata": {
    "tags": [
     "remove_input"
    ]
   },
   "outputs": [
    {
     "data": {
      "text/html": [
       "<a href=\"/tutorials/blocks/group-list.html\"><img src=\"/tutorials/blocks/group-list-preview.png\"></a>"
      ],
      "text/plain": [
       "<IPython.core.display.HTML object>"
      ]
     },
     "metadata": {},
     "output_type": "display_data"
    }
   ],
   "source": [
    "from dpdocsutils import previews\n",
    "previews.embed_local_report('/tutorials/blocks/group-list.html', width=\"100%\", height=580)"
   ]
  },
  {
   "cell_type": "markdown",
   "id": "8ff6ec37-601c-4fc9-a476-a019b87e9079",
   "metadata": {},
   "source": [
    "!!! info\n",
    "    \n",
    "    As `Group`components are components themselves, they are composable, and you can create more custom layers of nested blocks, for instance nesting 2 rows in the left column of a 2 column layout\n",
    "\n",
    "### Customizing width\n",
    "\n",
    "To customize the width of your report, you can set the [report type](./#report-types).\n",
    "\n",
    "## Pages&#x20;\n",
    "\n",
    "Reports on Datapane can have multiple pages, which are presented to users as tabs at the top of your report. These can be used similarly to sheets in an Excel document.\n",
    "\n",
    "To add a page, use the `dp.Page` block at the top-level of your report, and give it a title with the `title` parameter.\n",
    "\n",
    "!!! info \n",
    "    \n",
    "    Pages cannot be nested, and can only exist at the root level of your `dp.Report` object. If you're using pages, all other blocks must be contained inside a Page block.&#x20;"
   ]
  },
  {
   "cell_type": "code",
   "execution_count": 5,
   "id": "585c2a94-3577-4d6c-956b-45fa530e371f",
   "metadata": {
    "tags": [
     "remove_all_output"
    ]
   },
   "outputs": [
    {
     "data": {
      "text/markdown": [
       "Report saved to ./page.html"
      ],
      "text/plain": [
       "<IPython.core.display.Markdown object>"
      ]
     },
     "metadata": {},
     "output_type": "display_data"
    }
   ],
   "source": [
    "import seaborn as sns\n",
    "import altair as alt\n",
    "import datapane as dp\n",
    "\n",
    "titanic = sns.load_dataset(\"titanic\")\n",
    "\n",
    "points = (\n",
    "    alt.Chart(titanic)\n",
    "    .mark_point()\n",
    "    .encode(\n",
    "        x=\"age:Q\",\n",
    "        color=\"class:N\",\n",
    "        y=\"fare:Q\",\n",
    "    )\n",
    "    .interactive()\n",
    "    .properties(width=\"container\")\n",
    ")\n",
    "\n",
    "report = dp.Report(\n",
    "    dp.Page(title=\"Titanic Dataset\", blocks=[\"### Dataset\", titanic]),\n",
    "    dp.Page(title=\"Titanic Plot\", blocks=[\"### Plot\", points]),\n",
    ")\n",
    "\n",
    "report.save(path=\"page.html\")"
   ]
  },
  {
   "cell_type": "code",
   "execution_count": 6,
   "id": "6a81701b-919c-491c-996e-439006f0039d",
   "metadata": {
    "tags": [
     "remove_input"
    ]
   },
   "outputs": [
    {
     "data": {
      "text/html": [
       "<a href=\"/tutorials/blocks/page.html\"><img src=\"/tutorials/blocks/page-preview.png\"></a>"
      ],
      "text/plain": [
       "<IPython.core.display.HTML object>"
      ]
     },
     "metadata": {},
     "output_type": "display_data"
    }
   ],
   "source": [
    "from dpdocsutils import previews\n",
    "previews.embed_local_report('/tutorials/blocks/page.html', width=\"100%\", height=740)"
   ]
  },
  {
   "cell_type": "markdown",
   "id": "8e76790f-d24f-438e-ab6c-e319d3a41550",
   "metadata": {},
   "source": [
    "## Tabs and Selects\n",
    "\n",
    "In addition to top-level pages elements, you can include tabs and dropdown selects inside your reports using the `dp.Select` block. This allows users to switch between multiple blocks interactively and can even function as a basic filter. It is also useful for providing background context to another block - for instance, to add source code to a plot or a dataset.\n",
    "\n",
    "The `dp.Select` block has two modes:&#x20;\n",
    "\n",
    "* **Tabs** are used for less than 5 options - you can override this default by passing in the parameter `type=dp.SelectType.TABS`\n",
    "* **Drop downs** are used for 5 or more options - you can override this default by passing in the parameter`type = dp.SelectType.DROPDOWN`. In addition, a search bar will appear if the block contains more than 10 options.&#x20;\n",
    "\n",
    "To set the option names, make sure each block contained inside your `dp.Select` has a `label` - see example:"
   ]
  },
  {
   "cell_type": "code",
   "execution_count": 7,
   "id": "9116899c-1064-4b1a-8ead-81110069e460",
   "metadata": {
    "tags": [
     "remove_all_output"
    ]
   },
   "outputs": [
    {
     "data": {
      "text/markdown": [
       "Report saved to ./select.html"
      ],
      "text/plain": [
       "<IPython.core.display.Markdown object>"
      ]
     },
     "metadata": {},
     "output_type": "display_data"
    }
   ],
   "source": [
    "import seaborn as sns\n",
    "import altair as alt\n",
    "import datapane as dp\n",
    "\n",
    "code = \"\"\"\n",
    "titanic = sns.load_dataset(\"titanic\")\n",
    "\n",
    "dp.Report(\n",
    "    dp.Select(blocks=[\n",
    "        dp.Table(titanic.describe(), label='Data Description'),\n",
    "        dp.DataTable(titanic, label='Whole Dataset'),\n",
    "        dp.Code(code, label='Source code')\n",
    "    ])\n",
    ").upload(name='altair_example_select')\n",
    "\"\"\"\n",
    "\n",
    "report = dp.Report(\n",
    "    \"# Titanic overview\",\n",
    "    dp.HTML(\n",
    "        '<html><img src=\"https://upload.wikimedia.org/wikipedia/commons/thumb/f/fd/RMS_Titanic_3.jpg/1599px-RMS_Titanic_3.jpg\" style=\"height:400px;display:flex;margin:auto\"></img></html>'\n",
    "    ),\n",
    "    dp.Select(\n",
    "        blocks=[\n",
    "            dp.Table(titanic.describe(), label=\"Data Description\"),\n",
    "            dp.DataTable(titanic, label=\"Whole Dataset\"),\n",
    "            dp.Code(code, label=\"Source code\"),\n",
    "        ]\n",
    "    ),\n",
    ")\n",
    "\n",
    "report.save(path=\"select.html\")"
   ]
  },
  {
   "cell_type": "code",
   "execution_count": 8,
   "id": "229040a2-c95b-4ce5-880a-d0ee4bf94a45",
   "metadata": {
    "tags": [
     "remove_input"
    ]
   },
   "outputs": [
    {
     "data": {
      "text/html": [
       "<a href=\"/tutorials/blocks/select.html\"><img src=\"/tutorials/blocks/select-preview.png\"></a>"
      ],
      "text/plain": [
       "<IPython.core.display.HTML object>"
      ]
     },
     "metadata": {},
     "output_type": "display_data"
    }
   ],
   "source": [
    "from dpdocsutils import previews\n",
    "previews.embed_local_report('/tutorials/blocks/select.html', width=\"100%\", height=1000)"
   ]
  }
 ],
 "metadata": {
  "language_info": {
   "name": "python"
  }
 },
 "nbformat": 4,
 "nbformat_minor": 5
}
