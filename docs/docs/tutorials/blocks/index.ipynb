{
 "cells": [
  {
   "cell_type": "markdown",
   "id": "db79bf04-493d-488a-87f8-a365995c1f49",
   "metadata": {
    "tags": []
   },
   "source": [
    "# What are Blocks?\n",
    "\n",
    "Reports are comprised of multiple Blocks, which wrap up Python objects, such as Pandas DataFrames, Visualisations, and Markdown. Datapane also includes layout blocks to add tabs, pages, and interactive selects to your reports. \n",
    "\n",
    "We are always adding new components, and if you have some ideas on what you would like to use in your reports, please start a discussion on the [Datapane forum](https://forum.datapane.com).\n",
    "\n",
    "In this section we've grouped Blocks into Block types. Learn how to use them from our tutorials, and more detailed API usage can be found in our [API docs](https://datapane.github.io/datapane/report.html). \n",
    "\n",
    "## Block types\n",
    "\n",
    "- [Tables and data](/tutorials/blocks/tables-and-data)\n",
    "    - `dp.BigNumber`\n",
    "    - `dp.DataTable`\n",
    "    - `dp.Table`\n",
    "    \n",
    "- [Plots and visualizations](/tutorials/blocks/plots-and-visualizations)\n",
    "    - `dp.Plot`\n",
    "\n",
    "- [Text and HTML](/tutorials/blocks/text-code-and-html/)\n",
    "    - `dp.Code`\n",
    "    - `dp.Formula`\n",
    "    - `dp.HTML`\n",
    "    - `dp.Text`\n",
    "\n",
    "- [Layout and pages](/tutorials/blocks/layout-and-customization/)\n",
    "    - `dp.Divider`\n",
    "    - `dp.Group`\n",
    "    - `dp.Page`\n",
    "    - `dp.Select`\n",
    "    - `dp.SelectType`\n",
    "    - `dp.Toggle`\n",
    "\n",
    "- [Media and embeds](/tutorials/blocks/media-attachments-and-embeds)\n",
    "    - `dp.Attachment`\n",
    "    - `dp.Embed`\n",
    "    - `dp.Media`\n",
    "\n",
    "Except for Page blocks, every block can be nested inside a layout block, meaning you can build arbitrarily complex reports. In addition, most blocks take optional `name` and `caption` parameters and display those to your viewers. \n",
    "\n",
    "## Default Block Handling\n",
    "\n",
    "As well as explicitly specifying your block type (for instance, by using `dp.Plot`), Datapane will try and choose the best block for your object if you pass it in directly, for instance as follows:"
   ]
  },
  {
   "cell_type": "code",
   "execution_count": 1,
   "id": "55b19298-aadb-44e4-8cd8-01c582785eda",
   "metadata": {
    "tags": [
     "remove_all_output"
    ]
   },
   "outputs": [
    {
     "data": {
      "text/markdown": [
       "Report saved to ./default-block-handling.html"
      ],
      "text/plain": [
       "<IPython.core.display.Markdown object>"
      ]
     },
     "metadata": {},
     "output_type": "display_data"
    }
   ],
   "source": [
    "import datapane as dp\n",
    "import pandas as pd\n",
    "\n",
    "d = {'col1': [1, 2], 'col2': [3, 4]}\n",
    "df = pd.DataFrame(data=d)\n",
    "\n",
    "report = dp.Report(\n",
    "  df,\n",
    "  \"This is text\"\n",
    ")\n",
    "\n",
    "report.save(\"default-block-handling.html\")"
   ]
  },
  {
   "cell_type": "code",
   "execution_count": 2,
   "id": "2329ddda-457a-4230-ad90-31a0fab7580f",
   "metadata": {
    "tags": [
     "remove_input"
    ]
   },
   "outputs": [
    {
     "data": {
      "text/html": [
       "<a href=\"/tutorials/blocks/default-block-handling.html\"><img src=\"/tutorials/blocks/default-block-handling-preview.png\"></a>"
      ],
      "text/plain": [
       "<IPython.core.display.HTML object>"
      ]
     },
     "metadata": {},
     "output_type": "display_data"
    }
   ],
   "source": [
    "from dpdocsutils import previews\n",
    "previews.embed_local_report('/tutorials/blocks/default-block-handling.html', width=\"100%\", height=240)"
   ]
  },
  {
   "cell_type": "markdown",
   "id": "a748453d-8cd3-42c1-a53b-2c8ff1c2a633",
   "metadata": {},
   "source": [
    "&#x20;The defaults are as follows:\n",
    "\n",
    "| Object Type           | Datapane Block |\n",
    "| --------------------- | -------------- |\n",
    "| pandas DataFrame      | `dp.Table`     |\n",
    "| string                | `dp.Text`      |\n",
    "| Altair                | `dp.Plot`      |\n",
    "| Bokeh                 | `dp.Plot`      |\n",
    "| Folium                | `dp.Plot`      |\n",
    "| Matplotlib / Seaborn  | `dp.Plot`      |\n",
    "| Plotly                | `dp.Plot`      |\n",
    "| Plotapi               | `dp.Plot`      |"
   ]
  }
 ],
 "metadata": {
  "language_info": {
   "name": "python"
  }
 },
 "nbformat": 4,
 "nbformat_minor": 5
}
