{
 "cells": [
  {
   "cell_type": "markdown",
   "id": "f53cf3d0-aa0a-40aa-9638-3b5aa345a4f4",
   "metadata": {},
   "source": [
    "## Python Dictionary & JSON&#x20;\n",
    "\n",
    "To include Python objects and JSON, we recommend using the `File` block.\n",
    "\n",
    "[Media and embeds](media-attachments-and-embeds.ipynb){ .md-button }"
   ]
  }
 ],
 "metadata": {
  "kernelspec": {
   "display_name": "Python 3 (ipykernel)",
   "language": "python",
   "name": "python3"
  },
  "language_info": {
   "codemirror_mode": {
    "name": "ipython",
    "version": 3
   },
   "file_extension": ".py",
   "mimetype": "text/x-python",
   "name": "python",
   "nbconvert_exporter": "python",
   "pygments_lexer": "ipython3",
   "version": "3.10.5"
  }
 },
 "nbformat": 4,
 "nbformat_minor": 5
}
