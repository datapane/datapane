{
 "cells": [
  {
   "cell_type": "markdown",
   "id": "1e4e9d3a-c6c4-4571-b7fc-f7744d288200",
   "metadata": {},
   "source": [
    "# Media, Attachments, and Embeds\n",
    "\n",
    "## Images and Media\n",
    "\n",
    "The Media block allows you to include images, GIFs, video and audio in your reports. If the file is in a supported format, it will be displayed inline in your report. To include an image, you can use `dp.Media` and pass the path.\n",
    "\n",
    "```python\n",
    "dp.Media(file='./image.png')\n",
    "```\n",
    "\n",
    "In the following example, Datapane will attempt to display images in your report for viewers and allow users to download them."
   ]
  },
  {
   "cell_type": "code",
   "execution_count": 1,
   "id": "a83dc29f-dad0-4a20-aeac-8d887a74fdae",
   "metadata": {
    "tags": [
     "remove_all_output"
    ]
   },
   "outputs": [
    {
     "data": {
      "text/markdown": [
       "Report saved to ./image.html"
      ],
      "text/plain": [
       "<IPython.core.display.Markdown object>"
      ]
     },
     "metadata": {},
     "output_type": "display_data"
    }
   ],
   "source": [
    "import datapane as dp\n",
    "\n",
    "report = dp.Report(\n",
    "    dp.Media(file=\"./image.png\", name=\"Image1\", caption=\"Datapane in action!\"),\n",
    ")\n",
    "\n",
    "report.save(path=\"image.html\")"
   ]
  },
  {
   "cell_type": "code",
   "execution_count": 2,
   "id": "72f4ed53-adb4-4666-b1a7-b70924fb7808",
   "metadata": {
    "tags": [
     "remove_input"
    ]
   },
   "outputs": [
    {
     "data": {
      "text/html": [
       "<a href=\"/tutorials/blocks/image.html\"><img src=\"/tutorials/blocks/image-preview.png\"></a>"
      ],
      "text/plain": [
       "<IPython.core.display.HTML object>"
      ]
     },
     "metadata": {},
     "output_type": "display_data"
    }
   ],
   "source": [
    "from dpdocsutils import previews\n",
    "previews.embed_local_report('/tutorials/blocks/image.html', width=\"100%\", height=640)"
   ]
  },
  {
   "cell_type": "markdown",
   "id": "2488fa2e-04d3-45ed-a0fc-ba807e35a7ae",
   "metadata": {},
   "source": [
    "## Attachments and Python objects\n",
    "\n",
    "If you want to include static files like PDFs or Excel docs in your report, use the `dp.Attachment` block.  You can also pass in a Python object directly. Once you upload the report, your users will be able to explore and download these attachments. &#x20;"
   ]
  },
  {
   "cell_type": "code",
   "execution_count": 3,
   "id": "cce05580-c68c-44cc-bffb-d1d89f96055e",
   "metadata": {
    "tags": [
     "remove_all_output"
    ]
   },
   "outputs": [
    {
     "data": {
      "text/markdown": [
       "Report saved to ./attachments-and-objects.html"
      ],
      "text/plain": [
       "<IPython.core.display.Markdown object>"
      ]
     },
     "metadata": {},
     "output_type": "display_data"
    }
   ],
   "source": [
    "import datapane as dp\n",
    "\n",
    "data_path = \"./netflix_stock_data.csv\"\n",
    "\n",
    "vehicle_dict = {\n",
    "  \"brand\": \"Ford\",\n",
    "  \"model\": \"Mustang\",\n",
    "  \"year\": 1964\n",
    "}\n",
    "\n",
    "report = dp.Report(\n",
    "  dp.Attachment(file = data_path),\n",
    "  dp.Attachment(vehicle_dict, name='vehicle_dict')\n",
    ")\n",
    "\n",
    "report.save(path='attachments-and-objects.html')"
   ]
  },
  {
   "cell_type": "code",
   "execution_count": 4,
   "id": "688757f4-3261-4a01-911d-e4a74a603e8a",
   "metadata": {
    "tags": [
     "remove_input"
    ]
   },
   "outputs": [
    {
     "data": {
      "text/html": [
       "<a href=\"/tutorials/blocks/attachments-and-objects.html\"><img src=\"/tutorials/blocks/attachments-and-objects-preview.png\"></a>"
      ],
      "text/plain": [
       "<IPython.core.display.HTML object>"
      ]
     },
     "metadata": {},
     "output_type": "display_data"
    }
   ],
   "source": [
    "from dpdocsutils import previews\n",
    "previews.embed_local_report('/tutorials/blocks/attachments-and-objects.html', width=\"100%\", height=300)"
   ]
  },
  {
   "cell_type": "markdown",
   "id": "c1e61ec5-5116-4d7f-8571-23f327b7838e",
   "metadata": {},
   "source": [
    "## Embeds\n",
    "\n",
    "The Embed block lets you embed content from other platforms e.g. Youtube, Spotify. This is how you'd use it:&#x20;"
   ]
  },
  {
   "cell_type": "code",
   "execution_count": 5,
   "id": "7530fa3c-b0b9-4076-96eb-ddcc671b3df2",
   "metadata": {
    "tags": [
     "remove_all_output"
    ]
   },
   "outputs": [
    {
     "data": {
      "text/markdown": [
       "Report saved to ./embeds.html"
      ],
      "text/plain": [
       "<IPython.core.display.Markdown object>"
      ]
     },
     "metadata": {},
     "output_type": "display_data"
    }
   ],
   "source": [
    "import datapane as dp\n",
    "\n",
    "report = dp.Report(\n",
    "    dp.Embed(url='https://www.youtube.com/watch?v=JDe14ulcfLA')\n",
    ")\n",
    "\n",
    "report.save(path='embeds.html')"
   ]
  },
  {
   "cell_type": "code",
   "execution_count": 6,
   "id": "e5b14768-2039-4be2-8a45-fb75a9daac28",
   "metadata": {
    "tags": [
     "remove_input"
    ]
   },
   "outputs": [
    {
     "data": {
      "text/html": [
       "<a href=\"/tutorials/blocks/embeds.html\"><img src=\"/tutorials/blocks/embeds-preview.png\"></a>"
      ],
      "text/plain": [
       "<IPython.core.display.HTML object>"
      ]
     },
     "metadata": {},
     "output_type": "display_data"
    }
   ],
   "source": [
    "from dpdocsutils import previews\n",
    "previews.embed_local_report('/tutorials/blocks/embeds.html', width=\"100%\", height=640)"
   ]
  },
  {
   "cell_type": "markdown",
   "id": "fff9a3a6-a729-4a2a-8a90-d2707b98eca6",
   "metadata": {},
   "source": [
    "You don't need to use this block for simple embeds on TextReports like GIFs. For those, just use Markdown syntax i.e. `![](https://my-example-gif.gif)`\n",
    "\n",
    "!!! info\n",
    "\n",
    "    If you're trying to embed an `iframe`, you can wrap it in an `HTML` block.\n",
    "    \n",
    "    [Text and HTML](text-code-and-html.ipynb#html){ .md-button }"
   ]
  }
 ],
 "metadata": {
  "language_info": {
   "name": "python"
  }
 },
 "nbformat": 4,
 "nbformat_minor": 5
}
