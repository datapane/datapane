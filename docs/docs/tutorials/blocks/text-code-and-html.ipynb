{
 "cells": [
  {
   "cell_type": "markdown",
   "id": "3e456de9-ee26-4b8f-bd88-f995456967f3",
   "metadata": {},
   "source": [
    "# Text, Formulas, Code, and HTML\n",
    "\n",
    "Datapane allows you to add markdown text to your reports, including helpers for creating text-heavy Python reports.\n",
    "\n",
    "## Text\n",
    "\n",
    "The best way to include long-form text is to use the Web Editor, which allows you to add and edit text directly in the browser, and preview the result.&#x20;\n",
    "\n",
    "However, you can still add text from within your Python script, as follows:&#x20;"
   ]
  },
  {
   "cell_type": "code",
   "execution_count": 1,
   "id": "62e491d7-8844-4c5f-9a91-9d28448aa4a8",
   "metadata": {
    "tags": [
     "remove_all_output"
    ]
   },
   "outputs": [
    {
     "data": {
      "text/markdown": [
       "Report saved to ./text.html"
      ],
      "text/plain": [
       "<IPython.core.display.Markdown object>"
      ]
     },
     "metadata": {},
     "output_type": "display_data"
    }
   ],
   "source": [
    "import datapane as dp\n",
    "\n",
    "report = dp.Report(dp.Text(\"__My awesome markdown__\"))\n",
    "report.save(\"text.html\")"
   ]
  },
  {
   "cell_type": "code",
   "execution_count": 2,
   "id": "e7a727cf-d6e3-4248-a2a0-6b9cb6cbbac9",
   "metadata": {
    "tags": [
     "remove_input"
    ]
   },
   "outputs": [
    {
     "data": {
      "text/html": [
       "<a href=\"/tutorials/blocks/text.html\"><img src=\"/tutorials/blocks/text-preview.png\"></a>"
      ],
      "text/plain": [
       "<IPython.core.display.HTML object>"
      ]
     },
     "metadata": {},
     "output_type": "display_data"
    }
   ],
   "source": [
    "from dpdocsutils import previews\n",
    "previews.embed_local_report('/tutorials/blocks/text.html', width=\"100%\", height=120)"
   ]
  },
  {
   "cell_type": "markdown",
   "id": "cbd65e18-527b-4d3f-929a-cf2797d502ef",
   "metadata": {},
   "source": [
    "!!! info\n",
    "\n",
    "    Markdown is a lightweight markup language that allows you to include formatted text in your report, and can be access through `dp.Text`, or by passing in a string directly.&#x20;\n",
    "\n",
    "To include multi-line text and formatting the words, use triple-quoted string, e.g. `\"\"\"Some words\"\"\"`"
   ]
  },
  {
   "cell_type": "code",
   "execution_count": 3,
   "id": "53337eb4-c276-48fb-8506-2bb773695927",
   "metadata": {
    "tags": [
     "remove_all_output"
    ]
   },
   "outputs": [
    {
     "data": {
      "text/markdown": [
       "Report saved to ./multi-line.html"
      ],
      "text/plain": [
       "<IPython.core.display.Markdown object>"
      ]
     },
     "metadata": {},
     "output_type": "display_data"
    }
   ],
   "source": [
    "import datapane as dp\n",
    "\n",
    "md = \"\"\"Quas *diva coeperat usum*; suisque, ab alii, prato. Et cornua frontes puerum,\n",
    "referam vocassent **umeris**. Dies nec suorum alis adstitit, *temeraria*,\n",
    "anhelis aliis lacunabant quoque adhuc spissatus illum refugam perterrita in\n",
    "sonus. Facturus ad montes victima fluctus undae Zancle et nulli; frigida me.\n",
    "Regno memini concedant argento Aiacis terga, foribusque audit Persephone\n",
    "serieque, obsidis cupidine qualibet Exadius.\n",
    "\n",
    "```python\n",
    "utf_torrent_flash = -1;\n",
    "urlUpnp -= leakWebE - dslam;\n",
    "skinCdLdap += sessionCyberspace;\n",
    "var ascii = address - software_compile;\n",
    "webFlaming(cable, pathIllegalHtml);```\n",
    "\n",
    "## Quo exul exsecrere cuique non alti caerulaque\n",
    "\n",
    "*Optatae o*! Quo et callida et caeleste amorem: nocet recentibus causamque.\n",
    "\n",
    "- Voce adduntque\n",
    "- Divesque quam exstinctum revulsus\n",
    "- Et utrique eunti\n",
    "- Vos tantum quercum fervet et nec\n",
    "- Eris pennis maneas quam\n",
    "\"\"\"\n",
    "\n",
    "report = dp.Report(dp.Text(md))\n",
    "report.save(path=\"multi-line.html\")"
   ]
  },
  {
   "cell_type": "code",
   "execution_count": 4,
   "id": "e455a3a5-d4c7-4e6b-89cd-aa10d53b4b9d",
   "metadata": {
    "tags": [
     "remove_input"
    ]
   },
   "outputs": [
    {
     "data": {
      "text/html": [
       "<a href=\"/tutorials/blocks/multi-line.html\"><img src=\"/tutorials/blocks/multi-line-preview.png\"></a>"
      ],
      "text/plain": [
       "<IPython.core.display.HTML object>"
      ]
     },
     "metadata": {},
     "output_type": "display_data"
    }
   ],
   "source": [
    "from dpdocsutils import previews\n",
    "previews.embed_local_report('/tutorials/blocks/multi-line.html', width=\"100%\", height=600)"
   ]
  },
  {
   "cell_type": "markdown",
   "id": "9f2ac880-9618-4477-b14a-80dcbd19aaa0",
   "metadata": {},
   "source": [
    "!!! info\n",
    "    \n",
    "    Check [here](https://github.com/adam-p/markdown-here/wiki/Markdown-Cheatsheet) for more information on how to format your text with markdown.\n",
    "\n",
    "## Text-heavy Reports\n",
    "\n",
    "If your report is text-heavy (such as an blogpost) and it contains multiple other blocks, creating a list of strings and blocks in Python can be cumbersome. To solve this, Datapane provides a `format` option, which allows you to write a single block of Markdown (either in your report, or in a separate file), and intersperse it with other blocks.&#x20;\n",
    "\n",
    "To do this, use double braces to specify where you want your other blocks to appear throughout your text."
   ]
  },
  {
   "cell_type": "code",
   "execution_count": 5,
   "id": "dc989284-870b-46f5-9f35-45704a2edfa2",
   "metadata": {
    "tags": [
     "remove_all_output"
    ]
   },
   "outputs": [
    {
     "data": {
      "text/markdown": [
       "Report saved to ./text-heavy.html"
      ],
      "text/plain": [
       "<IPython.core.display.Markdown object>"
      ]
     },
     "metadata": {},
     "output_type": "display_data"
    }
   ],
   "source": [
    "import seaborn as sns\n",
    "import altair as alt\n",
    "import datapane as dp\n",
    "\n",
    "md = \"\"\"\n",
    "For example, if we want to visualize the number of people in each class within the interval we select a point chart between age and fare, we could do something like this.\n",
    "\n",
    "{{plot}}\n",
    "\n",
    "Altair allows you to create some extremely interactive plots which do on-the-fly calculations — without even requiring a running Python server!\n",
    "\"\"\"\n",
    "\n",
    "titanic = sns.load_dataset(\"titanic\")\n",
    "\n",
    "points = (\n",
    "    alt.Chart(titanic)\n",
    "    .mark_point()\n",
    "    .encode(\n",
    "        x=\"age:Q\",\n",
    "        color=\"class:N\",\n",
    "        y=\"fare:Q\",\n",
    "    )\n",
    "    .interactive()\n",
    "    .properties(width=\"container\")\n",
    ")\n",
    "\n",
    "report = dp.Report(dp.Text(md).format(plot=points))\n",
    "\n",
    "report.save(path=\"text-heavy.html\")"
   ]
  },
  {
   "cell_type": "code",
   "execution_count": 6,
   "id": "aa1f8108-fafa-4ac7-913b-1ffd0bd059a4",
   "metadata": {
    "tags": [
     "remove_input"
    ]
   },
   "outputs": [
    {
     "data": {
      "text/html": [
       "<a href=\"/tutorials/blocks/text-heavy.html\"><img src=\"/tutorials/blocks/text-heavy-preview.png\"></a>"
      ],
      "text/plain": [
       "<IPython.core.display.HTML object>"
      ]
     },
     "metadata": {},
     "output_type": "display_data"
    }
   ],
   "source": [
    "from dpdocsutils import previews\n",
    "previews.embed_local_report('/tutorials/blocks/text-heavy.html', width=\"100%\", height=600)"
   ]
  },
  {
   "cell_type": "markdown",
   "id": "e15df287-8972-45ae-b25a-47aa73b41b5a",
   "metadata": {},
   "source": [
    "Alternatively, you can write your article or post in your favourite markdown editor, and pass it in as a file.\n",
    "\n",
    "```python\n",
    "import datapane as dp\n",
    "\n",
    "...\n",
    "\n",
    "dp.Report(\n",
    "  dp.Text(file=\"./my_blogpost.md\").format(plot=points)\n",
    ")\n",
    "```\n",
    "\n",
    "## Formulas\n",
    "\n",
    "The formula block allows you easily to add [_LaTeX_](https://en.wikipedia.org/wiki/LaTeX)-formatted equations to your report, with an optional caption. A brief intro into _LaTeX_ formulas can be found [here](https://en.wikibooks.org/wiki/LaTeX/Mathematics).&#x20;"
   ]
  },
  {
   "cell_type": "code",
   "execution_count": 7,
   "id": "357ad751-aa89-4af8-bf3c-000f898889ac",
   "metadata": {
    "tags": [
     "remove_all_output"
    ]
   },
   "outputs": [
    {
     "data": {
      "text/markdown": [
       "Report saved to ./formula.html"
      ],
      "text/plain": [
       "<IPython.core.display.Markdown object>"
      ]
     },
     "metadata": {},
     "output_type": "display_data"
    }
   ],
   "source": [
    "import datapane as dp\n",
    "\n",
    "report = dp.Report(dp.Formula(r\"\\frac{1}{\\sqrt{x^2 + 1}}\"))\n",
    "\n",
    "report.save(path=\"formula.html\")"
   ]
  },
  {
   "cell_type": "code",
   "execution_count": 8,
   "id": "3cc9b2d2-e5eb-4043-8ebc-ff69b58e87e2",
   "metadata": {
    "tags": [
     "remove_input"
    ]
   },
   "outputs": [
    {
     "data": {
      "text/html": [
       "<a href=\"/tutorials/blocks/formula.html\"><img src=\"/tutorials/blocks/formula-preview.png\"></a>"
      ],
      "text/plain": [
       "<IPython.core.display.HTML object>"
      ]
     },
     "metadata": {},
     "output_type": "display_data"
    }
   ],
   "source": [
    "from dpdocsutils import previews\n",
    "previews.embed_local_report('/tutorials/blocks/formula.html', width=\"100%\", height=120)"
   ]
  },
  {
   "cell_type": "markdown",
   "id": "954747ec-aa04-4027-9bb3-7c4fa36e6c30",
   "metadata": {},
   "source": [
    "!!! info \n",
    "\n",
    "    _LaTeX_ formulas commonly make use of special characters, hence prefix your formulas with `r` in Python as per the example above to make them raw strings, e.g. `r\"x^2\"`\n",
    "\n",
    "Under the hood we use MathJAX to render the equations in the browser and not a full TeX engine. This means that some of your TeX input may not be rendered correctly on our system - read the [MathJAX documentation](http://docs.mathjax.org/en/latest/input/tex/differences.html) for more info.&#x20;\n",
    "\n",
    "## Code\n",
    "\n",
    "The code block allows you to embed syntax highlighted source code into your report. This block currently supports Python and JavaScript.\n"
   ]
  },
  {
   "cell_type": "code",
   "execution_count": 9,
   "id": "42adc689-fff8-4983-8074-6d56b1832ae3",
   "metadata": {
    "tags": [
     "remove_all_output"
    ]
   },
   "outputs": [
    {
     "data": {
      "text/markdown": [
       "Report saved to ./code.html"
      ],
      "text/plain": [
       "<IPython.core.display.Markdown object>"
      ]
     },
     "metadata": {},
     "output_type": "display_data"
    }
   ],
   "source": [
    "import datapane as dp\n",
    "\n",
    "code = \"\"\"\n",
    "function foo(n) {\n",
    "  return foo(n + 1)\n",
    "}\n",
    "\"\"\"\n",
    "\n",
    "report = dp.Report(dp.Code(code=code, language=\"javascript\"))\n",
    "report.save(path=\"code.html\")"
   ]
  },
  {
   "cell_type": "code",
   "execution_count": 10,
   "id": "336518cf-5dcc-4aed-ba38-776aedb6b6e4",
   "metadata": {
    "tags": [
     "remove_input"
    ]
   },
   "outputs": [
    {
     "data": {
      "text/html": [
       "<a href=\"/tutorials/blocks/code.html\"><img src=\"/tutorials/blocks/code-preview.png\"></a>"
      ],
      "text/plain": [
       "<IPython.core.display.HTML object>"
      ]
     },
     "metadata": {},
     "output_type": "display_data"
    }
   ],
   "source": [
    "from dpdocsutils import previews\n",
    "previews.embed_local_report('/tutorials/blocks/code.html', width=\"100%\", height=200)"
   ]
  },
  {
   "cell_type": "markdown",
   "id": "e3868833-f890-444b-8226-61380aff3528",
   "metadata": {},
   "source": [
    "## HTML\n",
    "\n",
    "The HTML block allows you to add raw HTML to your report,  allowing for highly customized components, such as your company's brand, logo, and more.\n",
    "\n",
    "!!! info \n",
    "    \n",
    "    The HTML component is sandboxed and cannot execute JavaScript."
   ]
  },
  {
   "cell_type": "code",
   "execution_count": 11,
   "id": "b1dbb744-1cc3-4cc9-9b11-929b92fef11b",
   "metadata": {
    "tags": [
     "remove_all_output"
    ]
   },
   "outputs": [
    {
     "data": {
      "text/markdown": [
       "Report saved to ./html.html"
      ],
      "text/plain": [
       "<IPython.core.display.Markdown object>"
      ]
     },
     "metadata": {},
     "output_type": "display_data"
    }
   ],
   "source": [
    "import datapane as dp\n",
    "\n",
    "html = \"\"\"\n",
    "<html>\n",
    "    <style type='text/css'>\n",
    "        @keyframes example {\n",
    "            0%   {color: #EEE;}\n",
    "            25%  {color: #EC4899;}\n",
    "            50%  {color: #8B5CF6;}\n",
    "            100% {color: #EF4444;}\n",
    "        }\n",
    "        #container {\n",
    "            background: #1F2937;\n",
    "            padding: 10em;\n",
    "        }\n",
    "        h1 {\n",
    "            color:#eee;\n",
    "            animation-name: example;\n",
    "            animation-duration: 4s;\n",
    "            animation-iteration-count: infinite;\n",
    "        }\n",
    "    </style>\n",
    "    <div id=\"container\">\n",
    "      <h1> Welcome to my Report </h1>\n",
    "    </div>\n",
    "</html>\n",
    "\"\"\"\n",
    "\n",
    "report = dp.Report(dp.HTML(html))\n",
    "\n",
    "report.save(path=\"html.html\")"
   ]
  },
  {
   "cell_type": "code",
   "execution_count": 12,
   "id": "9626d2ae-fe4d-40ea-a2e3-c0ce0b916422",
   "metadata": {
    "tags": [
     "remove_input"
    ]
   },
   "outputs": [
    {
     "data": {
      "text/html": [
       "<a href=\"/tutorials/blocks/html.html\"><img src=\"/tutorials/blocks/html-preview.png\"></a>"
      ],
      "text/plain": [
       "<IPython.core.display.HTML object>"
      ]
     },
     "metadata": {},
     "output_type": "display_data"
    }
   ],
   "source": [
    "from dpdocsutils import previews\n",
    "previews.embed_local_report('/tutorials/blocks/html.html', width=\"100%\", height=600)"
   ]
  }
 ],
 "metadata": {
  "language_info": {
   "name": "python"
  }
 },
 "nbformat": 4,
 "nbformat_minor": 5
}
