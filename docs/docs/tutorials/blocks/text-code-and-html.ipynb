{
 "cells": [
  {
   "cell_type": "markdown",
   "id": "56d8efe4-5611-4e81-9511-d18a2b570bfe",
   "metadata": {},
   "source": [
    "# Text, Formulas, Code, and HTML\n",
    "\n",
    "Datapane allows you to add markdown text to your reports, including helpers for creating text-heavy Python reports."
   ]
  }
 ],
 "metadata": {
  "kernelspec": {
   "display_name": "Python 3 (ipykernel)",
   "language": "python",
   "name": "python3"
  },
  "language_info": {
   "codemirror_mode": {
    "name": "ipython",
    "version": 3
   },
   "file_extension": ".py",
   "mimetype": "text/x-python",
   "name": "python",
   "nbconvert_exporter": "python",
   "pygments_lexer": "ipython3",
   "version": "3.10.5"
  }
 },
 "nbformat": 4,
 "nbformat_minor": 5
}
