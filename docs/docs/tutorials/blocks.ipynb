{
 "cells": [
  {
   "cell_type": "markdown",
   "id": "db79bf04-493d-488a-87f8-a365995c1f49",
   "metadata": {
    "tags": []
   },
   "source": [
    "# Adding blocks to your app\n",
    "\n",
    "In the previous section, we saw that apps are comprised of multiple Blocks, which wrap up Python objects, such as Pandas DataFrames, Visualisations, and Markdown. Datapane also includes layout blocks to add tabs, pages, and interactive selects to your apps. \n",
    "\n",
    "!!! Request a new block\n",
    "    We are always adding new blocks, and if you have some ideas on what you would like to use in your apps, please suggest one on our [Feedback Portal](https://datapane.nolt.io)\n",
    "\n",
    "Datapane supports the following Blocks. More in-depth documentation is provided in our [blocks catalog](/catalogs/blocks).\n",
    "\n",
    "## Block types\n",
    "\n",
    "- [Tables and data](/catalogs/blocks/#tables-and-data)\n",
    "    - `dp.BigNumber`\n",
    "    - `dp.DataTable`\n",
    "    - `dp.Table`\n",
    "    \n",
    "- [Plots and visualizations](/catalogs/blocks/#plots-and-visualizations)\n",
    "    - `dp.Plot`\n",
    "\n",
    "- [Text and HTML](/catalogs/blocks/#text-and-html)\n",
    "    - `dp.Code`\n",
    "    - `dp.Formula`\n",
    "    - `dp.HTML`\n",
    "    - `dp.Text`\n",
    "\n",
    "- [Layout and pages](/catalogs/blocks/#layout-and-pages)\n",
    "    - `dp.Divider`\n",
    "    - `dp.Group`\n",
    "    - `dp.Page`\n",
    "    - `dp.Select`\n",
    "    - `dp.SelectType`\n",
    "    - `dp.Toggle`\n",
    "\n",
    "- [Media and embeds](/catalogs/blocks/#media-and-embeds)\n",
    "    - `dp.Media`\n",
    "    - `dp.Attachment`\n",
    "    - `dp.Embed`\n",
    "\n",
    "## Nesting of Blocks\n",
    "\n",
    "Except for Page blocks, every block can be nested inside a layout block, meaning you can build arbitrarily complex apps. In addition, most blocks take optional `name` and `caption` parameters and display those to your viewers. \n",
    "\n",
    "## Default Block Handling\n",
    "\n",
    "As well as explicitly specifying your block type (for instance, by using `dp.Plot`), Datapane will try and choose the best block for your object if you pass it in directly, for instance as follows:"
   ]
  },
  {
   "cell_type": "code",
   "execution_count": null,
   "id": "55b19298-aadb-44e4-8cd8-01c582785eda",
   "metadata": {
    "tags": [
     "remove_all_output"
    ]
   },
   "outputs": [],
   "source": [
    "import datapane as dp\n",
    "import pandas as pd\n",
    "\n",
    "d = {'col1': [1, 2], 'col2': [3, 4]}\n",
    "df = pd.DataFrame(data=d)\n",
    "\n",
    "app = dp.App(\n",
    "  df,\n",
    "  \"This is text\"\n",
    ")\n",
    "\n",
    "app.save(\"default-block-handling.html\")"
   ]
  },
  {
   "cell_type": "code",
   "execution_count": null,
   "id": "2329ddda-457a-4230-ad90-31a0fab7580f",
   "metadata": {
    "tags": [
     "remove_input"
    ]
   },
   "outputs": [],
   "source": [
    "from dpdocsutils import previews\n",
    "previews.embed_local_app('/tutorials/default-block-handling.html', width=\"100%\", height=240)"
   ]
  },
  {
   "cell_type": "markdown",
   "id": "a748453d-8cd3-42c1-a53b-2c8ff1c2a633",
   "metadata": {},
   "source": [
    "&#x20;The defaults are as follows:\n",
    "\n",
    "| Object Type           | Datapane Block |\n",
    "| --------------------- | -------------- |\n",
    "| pandas DataFrame      | `dp.Table` (up to 100 cells),<br> `dp.DataTable` (over 100 cells) |\n",
    "| string                | `dp.Text`      |\n",
    "| Altair                | `dp.Plot`      |\n",
    "| Bokeh                 | `dp.Plot`      |\n",
    "| Folium                | `dp.Plot`      |\n",
    "| Matplotlib / Seaborn  | `dp.Plot`      |\n",
    "| Plotapi               | `dp.Plot`      |\n",
    "| Plotly                | `dp.Plot`      |"
   ]
  }
 ],
 "metadata": {
  "language_info": {
   "name": "python"
  }
 },
 "nbformat": 4,
 "nbformat_minor": 5
}
