{
 "cells": [
  {
   "cell_type": "markdown",
   "id": "f16a9526-df31-4c34-a149-50a37093aa7c",
   "metadata": {},
   "source": [
    "# App notifications\n",
    "\n",
    "[:octicons-organization-16: Enterprise feature](){.org}\n",
    "\n",
    "Datapane allows you to share copies of your app via email. To use this, go to your app Settings -> Email Recipients and enter your recipient email addresses. When you click 'Send Email Now' recipients will receive an email with a screenshot of the app plus a link back to the hosted app:&#x20;\n",
    "\n",
    "![](../../img/tutorials/app-notifications-1.png)\n",
    "\n",
    "!!! info\n",
    "    \n",
    "    App notifications are the only way to share **private** app on Datapane Enterprise, but they can also be used to share **default** and **portfolio** app.&#x20;\n",
    "\n",
    "## Scheduled app notifications\n",
    "\n",
    "[:octicons-organization-16: Enterprise feature](){.org}\n",
    "\n",
    "If you have an app that you need delivered to stakeholders regularly e.g. a weekly sales report, Datapane Enterprise allows you to email recipients each time the app is updated.&#x20;\n",
    "\n",
    "The mechanism is the same as for Community, except in addition to the 'Send Email Now' button, recipients will receive an email each time the app is updated.&#x20;\n",
    "\n",
    "To learn how to schedule an app to update, check out our section on scheduling:&#x20;\n",
    "\n",
    "\n",
    "[Scheduling app runs](/tutorials/apps/scheduling){ .md-button }\n",
    "\n"
   ]
  }
 ],
 "metadata": {
  "language_info": {
   "name": "python"
  }
 },
 "nbformat": 4,
 "nbformat_minor": 5
}
