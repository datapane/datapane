{
 "cells": [
  {
   "cell_type": "markdown",
   "id": "e7778e85-2b10-499a-9679-77f6ba5a3ffc",
   "metadata": {},
   "source": [
    "# Styling\n",
    "\n",
    "Keen to mix up your report? You can change the font, background colour and text alignment to match your brand guidelines or personal aesthetics. There are two methods for doing this: via the API, and via the Report Settings page.&#x20;\n",
    "\n",
    "## Python API\n",
    "\n",
    "When you create a report, you can **** override the default styling properties by passing in a `ReportFormatting` object as follows:&#x20;"
   ]
  },
  {
   "cell_type": "code",
   "execution_count": 1,
   "id": "d8e7722f-12af-46dc-be22-fac40625db61",
   "metadata": {
    "tags": [
     "remove_all_output"
    ]
   },
   "outputs": [
    {
     "data": {
      "text/markdown": [
       "Report saved to ./styling-python-api.html"
      ],
      "text/plain": [
       "<IPython.core.display.Markdown object>"
      ]
     },
     "metadata": {},
     "output_type": "display_data"
    }
   ],
   "source": [
    "import datapane as dp\n",
    "\n",
    "report = dp.Report(\"Test Report\")\n",
    "\n",
    "report.save(\n",
    "    path=\"styling-python-api.html\",\n",
    "    formatting=dp.ReportFormatting(\n",
    "        light_prose=False,\n",
    "        accent_color=\"orange\",\n",
    "        bg_color=\"#EEE\",\n",
    "        text_alignment=dp.TextAlignment.RIGHT,\n",
    "        font=dp.FontChoice.MONOSPACE,\n",
    "        width=dp.ReportWidth.MEDIUM,\n",
    "    ),\n",
    ")"
   ]
  },
  {
   "cell_type": "code",
   "execution_count": 2,
   "id": "b0374e3a-9fbe-4775-a862-25f5456ad374",
   "metadata": {
    "tags": [
     "remove_input"
    ]
   },
   "outputs": [
    {
     "data": {
      "text/html": [
       "<a href=\"/tutorials/styling/styling-python-api.html\"><img src=\"/tutorials/styling/styling-python-api-preview.png\"></a>"
      ],
      "text/plain": [
       "<IPython.core.display.HTML object>"
      ]
     },
     "metadata": {},
     "output_type": "display_data"
    }
   ],
   "source": [
    "from dpdocsutils import previews\n",
    "previews.embed_local_report('/tutorials/styling/styling-python-api.html', width=\"100%\", height=120)"
   ]
  },
  {
   "cell_type": "markdown",
   "id": "556551c7-bfb7-410b-b068-425b95c97a64",
   "metadata": {},
   "source": [
    "There are currently six styling properties supported:&#x20;\n",
    "\n",
    "**1.Light Prose**\n",
    "\n",
    "Boolean which controls whether the text appears as light (good for dark mode), or dark (default).&#x20;\n",
    "\n",
    "**2. Accent Colour**\n",
    "\n",
    "Controls the colour of certain UI elements e.g. page titles, selects, DataTable headings. Can be any of the [140 CSS colour names](https://htmlcolorcodes.com/color-names/) or an RGB hex code. &#x20;\n",
    "\n",
    "**3. Background Colour**\n",
    "\n",
    "Controls the background colour of the page.  Can be any of the [140 CSS colour names](https://htmlcolorcodes.com/color-names/) or an RGB hex code. &#x20;\n",
    "\n",
    "**4. Text Alignment**\n",
    "\n",
    "Controls how the text is aligned - can be any of `JUSTIFY`, `LEFT` (default),   `RIGHT`, `CENTER`.&#x20;\n",
    "\n",
    "**5. Font**\n",
    "\n",
    "Controls the font for the prose text - can be any of `DEFAULT`, `SANS`, `SERIF`, `MONOSPACE`.&#x20;\n",
    "\n",
    "6\\. **Width**&#x20;\n",
    "\n",
    "Controls the horizontal width of the report - can be any of `NARROW`, `MEDIUM` (default), `FULL`.&#x20;\n",
    "\n",
    "## Report Settings Page\n",
    "\n",
    "You can also edit these properties through the Visual Settings section of the Report Settings page.&#x20;\n",
    "\n",
    "![](../../img/tutorials/styling-4.png)\n",
    "\n",
    "You'll see a CSS block here, where you can edit the default values. The same options apply as specified for the Python API above.&#x20;\n",
    "\n",
    "```css\n",
    ":root {\n",
    "    --dp-accent-color: #4E46E5;\n",
    "    --dp-bg-color: #FFF;\n",
    "    --dp-text-align: justify;\n",
    "    --dp-font-family: Inter var, ui-sans-serif, system-ui;\n",
    "}\n",
    "```\n",
    "\n",
    "!!! info\n",
    "    \n",
    "    **Datapane Teams** users have additional functionality for loading in custom fonts and header images into a global styling block that applies to all reports. To learn more, check out the section on [Styling and Whitelabelling](/tutorials/styling/global-styling).&#x20;"
   ]
  }
 ],
 "metadata": {
  "language_info": {
   "name": "python"
  }
 },
 "nbformat": 4,
 "nbformat_minor": 5
}
