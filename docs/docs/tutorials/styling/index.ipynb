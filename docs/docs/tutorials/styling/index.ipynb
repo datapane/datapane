{
 "cells": [
  {
   "cell_type": "markdown",
   "id": "bb8bcb32-79fc-4ea6-a9b7-64a58d78ab46",
   "metadata": {},
   "source": [
    "# Styling and Editing\n",
    "\n",
    "!!! info\n",
    "\n",
    "    You'll need to be logged into [Datapane.com](http://datapane.com) or your Teams instance to use this feature - it is not currently supported in the open-source version.\n",
    "\n",
    "‌One of the challenges of building reports is the dependence on a Python environment. Datapane now allows you to create and edit reports directly on our server, meaning it's much easier to onboard non-technical users and make small changes to existing reports.\n",
    "\n",
    "Our web editor can be used on any of your existing reports - just click 'Edit' and you'll see a side-by-side view with the left hand side showing the report XML structure, and the right hand side showing a report preview. You can then edit the XML to update the report.&#x20;\n",
    "\n",
    "![](../../img/tutorials/styling-1.png)\n",
    "\n",
    "You can also create a report directly on Datapane.com by clicking the '[Create Report](https://datapane.com/report-from-template/)' button.&#x20;\n",
    "\n",
    "## **Inserting blocks**\n",
    "\n",
    "You can enrich your report by adding special blocks (click 'Insert Blocks'). For example, clicking on the Formula block will insert the following snippet into the web editor:\n",
    "\n",
    "```xml\n",
    "<Formula>[[x^2 + y^2 = z^2]]</Formula>\n",
    "```\n",
    "\n",
    "When you click 'Preview', you'll see this display as follows:&#x20;\n",
    "\n",
    "![](../../img/tutorials/styling-2.png)\n",
    "\n",
    "You can edit the content inside the blocks to add additional parameters like `name,`as well as block-specific parameters. For example, here's a group with 2 columns:&#x20;\n",
    "\n",
    "```xml\n",
    "<Group columns=\"2\", label=\"My_group\">\n",
    "      ...\n",
    "</Group>\n",
    "```\n",
    "\n",
    "#### Empty block\n",
    "\n",
    "If you need a placeholder for a chart that you'll upload from Python later, use the `empty` block. The editor will auto-generate a `name` which you can modify, and then push up assets to from Python (see next section).&#x20;\n",
    "\n",
    "### Uploading Blocks from Python\n",
    "\n",
    "Once you've created a report, you'll probably want to add some interactive plots and data from Python. You'll need the report`ID,` which you can find in the URL or in the editor bar by clicking `Insert Assets from Python`:&#x20;\n",
    "\n",
    "![](../../img/tutorials/styling-3.png)\n",
    "\n",
    "There are two ways to push up assets to an existing report from Python:&#x20;\n",
    "\n",
    "#### **1. `report.upload`**\n",
    "\n",
    "This does a full refresh of everything in your report, overwriting any changes you may have made in the web editor - here's an example:&#x20;"
   ]
  },
  {
   "cell_type": "code",
   "execution_count": 1,
   "id": "06470d26-7e00-420f-82dc-0d435bc910d8",
   "metadata": {
    "tags": [
     "remove_all_output"
    ]
   },
   "outputs": [
    {
     "data": {
      "text/markdown": [
       "Uploading report and associated data - *please wait...*"
      ],
      "text/plain": [
       "<IPython.core.display.Markdown object>"
      ]
     },
     "metadata": {},
     "output_type": "display_data"
    },
    {
     "data": {
      "text/markdown": [
       "Your report only contains a single element - did you know you can include additional plots, tables and text in a single report? More info <a href='https://docs.datapane.com/reports/blocks/layout-pages-and-selects' target='_blank'>here</a>"
      ],
      "text/plain": [
       "<IPython.core.display.Markdown object>"
      ]
     },
     "metadata": {},
     "output_type": "display_data"
    },
    {
     "data": {
      "text/markdown": [
       "Report successfully uploaded. View and share your report <a href='https://datapane.com/reports/0kewMv3/xxxxxx/' target='_blank'>here</a>, or edit your report <a href='https://datapane.com/reports/0kewMv3/xxxxxx/edit/' target='_blank'>here</a>."
      ],
      "text/plain": [
       "<IPython.core.display.Markdown object>"
      ]
     },
     "metadata": {},
     "output_type": "display_data"
    }
   ],
   "source": [
    "import datapane as dp\n",
    "import altair as alt\n",
    "from vega_datasets import data\n",
    "\n",
    "source = data.cars()\n",
    "\n",
    "plot1 = (\n",
    "    alt.Chart(source)\n",
    "    .mark_circle(size=60)\n",
    "    .encode(\n",
    "        x=\"Horsepower\",\n",
    "        y=\"Miles_per_Gallon\",\n",
    "        color=\"Origin\",\n",
    "        tooltip=[\"Name\", \"Origin\", \"Horsepower\", \"Miles_per_Gallon\"],\n",
    "    )\n",
    "    .interactive()\n",
    ")\n",
    "\n",
    "\n",
    "report = dp.Report(\n",
    "    dp.Text(\"## Simple Datapane Report with plot and table\"),\n",
    "    dp.Plot(plot1),\n",
    "    dp.DataTable(source),\n",
    ")\n",
    "\n",
    "report.upload(name=\"XXXXXX\")"
   ]
  },
  {
   "cell_type": "markdown",
   "id": "be58f1cc-7d15-45ac-9d4a-68ffdd470045",
   "metadata": {},
   "source": [
    "!!! warning\n",
    "    \n",
    "    Be careful when using this option as you will lose any changes you've made on the web editor.&#x20;\n",
    "\n",
    "**2. `report.update_assets`**\n",
    "\n",
    "This does a selective update of particular assets after you have already created a report. You'll need to give these assets a `name` and then pass them into a call to `report.update_assets` as follows:&#x20;"
   ]
  },
  {
   "cell_type": "code",
   "execution_count": 2,
   "id": "0f6353a5-2aee-4b53-acfb-d820eb15612f",
   "metadata": {
    "tags": [
     "remove_all_output"
    ]
   },
   "outputs": [
    {
     "data": {
      "text/markdown": [
       "Uploading report and associated data - *please wait...*"
      ],
      "text/plain": [
       "<IPython.core.display.Markdown object>"
      ]
     },
     "metadata": {},
     "output_type": "display_data"
    },
    {
     "data": {
      "text/markdown": [
       "Your report only contains a single element - did you know you can include additional plots, tables and text in a single report? More info <a href='https://docs.datapane.com/reports/blocks/layout-pages-and-selects' target='_blank'>here</a>"
      ],
      "text/plain": [
       "<IPython.core.display.Markdown object>"
      ]
     },
     "metadata": {},
     "output_type": "display_data"
    },
    {
     "data": {
      "text/markdown": [
       "Report successfully uploaded. View and share your report <a href='https://datapane.com/reports/63OXYR7/hello-world/' target='_blank'>here</a>, or edit your report <a href='https://datapane.com/reports/63OXYR7/hello-world/edit/' target='_blank'>here</a>."
      ],
      "text/plain": [
       "<IPython.core.display.Markdown object>"
      ]
     },
     "metadata": {},
     "output_type": "display_data"
    },
    {
     "data": {
      "text/markdown": [
       "Your report only contains a single element - did you know you can include additional plots, tables and text in a single report? More info <a href='https://docs.datapane.com/reports/blocks/layout-pages-and-selects' target='_blank'>here</a>"
      ],
      "text/plain": [
       "<IPython.core.display.Markdown object>"
      ]
     },
     "metadata": {},
     "output_type": "display_data"
    },
    {
     "data": {
      "text/markdown": [
       "Successfully updated report assets  - you can edit and format <a href='https://datapane.com/reports/63OXYR7/hello-world/edit/' target='_blank'>here</a>, and view the final report <a href='https://datapane.com/reports/63OXYR7/hello-world/' target='_blank'>here</a>"
      ],
      "text/plain": [
       "<IPython.core.display.Markdown object>"
      ]
     },
     "metadata": {},
     "output_type": "display_data"
    },
    {
     "data": {
      "text/plain": [
       "Uploaded Report - view at https://datapane.com/reports/63OXYR7/hello-world/"
      ]
     },
     "execution_count": 2,
     "metadata": {},
     "output_type": "execute_result"
    }
   ],
   "source": [
    "import datapane as dp\n",
    "import altair as alt\n",
    "from vega_datasets import data\n",
    "\n",
    "source = data.cars()\n",
    "\n",
    "plot1 = (\n",
    "    alt.Chart(source)\n",
    "    .mark_circle(size=60)\n",
    "    .encode(\n",
    "        x=\"Horsepower\",\n",
    "        y=\"Miles_per_Gallon\",\n",
    "        color=\"Origin\",\n",
    "        tooltip=[\"Name\", \"Origin\", \"Horsepower\", \"Miles_per_Gallon\"],\n",
    "    )\n",
    "    .interactive()\n",
    ")\n",
    "\n",
    "report = dp.Report(\n",
    "    dp.Text(\"## Simple Datapane Report with plot and table\"),\n",
    "    dp.Plot(plot1, name=\"plot1\"),\n",
    "    dp.DataTable(source, name=\"source_df\"),\n",
    ")\n",
    "\n",
    "# First report upload\n",
    "report.upload(name=\"Hello world\")\n",
    "\n",
    "# Make some changes to the datatable and update it selectively\n",
    "source = source[source.Origin == \"USA\"]\n",
    "report.update_assets(source_df=source)"
   ]
  }
 ],
 "metadata": {
  "language_info": {
   "name": "python"
  }
 },
 "nbformat": 4,
 "nbformat_minor": 5
}
