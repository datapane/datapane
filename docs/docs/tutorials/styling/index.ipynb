{
 "cells": [
  {
   "cell_type": "markdown",
   "id": "e7778e85-2b10-499a-9679-77f6ba5a3ffc",
   "metadata": {},
   "source": [
    "Keen to mix up your app? You can change the font, background colour and text alignment to match your brand guidelines or personal aesthetics. There are two methods for doing this: via the API, and via the App Settings page.&#x20;\n",
    "\n",
    "## Python API\n",
    "\n",
    "When you create an app, you can override the default styling properties by passing in a `AppFormatting` object as follows:&#x20;"
   ]
  },
  {
   "cell_type": "code",
   "execution_count": null,
   "id": "d8e7722f-12af-46dc-be22-fac40625db61",
   "metadata": {
    "tags": [
     "remove_all_output"
    ]
   },
   "outputs": [],
   "source": [
    "import datapane as dp\n",
    "\n",
    "app = dp.App(\"Test App\")\n",
    "\n",
    "app.save(\n",
    "    path=\"styling-python-api.html\",\n",
    "    formatting=dp.AppFormatting(\n",
    "        light_prose=False,\n",
    "        accent_color=\"orange\",\n",
    "        bg_color=\"#EEE\",\n",
    "        text_alignment=dp.TextAlignment.RIGHT,\n",
    "        font=dp.FontChoice.MONOSPACE,\n",
    "        width=dp.AppWidth.MEDIUM,\n",
    "    ),\n",
    ")"
   ]
  },
  {
   "cell_type": "code",
   "execution_count": null,
   "id": "b0374e3a-9fbe-4775-a862-25f5456ad374",
   "metadata": {
    "tags": [
     "remove_input"
    ]
   },
   "outputs": [],
   "source": [
    "from dpdocsutils import previews\n",
    "previews.embed_local_app('/tutorials/styling/styling-python-api.html', width=\"100%\", height=120)"
   ]
  },
  {
   "cell_type": "markdown",
   "id": "556551c7-bfb7-410b-b068-425b95c97a64",
   "metadata": {},
   "source": [
    "There are currently six styling properties supported:&#x20;\n",
    "\n",
    "**1.Light Prose**\n",
    "\n",
    "Boolean which controls whether the text appears as light (good for dark mode), or dark (default).&#x20;\n",
    "\n",
    "**2. Accent Colour**\n",
    "\n",
    "Controls the colour of certain UI elements e.g. page titles, selects, DataTable headings. Can be any of the [140 CSS colour names](https://htmlcolorcodes.com/color-names/) or an RGB hex code. &#x20;\n",
    "\n",
    "**3. Background Colour**\n",
    "\n",
    "Controls the background colour of the page.  Can be any of the [140 CSS colour names](https://htmlcolorcodes.com/color-names/) or an RGB hex code. &#x20;\n",
    "\n",
    "**4. Text Alignment**\n",
    "\n",
    "Controls how the text is aligned - can be any of `JUSTIFY`, `LEFT` (default),   `RIGHT`, `CENTER`.&#x20;\n",
    "\n",
    "**5. Font**\n",
    "\n",
    "Controls the font for the prose text - can be any of `DEFAULT`, `SANS`, `SERIF`, `MONOSPACE`.&#x20;\n",
    "\n",
    "6\\. **Width**&#x20;\n",
    "\n",
    "Controls the horizontal width of the app - can be any of `NARROW`, `MEDIUM` (default), `FULL`.&#x20;\n",
    "\n",
    "### Layout\n",
    "\n",
    "Although you are probably analyzing data in a list of sequential steps, it may not the best way to present results -- especially if you are sharing with people who are used to a traditional dashboard or BI tool.\n",
    "\n",
    "Datapane's app library [provides blocks](/catalogs/blocks/#layout-and-pages) which allow for more flexible grid-style layouts, multiple pages, tabs, and selects, which allows you to create powerful custom interfaces without knowledge of HTML or CSS.\n",
    "\n",
    "## App Settings Page\n",
    "\n",
    "You can also edit these properties through the Visual Settings section of the App Settings page.&#x20;\n",
    "\n",
    "![](../../img/tutorials/styling-4.png){.docs-image}\n",
    "\n",
    "You'll see a CSS block here, where you can edit the default values. The same options apply as specified for the Python API above.&#x20;\n",
    "\n",
    "```css\n",
    ":root {\n",
    "    --dp-accent-color: #4E46E5;\n",
    "    --dp-bg-color: #FFF;\n",
    "    --dp-text-align: justify;\n",
    "    --dp-font-family: Inter var, ui-sans-serif, system-ui;\n",
    "}\n",
    "```\n"
   ]
  }
 ],
 "metadata": {
  "language_info": {
   "name": "python"
  }
 },
 "nbformat": 4,
 "nbformat_minor": 5
}
