{
 "cells": [
  {
   "cell_type": "markdown",
   "id": "f60a4f0b-ec94-42bd-8e0a-c3ace45c4c77",
   "metadata": {},
   "source": [
    "# Adding Source Code\n",
    "\n",
    "## Introduction\n",
    "\n",
    "Ever checked out a cool report and wondered how it is built? Datapane now allows you to add your source code to a report so that others can reproduce and build on it. \n",
    "\n",
    "![](../../img/tutorials/adding-source-code-1.png)\n",
    "\n",
    "If you're using the Community version, it's a great way to build an audience. For Datapane Teams, it helps to democratize data and empower your team to build their own reports. \n",
    "\n",
    "!!! info\n",
    "    \n",
    "    This feature is available for Datapane version 0.11.11 or later\n",
    "\n",
    "## Adding Source code\n",
    "\n",
    "In the report settings page, attach a static file \\(we only support `.ipynb` at present\\) or a link to a repo: \n",
    "\n",
    "![](../../img/tutorials/adding-source-code-2.png)\n",
    "\n",
    "You can also do this via the Python API through the `source_url` or `source_file` parameters as follows: \n",
    "\n",
    "### File"
   ]
  },
  {
   "cell_type": "code",
   "execution_count": 1,
   "id": "a46c43cd-c6fd-497c-a9bf-2cf141ede2cb",
   "metadata": {
    "tags": [
     "remove_all_output"
    ]
   },
   "outputs": [
    {
     "data": {
      "text/markdown": [
       "Uploading report and associated data - *please wait...*"
      ],
      "text/plain": [
       "<IPython.core.display.Markdown object>"
      ]
     },
     "metadata": {},
     "output_type": "display_data"
    },
    {
     "data": {
      "text/markdown": [
       "Your report only contains a single element - did you know you can include additional plots, tables and text in a single report? More info <a href='https://docs.datapane.com/reports/blocks/layout-pages-and-selects' target='_blank'>here</a>"
      ],
      "text/plain": [
       "<IPython.core.display.Markdown object>"
      ]
     },
     "metadata": {},
     "output_type": "display_data"
    },
    {
     "data": {
      "text/markdown": [
       "Report successfully uploaded. View and share your report <a href='https://datapane.com/reports/VkBWm4A/report-example-file/' target='_blank'>here</a>, or edit your report <a href='https://datapane.com/reports/VkBWm4A/report-example-file/edit/' target='_blank'>here</a>."
      ],
      "text/plain": [
       "<IPython.core.display.Markdown object>"
      ]
     },
     "metadata": {},
     "output_type": "display_data"
    }
   ],
   "source": [
    "import datapane as dp\n",
    "\n",
    "report = dp.Report(\"Example report\")\n",
    "report.upload(name=\"report_example_file\", source_file=\"adding-source-code.ipynb\")"
   ]
  },
  {
   "cell_type": "markdown",
   "id": "5addd116-7e88-40a5-9e3a-9e43319fd42c",
   "metadata": {},
   "source": [
    "### URL"
   ]
  },
  {
   "cell_type": "code",
   "execution_count": 2,
   "id": "c8b684c5-9901-41ad-b3c5-1978a3b935ef",
   "metadata": {
    "tags": [
     "remove_all_output"
    ]
   },
   "outputs": [
    {
     "data": {
      "text/markdown": [
       "Uploading report and associated data - *please wait...*"
      ],
      "text/plain": [
       "<IPython.core.display.Markdown object>"
      ]
     },
     "metadata": {},
     "output_type": "display_data"
    },
    {
     "data": {
      "text/markdown": [
       "Your report only contains a single element - did you know you can include additional plots, tables and text in a single report? More info <a href='https://docs.datapane.com/reports/blocks/layout-pages-and-selects' target='_blank'>here</a>"
      ],
      "text/plain": [
       "<IPython.core.display.Markdown object>"
      ]
     },
     "metadata": {},
     "output_type": "display_data"
    },
    {
     "data": {
      "text/markdown": [
       "Report successfully uploaded. View and share your report <a href='https://datapane.com/reports/E7PVeqA/report-example-url/' target='_blank'>here</a>, or edit your report <a href='https://datapane.com/reports/E7PVeqA/report-example-url/edit/' target='_blank'>here</a>."
      ],
      "text/plain": [
       "<IPython.core.display.Markdown object>"
      ]
     },
     "metadata": {},
     "output_type": "display_data"
    }
   ],
   "source": [
    "import datapane as dp\n",
    "\n",
    "report = dp.Report(\"Example report\")\n",
    "report.upload(name=\"report_example_URL\", source_url=\"https://github.com/datapane/datapane\")"
   ]
  },
  {
   "cell_type": "markdown",
   "id": "6f98a588-4991-4afe-a0c4-f5c9541d553a",
   "metadata": {},
   "source": [
    "!!! info\n",
    "\n",
    "    You can also include the name of the file you are currently working in!\n",
    "    \n",
    "When a viewer sees your report, they will see an option to 'View code'. Clicking on that option will show them the rendered notebook code - try it with the embedded report below! \n",
    "\n",
    "<iframe src=\"https://cdn.iframe.ly/DyY4y21\" width=\"100%\" height=1150 style=\"border:0\"></iframe>\n",
    "\n",
    "!!! warning\n",
    "    \n",
    "    Adding source code does not auto-refresh or execute your report. If you are interested in building a report that updates regularly, check out our section on [Automation](/tutorials/automation). \n",
    "\n",
    "## Excluding sensitive information\n",
    "\n",
    "If your notebook contains sensitive information that you don't want users to see e.g. secrets or tokens,  add the `exclude` tag to every notebook cell you want excluded. When you add this source file to your report, our backend will automatically remove those cells so your viewers can't see them. \n",
    "\n",
    "To do this in Jupyter, click 'View' -&gt; 'Cell Toolbar' -&gt; 'Tags'.  This will enable the tag toolbar, where you can type in `exclude` to add it as a tag. \n",
    "\n",
    "![](../../img/tutorials/adding-source-code-3.png)"
   ]
  }
 ],
 "metadata": {
  "language_info": {
   "name": "python"
  }
 },
 "nbformat": 4,
 "nbformat_minor": 5
}
