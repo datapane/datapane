{
 "cells": [
  {
   "cell_type": "markdown",
   "id": "f81ac805-abad-4e7d-a60b-ae9fdc183924",
   "metadata": {},
   "source": [
    "## App visibility and sharing\n",
    "\n",
    "Datapane Cloud provides a free platform for uploading apps, with the following options for app visibility: &#x20;\n",
    "\n",
    "1. **Private (Default):** By default apps are private when you upload them, and cannot be accessed by third-parties.\n",
    "2. **Public:** If you set an app to be public, anyone with the URL is able to access it.&#x20;\n",
    "\n",
    "You can set these via the App Settings page, or in Python as follows:&#x20;\n",
    "\n",
    "```python\n",
    "import datapane as dp\n",
    "\n",
    "app = dp.App(...)\n",
    "\n",
    "# Private App (Default)\n",
    "app.upload(name='private app', publicly_visible = False)\n",
    "\n",
    "# Public App\n",
    "app.upload(name='public app', publicly_visible = True)\n",
    "```\n",
    "\n",
    "## Embedding\n",
    "\n",
    "You can embed your apps across the web and in internal tools. When you upload an app to Datapane Cloud, you can embed it into other platforms, such as in these docs, or on other platforms like Medium and Notion using the publicly accessible URL—but only after you have allowed this in _App settings_.\n"
   ]
  }
 ],
 "metadata": {
  "language_info": {
   "name": "python"
  }
 },
 "nbformat": 4,
 "nbformat_minor": 5
}
