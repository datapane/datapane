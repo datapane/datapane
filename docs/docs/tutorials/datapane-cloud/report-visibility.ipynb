{
 "cells": [
  {
   "cell_type": "markdown",
   "id": "f81ac805-abad-4e7d-a60b-ae9fdc183924",
   "metadata": {},
   "source": [
    "## Report Visibility and Sharing\n",
    "\n",
    "Datapane Cloud provides a free platform for uploading reports, with the following options for report visibility: &#x20;\n",
    "\n",
    "1. **Private (Default):** By default reports are private when you upload them, and cannot be accessed by third-parties.\n",
    "2. **Public:** If you set a report to be public, anyone with the URL is able to access it.&#x20;\n",
    "\n",
    "You can set these via the Report Settings page, or in Python as follows:&#x20;\n",
    "\n",
    "```python\n",
    "import datapane as dp\n",
    "\n",
    "report = dp.Report(...)\n",
    "\n",
    "# Private Report (Default)\n",
    "report.upload(name='report', publicly_visible = False)\n",
    "\n",
    "# Public Report\n",
    "report.upload(name='default report', publicly_visible = True)\n",
    "```\n",
    "\n",
    "!!! info \n",
    "    \n",
    "    __[_Datapane Teams_](../../datapane-teams/introduction/) __ provides additional options to share reports securely across your company."
   ]
  }
 ],
 "metadata": {
  "language_info": {
   "name": "python"
  }
 },
 "nbformat": 4,
 "nbformat_minor": 5
}
