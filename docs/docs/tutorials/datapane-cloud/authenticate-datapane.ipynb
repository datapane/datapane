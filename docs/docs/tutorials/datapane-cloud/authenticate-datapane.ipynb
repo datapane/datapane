{
 "cells": [
  {
   "cell_type": "markdown",
   "id": "b9e28a10-fc8d-4822-a4d6-00046b011410",
   "metadata": {},
   "source": [
    "# Authentication\n",
    "\n",
    "First, we need to authenticate with Datapane Cloud.\n",
    "\n",
    "Datapane has a server component which you can access through the CLI and Python library and requires an authentication token. You can authenticate through either the CLI or the Python library, and all future requests will automatically be authenticated.\n",
    "\n",
    "## Datapane Cloud\n",
    "\n",
    "_Datapane Cloud_ is hosted on [datapane.com](https://datapane.com) and is available as a free server where you can upload reports. The API and CLI are configured to use this server by default. \n",
    "\n",
    "### Sign up\n",
    "\n",
    "You can sign up for a free account via [our website](https://datapane.com/accounts/signup) or via CLI:&#x20;\n",
    "\n",
    "```\n",
    "$ datapane signup\n",
    "```\n",
    "\n",
    "### Login\n",
    "\n",
    "After this, you'll see a code snippet with `datapane login` and your token. Login by running this code snippet or Python library using this key. All future requests from both the CLI and Python library will automatically be authenticated. Reports are unlisted by default, and you can share them publicly or privately (see [Report visibility](/tutorials/datapane-cloud/report-visibility/)).\n",
    "\n",
    "!!! info\n",
    "\n",
    "    If you need your API key in the future, you can find it in [your settings page](https://datapane.com/settings).\n",
    "\n",
    "=== \"CLI\"\n",
    "\n",
    "    ``` bash\n",
    "    $ datapane login\n",
    "    ```\n",
    "\n",
    "=== \"Python Library\"\n",
    "\n",
    "    ``` python\n",
    "    import datapane as dp\n",
    "    dp.login(token=your_token)\n",
    "    ```\n",
    "\n",
    "!!! info\n",
    "\n",
    "    You can also run `datapane login` without your token. If you're logged in to Datapane in your browser, you'll be prompted there to confirm automatically logging in using your API key without having to copy it over to the CLI.\n",
    "\n"
   ]
  }
 ],
 "metadata": {
  "language_info": {
   "name": "python"
  }
 },
 "nbformat": 4,
 "nbformat_minor": 5
}