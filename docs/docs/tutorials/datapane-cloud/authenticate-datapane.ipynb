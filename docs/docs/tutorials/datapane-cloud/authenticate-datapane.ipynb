{
 "cells": [
  {
   "cell_type": "markdown",
   "id": "b9e28a10-fc8d-4822-a4d6-00046b011410",
   "metadata": {},
   "source": [
    "# Authentication\n",
    "\n",
    "To host your app on Datapane Cloud, create a free API key and login using your local Datapane library.\n",
    "\n",
    "You can authenticate through either the CLI or the Python library, and all future requests will automatically be authenticated.\n",
    "\n",
    "## Sign up\n",
    "\n",
    "You can sign up for a free account:\n",
    "\n",
    "[Create a free account](https://cloud.datapane.com/accounts/signup){:target=\"\\_blank\" class=\"md-button\"}\n",
    "\n",
    "\n",
    "## Login\n",
    "\n",
    "After creating an account, you will be asked to name your workspace and invite any collaborators. From here, you will be presented with your API key which you can use to authenticate with Datapane Cloud.\n",
    "\n",
    "=== \"CLI\"\n",
    "\n",
    "    ``` bash\n",
    "    $ datapane login\n",
    "    ```\n",
    "\n",
    "=== \"Python Library\"\n",
    "\n",
    "    ``` python\n",
    "    import datapane as dp\n",
    "    dp.login(token=your_token)\n",
    "    ``` \n",
    "\n",
    "!!! info\n",
    "\n",
    "    You can also run `datapane login` without your token. If you're logged in to Datapane in your browser, you'll be prompted there to confirm automatically logging in using your API key without having to copy it over to the CLI.\n",
    "\n"
   ]
  }
 ],
 "metadata": {
  "kernelspec": {
   "display_name": "Python 3.10.6 ('.venv': poetry)",
   "language": "python",
   "name": "python3"
  },
  "language_info": {
   "name": "python",
   "version": "3.10.6"
  },
  "vscode": {
   "interpreter": {
    "hash": "103b2eecc55d22d440ced6cf4c8258d76471cae9af2e8386c0a9b39dba47672d"
   }
  }
 },
 "nbformat": 4,
 "nbformat_minor": 5
}
