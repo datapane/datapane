{
 "cells": [
  {
   "cell_type": "markdown",
   "id": "3d064553-12bd-4f34-a481-bf41f98a44b8",
   "metadata": {},
   "source": [
    "# Uploading and sharing\n",
    "\n",
    "This section coversuploading your app so you can share it with others.\n",
    "\n",
    "## Upload an app\n",
    "\n",
    "So far we've demonstrated how to build and view apps locally; however, one of the most powerful features of Datapane is the ability to upload your app straight from your code and share it directly with your team or the wider world.\n",
    "\n",
    "Once you've [logged in](/tutorials/datapane-cloud/authenticate-datapane/#datapane-cloud) to your chosen Datapane server, call `app.upload(name='your app name')` in your script and your app will be uploaded to your Datapane instance for viewing online. This will return the URL of the app that you can share.\n",
    "\n",
    "!!! info \n",
    "    \n",
    "    `App.upload` was previously called `App.publish.` The old syntax will still work but has been deprecated.&#x20;\n",
    "\n",
    "Let's see an example app uploaded to Datapane.com, with the `upload`syntax. Set the `open` boolean parameter to `True`  to open the app afterwards automatically, and add a `description` to change the preview text for your viewers.&#x20;"
   ]
  },
  {
   "cell_type": "code",
   "execution_count": null,
   "id": "1d267105-a53d-4571-8e99-7c4f9746f604",
   "metadata": {
    "tags": [
     "remove_all_output"
    ]
   },
   "outputs": [],
   "source": [
    "import altair as alt\n",
    "from vega_datasets import data\n",
    "import datapane as dp\n",
    "\n",
    "source = data.cars()\n",
    "\n",
    "plot1 = (\n",
    "    alt.Chart(source)\n",
    "    .mark_circle(size=60)\n",
    "    .encode(\n",
    "        x=\"Horsepower\",\n",
    "        y=\"Miles_per_Gallon\",\n",
    "        color=\"Origin\",\n",
    "        tooltip=[\"Name\", \"Origin\", \"Horsepower\", \"Miles_per_Gallon\"],\n",
    "    )\n",
    "    .interactive()\n",
    ")\n",
    "\n",
    "app = dp.App(dp.Plot(plot1), dp.DataTable(source))\n",
    "app.upload(name=\"My first app\", description=\"Testing out an Altair app\")"
   ]
  },
  {
   "cell_type": "markdown",
   "id": "c3a54097-d9f6-4545-82af-7381ae382d49",
   "metadata": {},
   "source": [
    "Once uploaded, you can share the link with others so they can view your app and comment on it. Public apps are viewable and shareable by default.\n"
   ]
  }
 ],
 "metadata": {
  "language_info": {
   "name": "python"
  }
 },
 "nbformat": 4,
 "nbformat_minor": 5
}
