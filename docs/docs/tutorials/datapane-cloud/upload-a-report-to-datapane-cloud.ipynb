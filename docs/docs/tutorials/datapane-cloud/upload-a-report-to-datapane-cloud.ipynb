{
 "cells": [
  {
   "cell_type": "markdown",
   "id": "3d064553-12bd-4f34-a481-bf41f98a44b8",
   "metadata": {},
   "source": [
    "# Uploading and sharing\n",
    "\n",
    "Uploading your report so you can share it with others.\n",
    "\n",
    "!!! info\n",
    "    \n",
    "    This feature requires use of the free _Datapane Cloud_ hosted platform or a private _Datapane Teams_ instance\n",
    "\n",
    "## Upload a report\n",
    "\n",
    "So far we've demonstrated how to build and view reports locally; however, one of the most powerful features of Datapane is the ability to upload your report straight from your code and share it directly with your team or the wider world.\n",
    "\n",
    "Once you've [logged in](/tutorials/datapane-cloud/authenticate-datapane/#datapane-cloud) to your chosen Datapane server, call `report.upload(name='Your report name')` in your script and your report will be uploaded to your Datapane instance for viewing online. This will return the URL of the report that you can share.\n",
    "\n",
    "!!! info \n",
    "    \n",
    "    `Report.upload` was previously called `Report.publish.` The old syntax will still work but has been deprecated.&#x20;\n",
    "\n",
    "Let's see an example report uploaded to Datapane.com, with the `upload`syntax. Set the `open` boolean parameter to `True`  to open the report afterwards automatically, and add a `description` to change the preview text for your viewers.&#x20;"
   ]
  },
  {
   "cell_type": "code",
   "execution_count": 1,
   "id": "1d267105-a53d-4571-8e99-7c4f9746f604",
   "metadata": {
    "tags": [
     "remove_all_output"
    ]
   },
   "outputs": [
    {
     "data": {
      "text/markdown": [
       "Uploading report and associated data - *please wait...*"
      ],
      "text/plain": [
       "<IPython.core.display.Markdown object>"
      ]
     },
     "metadata": {},
     "output_type": "display_data"
    },
    {
     "data": {
      "text/markdown": [
       "Your report only contains a single element - did you know you can include additional plots, tables and text in a single report? More info <a href='https://docs.datapane.com/reports/blocks/layout-pages-and-selects' target='_blank'>here</a>"
      ],
      "text/plain": [
       "<IPython.core.display.Markdown object>"
      ]
     },
     "metadata": {},
     "output_type": "display_data"
    },
    {
     "data": {
      "text/markdown": [
       "Report successfully uploaded. View and share your report <a href='https://datapane.com/reports/0kz8Bo3/my-first-report/' target='_blank'>here</a>, or edit your report <a href='https://datapane.com/reports/0kz8Bo3/my-first-report/edit/' target='_blank'>here</a>."
      ],
      "text/plain": [
       "<IPython.core.display.Markdown object>"
      ]
     },
     "metadata": {},
     "output_type": "display_data"
    }
   ],
   "source": [
    "import altair as alt\n",
    "from vega_datasets import data\n",
    "import datapane as dp\n",
    "\n",
    "source = data.cars()\n",
    "\n",
    "plot1 = (\n",
    "    alt.Chart(source)\n",
    "    .mark_circle(size=60)\n",
    "    .encode(\n",
    "        x=\"Horsepower\",\n",
    "        y=\"Miles_per_Gallon\",\n",
    "        color=\"Origin\",\n",
    "        tooltip=[\"Name\", \"Origin\", \"Horsepower\", \"Miles_per_Gallon\"],\n",
    "    )\n",
    "    .interactive()\n",
    ")\n",
    "\n",
    "report = dp.Report(dp.Plot(plot1), dp.DataTable(source))\n",
    "report.upload(name=\"My first report\", description=\"Testing out an Altair report\")"
   ]
  },
  {
   "cell_type": "markdown",
   "id": "c3a54097-d9f6-4545-82af-7381ae382d49",
   "metadata": {},
   "source": [
    "Once uploaded, you can share the link with others so they can view your report and comment on it. Public reports created are viewable and shareable by default. In future sections, we will also explore how to embed your report into a range of other platforms so you can share it with a wider audience."
   ]
  }
 ],
 "metadata": {
  "language_info": {
   "name": "python"
  }
 },
 "nbformat": 4,
 "nbformat_minor": 5
}
