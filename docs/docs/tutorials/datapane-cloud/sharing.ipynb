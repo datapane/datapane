{
 "cells": [
  {
   "cell_type": "markdown",
   "id": "f81ac805-abad-4e7d-a60b-ae9fdc183924",
   "metadata": {},
   "source": [
    "In addition to hosting, Datapane Cloud is designed to make it simple to securely share your app with your team.\n",
    "\n",
    "## Visibility\n",
    "\n",
    "When you create an app, it can either be public or private. If an app is public, anybody with the URL can view it.\n",
    "\n",
    "By default apps are private when you upload them, and cannot be accessed by anyone who is not a member of your workspace. \n",
    "\n",
    "You can set these via the App Settings page, or in Python:\n",
    "\n",
    "```python\n",
    "import datapane as dp\n",
    "\n",
    "app = dp.App(...)\n",
    "\n",
    "# Private App (Default)\n",
    "app.upload(name='private app', publicly_visible = False)\n",
    "\n",
    "# Public App\n",
    "app.upload(name='public app', publicly_visible = True)\n",
    "```\n",
    "\n",
    "## Workspaces\n",
    "\n",
    "When you created your Datapane Cloud account, you will have named your Workspace, which allows you to securely collaborate with your team. \n",
    "\n",
    "!!! note\n",
    "    Every Datapane Cloud account is a member of a workspace.\n",
    "\n",
    "In order to securely share your reports, invite your team to your workspace in [Workspace Settings -> Members](https://cloud.datapane.com/teams-settings-team/). \n",
    "\n",
    "\n"
   ]
  }
 ],
 "metadata": {
  "kernelspec": {
   "display_name": "Python 3.10.6 ('.venv': poetry)",
   "language": "python",
   "name": "python3"
  },
  "language_info": {
   "name": "python",
   "version": "3.10.6"
  },
  "vscode": {
   "interpreter": {
    "hash": "103b2eecc55d22d440ced6cf4c8258d76471cae9af2e8386c0a9b39dba47672d"
   }
  }
 },
 "nbformat": 4,
 "nbformat_minor": 5
}
