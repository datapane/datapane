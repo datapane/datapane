{
 "cells": [
  {
   "cell_type": "markdown",
   "id": "1448a5d1-f704-4758-bd49-5bc2e2ad9eef",
   "metadata": {},
   "source": [
    "# Create a report\n",
    "\n",
    "Reports wrap the results of your Python analyses, such as datasets and plots, into interactive documents which you can share.\n",
    "\n",
    "## Introduction\n",
    "\n",
    "For many Python data analyses, you only want to share a specific user-facing part of it rather than the whole code or notebook. This often is of the form of a standalone product that non-technical people can view directly from their existing tools - e.g. browsers, email, Slack, etc., and without the overhead and requirements of Python and Jupyter.\n",
    "\n",
    "Datapane allows you to programmatically create reports from the objects in your Python analyses, such as pandas DataFrames, plots from visualization libraries, and Markdown text.&#x20;\n",
    "\n",
    "## A simple report\n",
    "\n",
    "Datapane provides a Python API that allows you to create, save, and upload reports comprised of a collection of data-centric blocks.&#x20;\n",
    "\n",
    "!!! info\n",
    "\n",
    "    Detailed API docs for Datapane Reports can be found at [https://datapane.github.io/datapane/](https://datapane.github.io/datapane/).\n",
    "\n",
    "[Block types](/tutorials/blocks){ .md-button }\n",
    "\n",
    "For instance, Datapane provides a `Table` block that takes a pandas `DataFrame`. We can create a `Table` block by passing a `DataFrame` into it, and create a `Report` with that single block in it as follows:"
   ]
  },
  {
   "cell_type": "code",
   "execution_count": 1,
   "id": "807742e4-8289-4757-bd97-3a8e9ebb9727",
   "metadata": {
    "tags": [
     "remove_all_output"
    ]
   },
   "outputs": [
    {
     "data": {
      "text/markdown": [
       "Report saved to ./simple-report.html"
      ],
      "text/plain": [
       "<IPython.core.display.Markdown object>"
      ]
     },
     "metadata": {},
     "output_type": "display_data"
    }
   ],
   "source": [
    "import pandas as pd\n",
    "import datapane as dp\n",
    "\n",
    "df = pd.read_csv(\n",
    "    \"https://covid.ourworldindata.org/data/vaccinations/vaccinations-by-manufacturer.csv\",\n",
    "    parse_dates=[\"date\"],\n",
    ")\n",
    "df = (\n",
    "    df.groupby([\"vaccine\", \"date\"])[\"total_vaccinations\"].sum().tail(1000).reset_index()\n",
    ")\n",
    "\n",
    "report = dp.Report(dp.Table(df))\n",
    "report.save(path=\"simple-report.html\")"
   ]
  },
  {
   "cell_type": "markdown",
   "id": "5c432ec3-8389-43d6-a4e7-071272247edb",
   "metadata": {},
   "source": [
    "As seen above, `Reports` can be saved to local `HTML` files. Copying this code into a new script and running it will generate the report.&#x20;\n",
    "\n",
    "```bash\n",
    "$ python3 simple_report.py\n",
    "```"
   ]
  },
  {
   "cell_type": "code",
   "execution_count": 2,
   "id": "e71c2b91-8694-43f9-859c-ff060f7bcf1b",
   "metadata": {
    "tags": [
     "remove_input"
    ]
   },
   "outputs": [
    {
     "data": {
      "text/html": [
       "<a href=\"/tutorials/basics/simple-report.html\"><img src=\"/tutorials/basics/simple-report-preview.png\"></a>"
      ],
      "text/plain": [
       "<IPython.core.display.HTML object>"
      ]
     },
     "metadata": {},
     "output_type": "display_data"
    }
   ],
   "source": [
    "from dpdocsutils import previews\n",
    "previews.embed_local_report('/tutorials/basics/simple-report.html', width=\"100%\", height=400)"
   ]
  },
  {
   "cell_type": "markdown",
   "id": "69bc363f-2245-44dc-a897-16042a5fbc97",
   "metadata": {},
   "source": [
    "If you send this HTML file to somebody (or [upload it on _Datapane Cloud](publishing-and-sharing/#publish-your-report)), they will be able to view your dataset, sort and filter it, and download it as a CSV.\n",
    "\n",
    "## A richer report\n",
    "\n",
    "That report was pretty basic, but we can jazz it up by adding some plots and Markdown text. Unlike a traditional BI tool, Datapane does not rely on a proprietary visualization engine; instead, it natively supports Python visualization libraries such as [Altair](https://altair-viz.github.io/), [Plotly](https://plotly.com/python/), [Bokeh](https://bokeh.org/), and [Folium](https://python-visualization.github.io/folium/).\n",
    "\n",
    "We also support an advanced Table component, called `DataTable`, which allows sorting, filtering, and interactive analysis - however it requires uploading your report to a Datapane server to function.\n",
    "\n",
    "Let's take the example above, and plot some data using the Python library Altair and add some text.\n",
    "\n",
    "!!! info\n",
    "\n",
    "    We'll use the below sample code snippet for the rest of the tutorials, so feel free to copy and paste it into a new Python script or Jupyter notebook and follow along."
   ]
  },
  {
   "cell_type": "code",
   "execution_count": 3,
   "id": "4222845a-1f22-4e00-a335-7b6b2efbb1f6",
   "metadata": {
    "tags": [
     "remove_all_output"
    ]
   },
   "outputs": [
    {
     "name": "stderr",
     "output_type": "stream",
     "text": [
      "/Users/shahin/Documents/datapane-docs-beta/.venv/lib/python3.10/site-packages/datapane/client/api/files.py:133: FutureWarning: this method is deprecated in favour of `Styler.to_html()`\n",
      "  return obj.render()\n"
     ]
    },
    {
     "data": {
      "text/markdown": [
       "Report saved to ./richer-report.html"
      ],
      "text/plain": [
       "<IPython.core.display.Markdown object>"
      ]
     },
     "metadata": {},
     "output_type": "display_data"
    },
    {
     "data": {
      "text/markdown": [
       "How is your experience of Datapane? Please take two minutes to answer our anonymous product survey <a href='https://bit.ly/3lWjRlr' target='_blank'>here</a>"
      ],
      "text/plain": [
       "<IPython.core.display.Markdown object>"
      ]
     },
     "metadata": {},
     "output_type": "display_data"
    }
   ],
   "source": [
    "import pandas as pd\n",
    "import altair as alt\n",
    "import datapane as dp\n",
    "\n",
    "# download data & group by manufacturer\n",
    "df = pd.read_csv(\n",
    "    \"https://covid.ourworldindata.org/data/vaccinations/vaccinations-by-manufacturer.csv\",\n",
    "    parse_dates=[\"date\"],\n",
    ")\n",
    "df = (\n",
    "    df.groupby([\"vaccine\", \"date\"])[\"total_vaccinations\"].sum().tail(1000).reset_index()\n",
    ")\n",
    "\n",
    "# plot vaccinations over time using Altair\n",
    "plot = (\n",
    "    alt.Chart(df)\n",
    "    .mark_area(opacity=0.4, stroke=\"black\")\n",
    "    .encode(\n",
    "        x=\"date:T\",\n",
    "        y=alt.Y(\"total_vaccinations:Q\"),\n",
    "        color=alt.Color(\"vaccine:N\", scale=alt.Scale(scheme=\"set1\")),\n",
    "        tooltip=\"vaccine:N\",\n",
    "    )\n",
    "    .interactive()\n",
    "    .properties(width=\"container\")\n",
    ")\n",
    "\n",
    "# tablulate total vaccinations by manufacturer\n",
    "total_df = (\n",
    "    df[df[\"date\"] == df[\"date\"].max()]\n",
    "    .sort_values(\"total_vaccinations\", ascending=False)\n",
    "    .reset_index(drop=True)\n",
    ")\n",
    "total_styled = total_df.style.bar(\n",
    "    subset=[\"total_vaccinations\"],\n",
    "    color=\"#5fba7d\",\n",
    "    vmax=total_df[\"total_vaccinations\"].sum(),\n",
    ")\n",
    "\n",
    "# embed into a Datapane Report\n",
    "report = dp.Report(\n",
    "    \"## Vaccination Report\",\n",
    "    dp.Plot(plot, caption=\"Vaccinations by manufacturer over time\"),\n",
    "    dp.Table(total_styled, caption=\"Current vaccination totals by manufacturer\"),\n",
    "    dp.Table(df, caption=\"Initial Dataset\"),\n",
    ")\n",
    "\n",
    "report.save(\"richer-report.html\")"
   ]
  },
  {
   "cell_type": "markdown",
   "id": "9703b9f5-294c-4b82-b0c8-88f742896655",
   "metadata": {},
   "source": [
    "When this python script is run, we get the following report."
   ]
  },
  {
   "cell_type": "code",
   "execution_count": 4,
   "id": "6abb14e0-fe53-4c6f-a30f-93585e5c1bbb",
   "metadata": {
    "tags": [
     "remove_input"
    ]
   },
   "outputs": [
    {
     "data": {
      "text/html": [
       "<a href=\"/tutorials/basics/richer-report.html\"><img src=\"/tutorials/basics/richer-report-preview.png\"></a>"
      ],
      "text/plain": [
       "<IPython.core.display.HTML object>"
      ]
     },
     "metadata": {},
     "output_type": "display_data"
    }
   ],
   "source": [
    "from dpdocsutils import previews\n",
    "previews.embed_local_report('/tutorials/basics/richer-report.html', width=\"100%\", height=800, iframe=False)"
   ]
  },
  {
   "cell_type": "markdown",
   "id": "68ad9af1-8d1a-4e5a-ab4c-ddfacfd8ab9b",
   "metadata": {},
   "source": [
    "Next, we will explore the blocks that make up a report, followed by how to upload and optionally share reports online.&#x20;"
   ]
  }
 ],
 "metadata": {
  "language_info": {
   "name": "python"
  }
 },
 "nbformat": 4,
 "nbformat_minor": 5
}
