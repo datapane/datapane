{
 "cells": [
  {
   "cell_type": "markdown",
   "id": "73bc54b6-bc24-4222-a485-aa3a0a24ab35",
   "metadata": {},
   "source": [
    "# Apps\n",
    "\n",
    "## Introduction\n",
    "\n",
    "In addition to creating reports by running the computation on your own notebook, pipeline, or server, you may want to deploy Python scripts or notebooks to Datapane so they can be scheduled, be run with parameters, or run in response to API events.\n",
    "\n",
    "Datapane provides an app platform, so you can generate reports in an automated fashion, in addition to creating them in your local environment.\n",
    "\n",
    "Once you deploy your script or notebook as an app, it can be run in three ways:\n",
    "\n",
    "#### Web Forms\n",
    "\n",
    "Apps can be run with parameters entered through friendly web forms, which allows you to create interactive, self-service reporting tools for stakeholders.\n",
    "\n",
    "[Parameters and forms](/tutorials/apps/parameters-and-forms){ .md-button }\n",
    "\n",
    "#### On a schedule\n",
    "\n",
    "Apps can generate and update reports on a schedule, allowing you to create \"live\" dashboards and automated reports.\n",
    "\n",
    "[Scheduling report runs](/tutorials/apps/scheduling){ .md-button }\n",
    "\n",
    "#### Through an API\n",
    "\n",
    "You can trigger report generation through our API, which allows you to generate reports in response to events from other tools, such as Slack and Microsoft Teams, or your own product.\n",
    "\n",
    "## Deploying an app\n",
    "\n",
    "If you have a local Python script or notebook which creates a report using Datapane's `Report.upload` method (see [Creating a Report](/tutorials/datapane-cloud/upload-a-report-to-datapane-cloud)), you can deploy it to Datapane using the CLI. &#x20;\n",
    "\n",
    "Let's use an example of a COVID report, which will be returned to the user when they run our app using the Datapane web interface.\n",
    "\n",
    "!!! info\n",
    "    \n",
    "    We recommend creating only one report per app. As many can be created as needed; however, only the last one in each app will be tracked in the web interface.\n",
    "    \n",
    "We'll place the folloding in a file named `simple_script.py`."
   ]
  },
  {
   "cell_type": "code",
   "execution_count": 1,
   "id": "5d64104c-4fa7-425c-b438-ca8b83fe1cd4",
   "metadata": {
    "tags": [
     "remove_all_output"
    ]
   },
   "outputs": [
    {
     "data": {
      "text/markdown": [
       "Uploading report and associated data - *please wait...*"
      ],
      "text/plain": [
       "<IPython.core.display.Markdown object>"
      ]
     },
     "metadata": {},
     "output_type": "display_data"
    },
    {
     "data": {
      "text/markdown": [
       "Your report only contains a single element - did you know you can include additional plots, tables and text in a single report? More info <a href='https://docs.datapane.com/reports/blocks/layout-pages-and-selects' target='_blank'>here</a>"
      ],
      "text/plain": [
       "<IPython.core.display.Markdown object>"
      ]
     },
     "metadata": {},
     "output_type": "display_data"
    },
    {
     "data": {
      "text/markdown": [
       "Report successfully uploaded. View and share your report <a href='https://datapane.com/reports/P3XV8pk/covid-report/' target='_blank'>here</a>, or edit your report <a href='https://datapane.com/reports/P3XV8pk/covid-report/edit/' target='_blank'>here</a>."
      ],
      "text/plain": [
       "<IPython.core.display.Markdown object>"
      ]
     },
     "metadata": {},
     "output_type": "display_data"
    }
   ],
   "source": [
    "import pandas as pd\n",
    "import altair as alt\n",
    "import datapane as dp\n",
    "\n",
    "dataset = pd.read_csv(\"https://covid.ourworldindata.org/data/owid-covid-data.csv\")\n",
    "df = (\n",
    "    dataset.groupby([\"continent\", \"date\"])[\"new_cases_smoothed_per_million\"]\n",
    "    .mean()\n",
    "    .tail(1000)\n",
    "    .reset_index()\n",
    ")\n",
    "\n",
    "plot = (\n",
    "    alt.Chart(df)\n",
    "    .mark_area(opacity=0.4, stroke=\"black\")\n",
    "    .encode(\n",
    "        x=\"date:T\",\n",
    "        y=alt.Y(\"new_cases_smoothed_per_million:Q\", stack=None),\n",
    "        color=alt.Color(\"continent:N\", scale=alt.Scale(scheme=\"set1\")),\n",
    "        tooltip=\"continent:N\",\n",
    "    )\n",
    "    .interactive()\n",
    "    .properties(width=\"container\")\n",
    ")\n",
    "\n",
    "report = dp.Report(dp.Plot(plot), dp.Table(df))\n",
    "report.upload(name=\"covid_report\")"
   ]
  },
  {
   "cell_type": "markdown",
   "id": "ce63e098-aa36-4218-a2ce-fd8eb8618b58",
   "metadata": {},
   "source": [
    "To deploy it, use Datapane's CLI.\n",
    "\n",
    "```bash\n",
    "$ datapane app deploy --app=simple_script.py --name=covid_script\n",
    "```\n",
    "\n",
    "This makes your app available on your private instance, where you can share it with other users. If you send them your app, they are able to generate the report from the previous example dynamically by hitting the Run button.\n",
    "\n",
    "![](../../img/tutorials/apps-1.png)\n",
    "\n",
    "Every time the app is run, it pulls new COVID data and generates a fresh report, which can be shared or embedded.\n",
    "\n",
    "![](../../img/tutorials/apps-2.png)\n",
    "\n",
    "\n",
    "## Configuration\n",
    "\n",
    "In the previous example, we are deploying a single app and providing the name and file location through command-line arguments. This works well for simple scripts, but app often need other configuration, such as [parameter definitions](tut-parameterising-a-script/), other files or folders to deploy, and Python or OS requirements.\n",
    "\n",
    "Datapane allows you to provide a configuration file called `datapane.yaml`. When you run `deploy`, Datapane looks for this file automatically. Before we continue, create a new folder and then run the `datapane app init` command inside it:&#x20;\n",
    "\n",
    "```bash\n",
    "$ datapane app init\n",
    "$ ls\n",
    "```\n",
    "\n",
    "This will create a `datapane.yaml` file and a sample app.&#x20;\n",
    "\n",
    "![](../../img/tutorials/apps-3.png)\n",
    "\n",
    "We already have an app from our previous example, so we can delete the sample `dp_script.py` and copy in our own. Because we're replacing the default app, we should specify the filename of our app in `datapane.yaml` using the `app` field. Whilst we are there, we can also choose a name.\n",
    "\n",
    "``` yaml title=\"datapane.yaml\"\n",
    "name: covid_script\n",
    "app: simple_script.py # this could also be ipynb if it was a notebook\n",
    "```\n",
    "\n",
    "If we run `datapane app deploy` in this directory, Datapane will deploy our code with the configuration in `datapane.yaml`. Because we have given the script the same name as our previous one, this will overwrite `covid_script`. See the following link for the full reference on the configuration format.\n",
    "\n",
    "\n",
    "[Configuration](/tutorials/apps/parameters-and-forms/configuration){ .md-button }\n",
    "\n",
    "In the next section, we will explore adding parameters to your app, to enable reports to be generated dynamically based on user inputs."
   ]
  }
 ],
 "metadata": {
  "language_info": {
   "name": "python"
  }
 },
 "nbformat": 4,
 "nbformat_minor": 5
}
