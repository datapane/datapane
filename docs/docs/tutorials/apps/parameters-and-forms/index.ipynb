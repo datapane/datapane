{
 "cells": [
  {
   "cell_type": "markdown",
   "id": "7f8a7867-cac0-40c4-ab89-e0d702269ac3",
   "metadata": {},
   "source": [
    "# Parameters and Forms\n",
    "\n",
    "Apps can be parameterised, allowing them to dynamically generate reports\n",
    "through web forms or the API.\n",
    "\n",
    "## Overview\n",
    "\n",
    "Stakeholders commonly need to provide some configuration to your apps to enable self-service report generation. Datapane allows you to add parameters, which are presented to end users as **web forms**. This means that other people who have accounts on your instance can generate reports without worrying about code, notebooks, or setting up a Python environment.&#x20;\n",
    "\n",
    "## Running & Parameters\n",
    "\n",
    "Input parameters can be defined in your `datapane.yaml` configuration file, where you can enter a schema and configure the inputs. In your Python code, the parameters which you define in this file are accessible in the `Params` dictionary. You can get an item from the dictionary with `Params.get([value_name], [default_value])`\n",
    "\n",
    "Following the previous example, the dataset we are pulling includes a few other useful parameters which people may want to graph. Let's add the ability for the end-user to choose from `new_cases_smoothed_per_million` , `new_deaths_smoothed_per_million`, `median_age`, and `gdp_per_capita` . Additionally, let's allow them to choose a subset of continents for the graph.\n",
    "\n",
    "Based on this, we are going to add two parameters: `plot_field` and `continents` to the `parameters` section of our `datapane.yaml`. To configure what the end-user's form looks like, we can choose the type of widget. For the above, we're choosing a `enum` (which provides a dropdown select menu where the user must select one option), and a `list` (which allows the user to choose or more choices from a predefined list). We can also set the default parameters for each input and a description.\n",
    "\n",
    "!!! info\n",
    "    \n",
    "    Full details of parameter configuration and available fields are provided in the [API reference](parameters.md#parameter-form-fields).\n",
    "\n",
    "``` yaml title=\"datapane.yaml\"\n",
    "name: covid_script\n",
    "script: simple_script.py # this could also be ipynb if it was a notebook\n",
    "  \n",
    "parameters:\n",
    "  - name: field_to_plot\n",
    "    description: Field to plot\n",
    "    type: enum\n",
    "    choices: \n",
    "      - new_cases_smoothed_per_million\n",
    "      - new_deaths_smoothed_per_million\n",
    "      - median_age\n",
    "      - gdp_per_capita\n",
    "  - name: continents\n",
    "    description: Field to plot\n",
    "    type: list\n",
    "    choices:\n",
    "      - Africa\n",
    "      - Asia\n",
    "      - Europe\n",
    "      - Oceania\n",
    "      - North America\n",
    "      - South America\n",
    "    default: \n",
    "      - Asia\n",
    "      - North America\n",
    "```\n",
    "\n",
    "You can then use the `Params` object as you would when running on your Datapane instance, and we can customise our data and graph based on those inputs.\n",
    "\n",
    "We'll place the folloding in a file named `simple_script.py`."
   ]
  },
  {
   "cell_type": "code",
   "execution_count": 1,
   "id": "002cc425-1380-4422-9844-00cff98eda3e",
   "metadata": {
    "tags": [
     "remove_all_output"
    ]
   },
   "outputs": [
    {
     "data": {
      "text/markdown": [
       "Uploading report and associated data - *please wait...*"
      ],
      "text/plain": [
       "<IPython.core.display.Markdown object>"
      ]
     },
     "metadata": {},
     "output_type": "display_data"
    },
    {
     "data": {
      "text/markdown": [
       "Your report only contains a single element - did you know you can include additional plots, tables and text in a single report? More info <a href='https://docs.datapane.com/reports/blocks/layout-pages-and-selects' target='_blank'>here</a>"
      ],
      "text/plain": [
       "<IPython.core.display.Markdown object>"
      ]
     },
     "metadata": {},
     "output_type": "display_data"
    },
    {
     "data": {
      "text/markdown": [
       "Report successfully uploaded. View and share your report <a href='https://datapane.com/reports/P3XV8pk/covid-report/' target='_blank'>here</a>, or edit your report <a href='https://datapane.com/reports/P3XV8pk/covid-report/edit/' target='_blank'>here</a>."
      ],
      "text/plain": [
       "<IPython.core.display.Markdown object>"
      ]
     },
     "metadata": {},
     "output_type": "display_data"
    }
   ],
   "source": [
    "import pandas as pd\n",
    "import altair as alt\n",
    "import datapane as dp\n",
    "\n",
    "dataset = pd.read_csv(\"https://covid.ourworldindata.org/data/owid-covid-data.csv\")\n",
    "\n",
    "# Get input parameters\n",
    "continents = dp.Params.get(\"continents\", [\"Asia\", \"North America\"])\n",
    "field_to_plot = dp.Params.get(\"field_to_plot\", \"new_cases_smoothed_per_million\")\n",
    "\n",
    "df = (\n",
    "    dataset[dataset.continent.isin(continents)]\n",
    "    .groupby([\"continent\", \"date\"])[field_to_plot]\n",
    "    .mean()\n",
    "    .tail(1000)\n",
    "    .reset_index()\n",
    ")\n",
    "\n",
    "plot = (\n",
    "    alt.Chart(df)\n",
    "    .mark_area(opacity=0.4, stroke=\"black\")\n",
    "    .encode(\n",
    "        x=\"date:T\",\n",
    "        y=alt.Y(field_to_plot, stack=None),\n",
    "        color=alt.Color(\"continent:N\", scale=alt.Scale(scheme=\"set1\")),\n",
    "        tooltip=\"continent:N\",\n",
    "    )\n",
    "    .interactive()\n",
    "    .properties(width=\"container\")\n",
    ")\n",
    "\n",
    "report = dp.Report(dp.Plot(plot), dp.Table(df))\n",
    "report.upload(name=\"covid_report\")"
   ]
  },
  {
   "cell_type": "markdown",
   "id": "3f07454b-079e-4d8e-ae46-697639061b99",
   "metadata": {},
   "source": [
    "When we run `app deploy`, Datapane will deploy a new version of our app, and use our parameters definition to generate the following form:\n",
    "\n",
    "![](../../../img/tutorials/parameters-and-forms-1.png)\n",
    "\n",
    "Stakeholders can enter parameters and generate custom reports themselves, based on these fields. &#x20;\n",
    "\n",
    "![](../../../img/tutorials/parameters-and-forms-2.png)"
   ]
  }
 ],
 "metadata": {
  "language_info": {
   "name": "python"
  }
 },
 "nbformat": 4,
 "nbformat_minor": 5
}
