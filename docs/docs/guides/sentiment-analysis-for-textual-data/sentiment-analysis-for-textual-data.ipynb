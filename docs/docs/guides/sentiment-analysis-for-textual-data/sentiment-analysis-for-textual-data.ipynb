{
 "cells": [
  {
   "cell_type": "markdown",
   "id": "ea341765-dfef-47b6-98b2-5711ffa3ad60",
   "metadata": {},
   "source": [
    "# Sentiment Analysis for textual data\n",
    "\n",
    "Data analysis often starts with structured data that’s already stored as numbers, dates, categories etc. However, unstructured data can yield crucial insights if you use appropriate techniques. Often you need to create a report for your CS team using NLP... In this tutorial, we'll run sentiment analysis on a textual dataset to figure out how positive and negative each phrase is, and turn the results into an interactive Datapane report.&#x20;\n",
    "\n",
    "## The dataset\n",
    "\n",
    "Let’s imagine we’re a data scientist working for a news company and we’re trying to figure out how ‘positive’ our news headlines are in comparison to the industry.\n",
    "\n",
    "We’ll start with the [UCI News Aggregator dataset](https://www.kaggle.com/uciml/news-aggregator-dataset) which is a collection of news headlines from different publications in 2014. This is a fun dataset because it has articles from a wide range of publishers and contains useful metadata.&#x20;"
   ]
  },
  {
   "cell_type": "code",
   "execution_count": 1,
   "id": "a44714b2-5874-40cb-a2f9-5fdd3e8f0858",
   "metadata": {},
   "outputs": [],
   "source": [
    "import pandas as pd\n",
    "\n",
    "raw_data = pd.read_csv(\"uci-news-aggregator.zip\")\n",
    "\n",
    "# Convert UNIX timestamps in milliseconds since 1970 into datetimes\n",
    "raw_data[\"TIMESTAMP\"] = pd.to_datetime(raw_data[\"TIMESTAMP\"], unit=\"ms\")\n",
    "\n",
    "# Add more informative category names\n",
    "di = {\n",
    "    \"b\": \"business\",\n",
    "    \"t\": \"science and technology\",\n",
    "    \"e\": \"entertainment\",\n",
    "    \"m\": \"health\",\n",
    "}\n",
    "raw_data.replace({\"CATEGORY\": di}, inplace=True)"
   ]
  },
  {
   "cell_type": "markdown",
   "id": "dd08a0ad-efcb-4e78-aa7d-5f8d5901f135",
   "metadata": {},
   "source": [
    "We can output the characteristics of our `DataFrame`:"
   ]
  },
  {
   "cell_type": "code",
   "execution_count": 2,
   "id": "12af5f39-c52b-4df5-85d4-e4eda896e42c",
   "metadata": {},
   "outputs": [
    {
     "name": "stdout",
     "output_type": "stream",
     "text": [
      "<class 'pandas.core.frame.DataFrame'>\n",
      "RangeIndex: 422419 entries, 0 to 422418\n",
      "Data columns (total 8 columns):\n",
      " #   Column     Non-Null Count   Dtype         \n",
      "---  ------     --------------   -----         \n",
      " 0   ID         422419 non-null  int64         \n",
      " 1   TITLE      422419 non-null  object        \n",
      " 2   URL        422419 non-null  object        \n",
      " 3   PUBLISHER  422417 non-null  object        \n",
      " 4   CATEGORY   422419 non-null  object        \n",
      " 5   STORY      422419 non-null  object        \n",
      " 6   HOSTNAME   422419 non-null  object        \n",
      " 7   TIMESTAMP  422419 non-null  datetime64[ns]\n",
      "dtypes: datetime64[ns](1), int64(1), object(6)\n",
      "memory usage: 25.8+ MB\n"
     ]
    }
   ],
   "source": [
    "raw_data.info()"
   ]
  },
  {
   "cell_type": "markdown",
   "id": "639852e4-dad6-483c-ae65-a60c84422c60",
   "metadata": {},
   "source": [
    "We can also output the first 5 samples:"
   ]
  },
  {
   "cell_type": "code",
   "execution_count": 3,
   "id": "84b07b36-8e2c-4d59-8473-9959aa414367",
   "metadata": {},
   "outputs": [
    {
     "data": {
      "text/html": [
       "<div>\n",
       "<style scoped>\n",
       "    .dataframe tbody tr th:only-of-type {\n",
       "        vertical-align: middle;\n",
       "    }\n",
       "\n",
       "    .dataframe tbody tr th {\n",
       "        vertical-align: top;\n",
       "    }\n",
       "\n",
       "    .dataframe thead th {\n",
       "        text-align: right;\n",
       "    }\n",
       "</style>\n",
       "<table border=\"1\" class=\"dataframe\">\n",
       "  <thead>\n",
       "    <tr style=\"text-align: right;\">\n",
       "      <th></th>\n",
       "      <th>ID</th>\n",
       "      <th>TITLE</th>\n",
       "      <th>URL</th>\n",
       "      <th>PUBLISHER</th>\n",
       "      <th>CATEGORY</th>\n",
       "      <th>STORY</th>\n",
       "      <th>HOSTNAME</th>\n",
       "      <th>TIMESTAMP</th>\n",
       "    </tr>\n",
       "  </thead>\n",
       "  <tbody>\n",
       "    <tr>\n",
       "      <th>0</th>\n",
       "      <td>1</td>\n",
       "      <td>Fed official says weak data caused by weather,...</td>\n",
       "      <td>http://www.latimes.com/business/money/la-fi-mo...</td>\n",
       "      <td>Los Angeles Times</td>\n",
       "      <td>business</td>\n",
       "      <td>ddUyU0VZz0BRneMioxUPQVP6sIxvM</td>\n",
       "      <td>www.latimes.com</td>\n",
       "      <td>2014-03-10 16:52:50.698</td>\n",
       "    </tr>\n",
       "    <tr>\n",
       "      <th>1</th>\n",
       "      <td>2</td>\n",
       "      <td>Fed's Charles Plosser sees high bar for change...</td>\n",
       "      <td>http://www.livemint.com/Politics/H2EvwJSK2VE6O...</td>\n",
       "      <td>Livemint</td>\n",
       "      <td>business</td>\n",
       "      <td>ddUyU0VZz0BRneMioxUPQVP6sIxvM</td>\n",
       "      <td>www.livemint.com</td>\n",
       "      <td>2014-03-10 16:52:51.207</td>\n",
       "    </tr>\n",
       "    <tr>\n",
       "      <th>2</th>\n",
       "      <td>3</td>\n",
       "      <td>US open: Stocks fall after Fed official hints ...</td>\n",
       "      <td>http://www.ifamagazine.com/news/us-open-stocks...</td>\n",
       "      <td>IFA Magazine</td>\n",
       "      <td>business</td>\n",
       "      <td>ddUyU0VZz0BRneMioxUPQVP6sIxvM</td>\n",
       "      <td>www.ifamagazine.com</td>\n",
       "      <td>2014-03-10 16:52:51.550</td>\n",
       "    </tr>\n",
       "    <tr>\n",
       "      <th>3</th>\n",
       "      <td>4</td>\n",
       "      <td>Fed risks falling 'behind the curve', Charles ...</td>\n",
       "      <td>http://www.ifamagazine.com/news/fed-risks-fall...</td>\n",
       "      <td>IFA Magazine</td>\n",
       "      <td>business</td>\n",
       "      <td>ddUyU0VZz0BRneMioxUPQVP6sIxvM</td>\n",
       "      <td>www.ifamagazine.com</td>\n",
       "      <td>2014-03-10 16:52:51.793</td>\n",
       "    </tr>\n",
       "    <tr>\n",
       "      <th>4</th>\n",
       "      <td>5</td>\n",
       "      <td>Fed's Plosser: Nasty Weather Has Curbed Job Gr...</td>\n",
       "      <td>http://www.moneynews.com/Economy/federal-reser...</td>\n",
       "      <td>Moneynews</td>\n",
       "      <td>business</td>\n",
       "      <td>ddUyU0VZz0BRneMioxUPQVP6sIxvM</td>\n",
       "      <td>www.moneynews.com</td>\n",
       "      <td>2014-03-10 16:52:52.027</td>\n",
       "    </tr>\n",
       "  </tbody>\n",
       "</table>\n",
       "</div>"
      ],
      "text/plain": [
       "   ID                                              TITLE  \\\n",
       "0   1  Fed official says weak data caused by weather,...   \n",
       "1   2  Fed's Charles Plosser sees high bar for change...   \n",
       "2   3  US open: Stocks fall after Fed official hints ...   \n",
       "3   4  Fed risks falling 'behind the curve', Charles ...   \n",
       "4   5  Fed's Plosser: Nasty Weather Has Curbed Job Gr...   \n",
       "\n",
       "                                                 URL          PUBLISHER  \\\n",
       "0  http://www.latimes.com/business/money/la-fi-mo...  Los Angeles Times   \n",
       "1  http://www.livemint.com/Politics/H2EvwJSK2VE6O...           Livemint   \n",
       "2  http://www.ifamagazine.com/news/us-open-stocks...       IFA Magazine   \n",
       "3  http://www.ifamagazine.com/news/fed-risks-fall...       IFA Magazine   \n",
       "4  http://www.moneynews.com/Economy/federal-reser...          Moneynews   \n",
       "\n",
       "   CATEGORY                          STORY             HOSTNAME  \\\n",
       "0  business  ddUyU0VZz0BRneMioxUPQVP6sIxvM      www.latimes.com   \n",
       "1  business  ddUyU0VZz0BRneMioxUPQVP6sIxvM     www.livemint.com   \n",
       "2  business  ddUyU0VZz0BRneMioxUPQVP6sIxvM  www.ifamagazine.com   \n",
       "3  business  ddUyU0VZz0BRneMioxUPQVP6sIxvM  www.ifamagazine.com   \n",
       "4  business  ddUyU0VZz0BRneMioxUPQVP6sIxvM    www.moneynews.com   \n",
       "\n",
       "                TIMESTAMP  \n",
       "0 2014-03-10 16:52:50.698  \n",
       "1 2014-03-10 16:52:51.207  \n",
       "2 2014-03-10 16:52:51.550  \n",
       "3 2014-03-10 16:52:51.793  \n",
       "4 2014-03-10 16:52:52.027  "
      ]
     },
     "execution_count": 3,
     "metadata": {},
     "output_type": "execute_result"
    }
   ],
   "source": [
    "raw_data.head(5)"
   ]
  },
  {
   "cell_type": "markdown",
   "id": "39f9048d-cc43-4819-9446-59f5bce6c568",
   "metadata": {},
   "source": [
    "We can see that we have 8 columns and about 400k rows. We’ll use the ‘Title’ for the actual sentiment analysis, and group the results by ‘Publisher’, ‘Category’ and ‘Timestamp’.&#x20;\n",
    "\n",
    "### **Classifying the headlines**\n",
    "\n",
    "Through the magic of open-source, we can use someone else’s hard-earned knowledge in our analysis — in this case a pretrained model called the Vader Sentiment Intensity Analyser from the popular [NLTK](https://www.nltk.org/index.html) library.\n",
    "\n",
    "To build the model, the authors gathered a list of common words and then asked a panel of human testers to rate each one on **valence** i.e. positive or negative, and **intensity** i.e. how strong the sentiment is. As the [original paper](http://comp.social.gatech.edu/papers/icwsm14.vader.hutto.pdf) says: :&#x20;\n",
    "\n",
    "> \\[After stripping out irrelevant words] this left us with just over 7,500 lexical features with validated valence scores that indicated both the sentiment polarity (positive/negative), and the sentiment intensity on a scale from –4 to +4. For example, the word “okay” has a positive valence of 0.9, “good” is 1.9, and “great” is 3.1, whereas “horrible” is –2.5, the frowning emoticon “:(” is –2.2, and “sucks” and “sux” are both –1.5.\n",
    "\n",
    "To classify a piece of text, the model calculates the valence score for each word, applies some grammatical rules e.g. distinguishing between ‘great’ and ‘not great’, and then sums up the result.\n",
    "\n",
    "Interestingly, this simple lexicon-based approach has equal or better accuracy compared to machine-learning approaches, and is much faster. Let’s see how it works!"
   ]
  },
  {
   "cell_type": "code",
   "execution_count": 4,
   "id": "b4ac2022-be41-45a0-9014-3da2e4e04f02",
   "metadata": {
    "tags": [
     "remove_all_output"
    ]
   },
   "outputs": [
    {
     "name": "stderr",
     "output_type": "stream",
     "text": [
      "[nltk_data] Downloading package vader_lexicon to\n",
      "[nltk_data]     /Users/shahin/nltk_data...\n",
      "[nltk_data]   Package vader_lexicon is already up-to-date!\n"
     ]
    }
   ],
   "source": [
    "import nltk\n",
    "\n",
    "nltk.download(\"vader_lexicon\")\n",
    "from nltk.sentiment.vader import SentimentIntensityAnalyzer as SIA\n",
    "\n",
    "sia = SIA()\n",
    "\n",
    "results = [sia.polarity_scores(line) for line in raw_data.TITLE]\n",
    "scores_df = pd.DataFrame.from_records(results)\n",
    "df = scores_df.join(raw_data, rsuffix=\"_right\")"
   ]
  },
  {
   "cell_type": "markdown",
   "id": "c7f33a1a-c2b5-4997-bec4-05145e1ed14f",
   "metadata": {},
   "source": [
    "In this code we import the library, classify each title in our dataset then append the results to our original dataframe. We have added 4 new columns:&#x20;\n",
    "\n",
    "* **pos**: positive score component\n",
    "* **neu**: neutral score component\n",
    "* **neg**: negative score component\n",
    "* **compound**: the sum of the three score components\n",
    "\n",
    "We can see these by outputting our `DataFrame` again."
   ]
  },
  {
   "cell_type": "code",
   "execution_count": 5,
   "id": "410e63cd-6fce-441e-9e36-69ef690b3d2c",
   "metadata": {},
   "outputs": [
    {
     "data": {
      "text/html": [
       "<div>\n",
       "<style scoped>\n",
       "    .dataframe tbody tr th:only-of-type {\n",
       "        vertical-align: middle;\n",
       "    }\n",
       "\n",
       "    .dataframe tbody tr th {\n",
       "        vertical-align: top;\n",
       "    }\n",
       "\n",
       "    .dataframe thead th {\n",
       "        text-align: right;\n",
       "    }\n",
       "</style>\n",
       "<table border=\"1\" class=\"dataframe\">\n",
       "  <thead>\n",
       "    <tr style=\"text-align: right;\">\n",
       "      <th></th>\n",
       "      <th>neg</th>\n",
       "      <th>neu</th>\n",
       "      <th>pos</th>\n",
       "      <th>compound</th>\n",
       "      <th>ID</th>\n",
       "      <th>TITLE</th>\n",
       "      <th>URL</th>\n",
       "      <th>PUBLISHER</th>\n",
       "      <th>CATEGORY</th>\n",
       "      <th>STORY</th>\n",
       "      <th>HOSTNAME</th>\n",
       "      <th>TIMESTAMP</th>\n",
       "    </tr>\n",
       "  </thead>\n",
       "  <tbody>\n",
       "    <tr>\n",
       "      <th>0</th>\n",
       "      <td>0.209</td>\n",
       "      <td>0.791</td>\n",
       "      <td>0.000</td>\n",
       "      <td>-0.4404</td>\n",
       "      <td>1</td>\n",
       "      <td>Fed official says weak data caused by weather,...</td>\n",
       "      <td>http://www.latimes.com/business/money/la-fi-mo...</td>\n",
       "      <td>Los Angeles Times</td>\n",
       "      <td>business</td>\n",
       "      <td>ddUyU0VZz0BRneMioxUPQVP6sIxvM</td>\n",
       "      <td>www.latimes.com</td>\n",
       "      <td>2014-03-10 16:52:50.698</td>\n",
       "    </tr>\n",
       "    <tr>\n",
       "      <th>1</th>\n",
       "      <td>0.000</td>\n",
       "      <td>1.000</td>\n",
       "      <td>0.000</td>\n",
       "      <td>0.0000</td>\n",
       "      <td>2</td>\n",
       "      <td>Fed's Charles Plosser sees high bar for change...</td>\n",
       "      <td>http://www.livemint.com/Politics/H2EvwJSK2VE6O...</td>\n",
       "      <td>Livemint</td>\n",
       "      <td>business</td>\n",
       "      <td>ddUyU0VZz0BRneMioxUPQVP6sIxvM</td>\n",
       "      <td>www.livemint.com</td>\n",
       "      <td>2014-03-10 16:52:51.207</td>\n",
       "    </tr>\n",
       "    <tr>\n",
       "      <th>2</th>\n",
       "      <td>0.000</td>\n",
       "      <td>1.000</td>\n",
       "      <td>0.000</td>\n",
       "      <td>0.0000</td>\n",
       "      <td>3</td>\n",
       "      <td>US open: Stocks fall after Fed official hints ...</td>\n",
       "      <td>http://www.ifamagazine.com/news/us-open-stocks...</td>\n",
       "      <td>IFA Magazine</td>\n",
       "      <td>business</td>\n",
       "      <td>ddUyU0VZz0BRneMioxUPQVP6sIxvM</td>\n",
       "      <td>www.ifamagazine.com</td>\n",
       "      <td>2014-03-10 16:52:51.550</td>\n",
       "    </tr>\n",
       "    <tr>\n",
       "      <th>3</th>\n",
       "      <td>0.346</td>\n",
       "      <td>0.654</td>\n",
       "      <td>0.000</td>\n",
       "      <td>-0.4019</td>\n",
       "      <td>4</td>\n",
       "      <td>Fed risks falling 'behind the curve', Charles ...</td>\n",
       "      <td>http://www.ifamagazine.com/news/fed-risks-fall...</td>\n",
       "      <td>IFA Magazine</td>\n",
       "      <td>business</td>\n",
       "      <td>ddUyU0VZz0BRneMioxUPQVP6sIxvM</td>\n",
       "      <td>www.ifamagazine.com</td>\n",
       "      <td>2014-03-10 16:52:51.793</td>\n",
       "    </tr>\n",
       "    <tr>\n",
       "      <th>4</th>\n",
       "      <td>0.295</td>\n",
       "      <td>0.492</td>\n",
       "      <td>0.213</td>\n",
       "      <td>-0.2500</td>\n",
       "      <td>5</td>\n",
       "      <td>Fed's Plosser: Nasty Weather Has Curbed Job Gr...</td>\n",
       "      <td>http://www.moneynews.com/Economy/federal-reser...</td>\n",
       "      <td>Moneynews</td>\n",
       "      <td>business</td>\n",
       "      <td>ddUyU0VZz0BRneMioxUPQVP6sIxvM</td>\n",
       "      <td>www.moneynews.com</td>\n",
       "      <td>2014-03-10 16:52:52.027</td>\n",
       "    </tr>\n",
       "  </tbody>\n",
       "</table>\n",
       "</div>"
      ],
      "text/plain": [
       "     neg    neu    pos  compound  ID  \\\n",
       "0  0.209  0.791  0.000   -0.4404   1   \n",
       "1  0.000  1.000  0.000    0.0000   2   \n",
       "2  0.000  1.000  0.000    0.0000   3   \n",
       "3  0.346  0.654  0.000   -0.4019   4   \n",
       "4  0.295  0.492  0.213   -0.2500   5   \n",
       "\n",
       "                                               TITLE  \\\n",
       "0  Fed official says weak data caused by weather,...   \n",
       "1  Fed's Charles Plosser sees high bar for change...   \n",
       "2  US open: Stocks fall after Fed official hints ...   \n",
       "3  Fed risks falling 'behind the curve', Charles ...   \n",
       "4  Fed's Plosser: Nasty Weather Has Curbed Job Gr...   \n",
       "\n",
       "                                                 URL          PUBLISHER  \\\n",
       "0  http://www.latimes.com/business/money/la-fi-mo...  Los Angeles Times   \n",
       "1  http://www.livemint.com/Politics/H2EvwJSK2VE6O...           Livemint   \n",
       "2  http://www.ifamagazine.com/news/us-open-stocks...       IFA Magazine   \n",
       "3  http://www.ifamagazine.com/news/fed-risks-fall...       IFA Magazine   \n",
       "4  http://www.moneynews.com/Economy/federal-reser...          Moneynews   \n",
       "\n",
       "   CATEGORY                          STORY             HOSTNAME  \\\n",
       "0  business  ddUyU0VZz0BRneMioxUPQVP6sIxvM      www.latimes.com   \n",
       "1  business  ddUyU0VZz0BRneMioxUPQVP6sIxvM     www.livemint.com   \n",
       "2  business  ddUyU0VZz0BRneMioxUPQVP6sIxvM  www.ifamagazine.com   \n",
       "3  business  ddUyU0VZz0BRneMioxUPQVP6sIxvM  www.ifamagazine.com   \n",
       "4  business  ddUyU0VZz0BRneMioxUPQVP6sIxvM    www.moneynews.com   \n",
       "\n",
       "                TIMESTAMP  \n",
       "0 2014-03-10 16:52:50.698  \n",
       "1 2014-03-10 16:52:51.207  \n",
       "2 2014-03-10 16:52:51.550  \n",
       "3 2014-03-10 16:52:51.793  \n",
       "4 2014-03-10 16:52:52.027  "
      ]
     },
     "execution_count": 5,
     "metadata": {},
     "output_type": "execute_result"
    }
   ],
   "source": [
    "df.head(5)"
   ]
  },
  {
   "cell_type": "markdown",
   "id": "86c09b3d-26bf-4a63-9788-9927ec0c5548",
   "metadata": {},
   "source": [
    "As a sanity check, let’s take a look at the most positive, neutral and negative headline in the text by using pandas `idxmax` :&#x20;"
   ]
  },
  {
   "cell_type": "code",
   "execution_count": 6,
   "id": "4f811f7b-0215-4840-96b6-dc2c432ff3ce",
   "metadata": {
    "tags": [
     "remove_all_output"
    ]
   },
   "outputs": [
    {
     "name": "stdout",
     "output_type": "stream",
     "text": [
      "Most negative: I hate cancer (Las Vegas Review-Journal \\(blog\\))\n",
      "Most neutral: Fed's Charles Plosser sees high bar for change in pace of tapering (Livemint)\n",
      "Most positive: THANK HEAVENS (Daily Beast)\n"
     ]
    }
   ],
   "source": [
    "negative = df.iloc[df.neg.idxmax()]\n",
    "neutral = df.iloc[df.neu.idxmax()]\n",
    "positive = df.iloc[df.pos.idxmax()]\n",
    "print(f\"Most negative: {negative.TITLE} ({negative.PUBLISHER})\")\n",
    "print(f\"Most neutral: {neutral.TITLE} ({neutral.PUBLISHER})\")\n",
    "print(f\"Most positive: {positive.TITLE} ({positive.PUBLISHER})\")"
   ]
  },
  {
   "cell_type": "markdown",
   "id": "0c5af800-4bd5-4802-8202-aa55edfb5cee",
   "metadata": {},
   "source": [
    "Running that code gives us the following result:&#x20;"
   ]
  },
  {
   "cell_type": "code",
   "execution_count": 7,
   "id": "4d86da3f-2286-422e-b116-ec8312f27280",
   "metadata": {
    "tags": [
     "remove_input"
    ]
   },
   "outputs": [
    {
     "name": "stdout",
     "output_type": "stream",
     "text": [
      "Most negative: I hate cancer (Las Vegas Review-Journal \\(blog\\))\n",
      "Most neutral: Fed's Charles Plosser sees high bar for change in pace of tapering (Livemint)\n",
      "Most positive: THANK HEAVENS (Daily Beast)\n"
     ]
    }
   ],
   "source": [
    "print(f\"Most negative: {negative.TITLE} ({negative.PUBLISHER})\")\n",
    "print(f\"Most neutral: {neutral.TITLE} ({neutral.PUBLISHER})\")\n",
    "print(f\"Most positive: {positive.TITLE} ({positive.PUBLISHER})\")"
   ]
  },
  {
   "cell_type": "markdown",
   "id": "996be440-60cd-40f9-b3e9-2746d59f2fa3",
   "metadata": {},
   "source": [
    "Fair enough — ‘THANKS HEAVENS’ is a lot more positive than ‘I hate cancer’!\n",
    "\n",
    "## Visualizing the results\n",
    "\n",
    "When we're building our report, we need great visuals...\n",
    "\n",
    "What does the distribution of our scores look like? Let’s visualize this in a couple of ways using the interactive plotting library [Altair](https://altair-viz.github.io/index.html):&#x20;"
   ]
  },
  {
   "cell_type": "code",
   "execution_count": 8,
   "id": "d1c10a3b-6e41-43b1-bce2-b99c8a91b39a",
   "metadata": {
    "tags": [
     "remove_all_output"
    ]
   },
   "outputs": [
    {
     "name": "stderr",
     "output_type": "stream",
     "text": [
      "Bokeh version 2.4.3 is not supported, these plots may not display correctly, please install version ~=2.2.0\n"
     ]
    },
    {
     "data": {
      "text/markdown": [
       "Report saved to ./sentiment-analysis-distribution.html"
      ],
      "text/plain": [
       "<IPython.core.display.Markdown object>"
      ]
     },
     "metadata": {},
     "output_type": "display_data"
    }
   ],
   "source": [
    "import altair as alt\n",
    "import datapane as dp\n",
    "\n",
    "df[\"compound_trunc\"] = df.compound.round(1)  # Truncate compound scores into 0.1 buckets\n",
    "\n",
    "res = (\n",
    "    df.groupby([\"compound_trunc\", \"CATEGORY\"])[\"ID\"]\n",
    "    .count()\n",
    "    .reset_index()\n",
    "    .rename(columns={\"ID\": \"count\"})\n",
    ")\n",
    "\n",
    "hist = (\n",
    "    alt.Chart(res)\n",
    "    .mark_bar(width=15)\n",
    "    .encode(\n",
    "        alt.X(\"compound_trunc:Q\", axis=alt.Axis(title=\"\")),\n",
    "        y=alt.Y(\"count:Q\", axis=alt.Axis(title=\"\")),\n",
    "        color=alt.Color(\"compound_trunc:Q\", scale=alt.Scale(scheme=\"redyellowgreen\")),\n",
    "        tooltip=[\"compound_trunc\", \"count\"],\n",
    "    )\n",
    ")\n",
    "\n",
    "stacked_bar = (\n",
    "    alt.Chart(res)\n",
    "    .mark_bar()\n",
    "    .encode(\n",
    "        x=\"CATEGORY\",\n",
    "        y=alt.Y(\"count:Q\", stack=\"normalize\", axis=alt.Axis(title=\"\", labels=False)),\n",
    "        color=alt.Color(\"compound_trunc\", scale=alt.Scale(scheme=\"redyellowgreen\")),\n",
    "        tooltip=[\"compound_trunc\", \"CATEGORY\", \"count\"],\n",
    "        order=alt.Order(\n",
    "            # Sort the segments of the bars by this field\n",
    "            \"compound_trunc\",\n",
    "            sort=\"ascending\",\n",
    "        ),\n",
    "    )\n",
    "    .properties(width=150)\n",
    ")\n",
    "\n",
    "report = dp.Report(dp.Group(dp.Plot(hist), dp.Plot(stacked_bar), columns=2))\n",
    "report.save(path=\"sentiment-analysis-distribution.html\")"
   ]
  },
  {
   "cell_type": "markdown",
   "id": "56fe3173-497a-4a51-86d4-5bd65d283fa5",
   "metadata": {},
   "source": [
    "Here we’re showing both a histogram for the overall distribution, as well as a 100% stacked bar chart grouped by category. Running that code, we get the following result:&#x20;"
   ]
  },
  {
   "cell_type": "code",
   "execution_count": 9,
   "id": "ffe6546c-411b-4c63-9b5c-ceba56008385",
   "metadata": {
    "tags": [
     "remove_input"
    ]
   },
   "outputs": [
    {
     "data": {
      "text/html": [
       "<a href=\"/guides/sentiment-analysis-for-textual-data/sentiment-analysis-distribution.html\"><img src=\"/guides/sentiment-analysis-for-textual-data/sentiment-analysis-distribution-preview.png\"></a>"
      ],
      "text/plain": [
       "<IPython.core.display.HTML object>"
      ]
     },
     "metadata": {},
     "output_type": "display_data"
    }
   ],
   "source": [
    "from dpdocsutils import previews\n",
    "previews.embed_local_report('/guides/sentiment-analysis-for-textual-data/sentiment-analysis-distribution.html', width=\"100%\", height=520)"
   ]
  },
  {
   "cell_type": "markdown",
   "id": "d2f02e7b-f060-4605-9292-c78918558354",
   "metadata": {},
   "source": [
    "Seems like most headlines are neutral, and health has overall more negative articles than the other categories.&#x20;\n",
    "\n",
    "To give more insight into how our model is classifying the articles, we can create two more plots, one showing a sample of how the model classifies particular headlines, and another showing the average sentiment score for our largest publishers over time:&#x20;"
   ]
  },
  {
   "cell_type": "code",
   "execution_count": 10,
   "id": "721022ae-0529-46b3-9218-47bfdb0f562d",
   "metadata": {
    "tags": [
     "remove_all_output"
    ]
   },
   "outputs": [
    {
     "data": {
      "text/markdown": [
       "Report saved to ./sentiment-analysis-line.html"
      ],
      "text/plain": [
       "<IPython.core.display.Markdown object>"
      ]
     },
     "metadata": {},
     "output_type": "display_data"
    }
   ],
   "source": [
    "alt.data_transformers.disable_max_rows()\n",
    "\n",
    "# Plot a random sample of 5k articles\n",
    "scatter = (\n",
    "    alt.Chart(df.sample(n=5000, random_state=1))\n",
    "    .mark_point()\n",
    "    .encode(\n",
    "        alt.X(\"TIMESTAMP\", axis=alt.Axis(title=\"\")),\n",
    "        y=alt.Y(\"compound\", axis=alt.Axis(title=\"\")),\n",
    "        color=alt.Color(\"compound:Q\", scale=alt.Scale(scheme=\"redyellowgreen\")),\n",
    "        tooltip=[\"TITLE\", \"PUBLISHER\", \"compound:Q\", \"TIMESTAMP\"],\n",
    "    )\n",
    ")\n",
    "\n",
    "# Get the 10 largest publishers\n",
    "largest_10 = (\n",
    "    df.groupby(by=[\"PUBLISHER\"])[\"ID\"]\n",
    "    .count()\n",
    "    .reset_index()\n",
    "    .rename(columns={\"ID\": \"count\"})\n",
    "    .nlargest(10, \"count\")\n",
    ")\n",
    "\n",
    "# Truncate by 30-day periods\n",
    "df[\"date\"] = df[\"TIMESTAMP\"].dt.floor(freq=\"30D\")\n",
    "\n",
    "line = (\n",
    "    alt.Chart(df[df.PUBLISHER.isin(largest_10.PUBLISHER)])\n",
    "    .mark_line(clip=True)\n",
    "    .encode(\n",
    "        alt.X(\"date\", axis=alt.Axis(title=\"\")),\n",
    "        y=alt.Y(\n",
    "            \"average(compound)\",\n",
    "            axis=alt.Axis(title=\"\"),\n",
    "            scale=alt.Scale(domain=(-0.15, 0.15)),\n",
    "        ),\n",
    "        color=alt.Color(\"PUBLISHER:O\"),\n",
    "        tooltip=[\"PUBLISHER\", \"average(compound):Q\", \"date\"],\n",
    "    )\n",
    ")\n",
    "\n",
    "\n",
    "report = dp.Report(dp.Group(dp.Plot(line), largest_10, columns=2))\n",
    "report.save(path=\"sentiment-analysis-line.html\")\n"
   ]
  },
  {
   "cell_type": "markdown",
   "id": "83ad6a64-de00-4926-89f7-d80d4475e513",
   "metadata": {},
   "source": [
    "This is where Altair really shines - its declarative syntax means you can change just one or two keywords to get an entirely different view on the data. Running that code gives us the following result:&#x20;"
   ]
  },
  {
   "cell_type": "code",
   "execution_count": 11,
   "id": "4f57b85d-c486-4d1b-99e9-d4cefe2e132d",
   "metadata": {
    "tags": [
     "remove_input"
    ]
   },
   "outputs": [
    {
     "data": {
      "text/html": [
       "<a href=\"/guides/sentiment-analysis-for-textual-data/sentiment-analysis-line.html\"><img src=\"/guides/sentiment-analysis-for-textual-data/sentiment-analysis-line-preview.png\"></a>"
      ],
      "text/plain": [
       "<IPython.core.display.HTML object>"
      ]
     },
     "metadata": {},
     "output_type": "display_data"
    }
   ],
   "source": [
    "from dpdocsutils import previews\n",
    "previews.embed_local_report('/guides/sentiment-analysis-for-textual-data/sentiment-analysis-line.html', width=\"100%\", height=520)"
   ]
  },
  {
   "cell_type": "markdown",
   "id": "47eba713-e573-43bf-9510-64bcbe1a9e4b",
   "metadata": {},
   "source": [
    "By creating interactive visualizations, you enable viewers to explore the data directly. They’ll be much more likely to trust your overall conclusions if they can drill down to the original datapoints.&#x20;\n",
    "\n",
    "Looking at the publishers chart it seems that HuffPost is consistently more negative and RTT more positive. Hmmm, seems like they have different editorial policies…\n",
    "\n",
    "## Creating a Datapane report\n",
    "\n",
    "The final step is to package the results into an interactive Datapane report so that others can interact with and understand the data.&#x20;\n",
    "\n",
    "After logging into our Datapane account, we'll wrap our plots inside `dp.Plot` blocks, add some additional pages and written context:&#x20;"
   ]
  },
  {
   "cell_type": "code",
   "execution_count": 14,
   "id": "af47b4fa-11b1-4b70-b7e4-6a716f45189c",
   "metadata": {
    "tags": [
     "remove_all_output"
    ]
   },
   "outputs": [
    {
     "data": {
      "text/markdown": [
       "Report saved to ./sentiment-analysis-report.html"
      ],
      "text/plain": [
       "<IPython.core.display.Markdown object>"
      ]
     },
     "metadata": {},
     "output_type": "display_data"
    }
   ],
   "source": [
    "import datapane as dp\n",
    "\n",
    "report = dp.Report(\n",
    "    dp.Page(\n",
    "        dp.Text(\n",
    "            \"\"\"\n",
    "# Sentiment Analysis of News Headlines\n",
    "This report uses a sentiment analysis model to determine the positivity/negativity of news headlines from the [UCI News Dataset](https://www.kaggle.com/uciml/news-aggregator-dataset).         \n",
    "\"\"\"\n",
    "        ),\n",
    "        dp.Group(dp.Plot(hist), dp.Plot(stacked_bar), columns=2),\n",
    "        dp.Text(\n",
    "            \"\"\"\n",
    "Scores are unimodal, with over 50% of headlines classified as 'neutral'. Health appears to be the most negative news category. \n",
    "\n",
    "## Examples and publishers\n",
    "\n",
    "To explore individual headlines, hover over the individual scatter points below: \n",
    "        \"\"\"\n",
    "        ),\n",
    "        dp.Plot(scatter),\n",
    "        dp.Plot(line, label=\"Top 10 publishers average monthly sentiment\"),\n",
    "        dp.Text(\n",
    "            \"\"\"\n",
    "Of our top 10 publishers, it looks like Huffpost is most consistently negative, and RTT Today most positive.\n",
    "\n",
    "\n",
    "## Next Steps\n",
    "....\n",
    "        \n",
    "        \"\"\"\n",
    "        ),\n",
    "        title=\"Charts\",\n",
    "    ),\n",
    "    dp.Page(dp.DataTable(df.head(1000)), title=\"Samples of Selected Data\"),\n",
    ")\n",
    "\n",
    "report.save(path=\"sentiment-analysis-report.html\")"
   ]
  },
  {
   "cell_type": "markdown",
   "id": "f5469890-ae90-47c8-96b2-5a919eedb64e",
   "metadata": {},
   "source": [
    "Running that code gives us the following:&#x20;"
   ]
  },
  {
   "cell_type": "code",
   "execution_count": 15,
   "id": "235962da-a8a9-43a2-b01e-2f09ef53f6f5",
   "metadata": {
    "tags": [
     "remove_input"
    ]
   },
   "outputs": [
    {
     "data": {
      "text/html": [
       "<a href=\"/guides/sentiment-analysis-for-textual-data/sentiment-analysis-report.html\"><img src=\"/guides/sentiment-analysis-for-textual-data/sentiment-analysis-report-preview.png\"></a>"
      ],
      "text/plain": [
       "<IPython.core.display.HTML object>"
      ]
     },
     "metadata": {},
     "output_type": "display_data"
    }
   ],
   "source": [
    "from dpdocsutils import previews\n",
    "previews.embed_local_report('/guides/sentiment-analysis-for-textual-data/sentiment-analysis-report.html', width=\"100%\", height=800)"
   ]
  }
 ],
 "metadata": {
  "kernelspec": {
   "display_name": "Python 3 (ipykernel)",
   "language": "python",
   "name": "python3"
  },
  "language_info": {
   "codemirror_mode": {
    "name": "ipython",
    "version": 3
   },
   "file_extension": ".py",
   "mimetype": "text/x-python",
   "name": "python",
   "nbconvert_exporter": "python",
   "pygments_lexer": "ipython3",
   "version": "3.10.5"
  }
 },
 "nbformat": 4,
 "nbformat_minor": 5
}
