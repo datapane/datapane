{
 "cells": [
  {
   "cell_type": "markdown",
   "id": "8b244dec-262e-4af0-942c-957b27cae806",
   "metadata": {},
   "source": [
    "# Adding interactive filters to plots\n",
    "\n",
    "## Introduction\n",
    "\n",
    "This guide will show you how to build interactive timeseries plots using advanced visualization libraries like Plotly, Bokeh, and Altair. We'll focus on these two components:&#x20;\n",
    "\n",
    "1. **Dropdown menus** let you toggle between different series in the same plot\n",
    "2. **Date range sliders** allowing you to observe trends between specific periods\n",
    "\n",
    "## Dropdown menu\n",
    "\n",
    "A dropdown menu is really handy if you have a lot of categories in the data, e.g. stocks or countries, and you want to observe the trends using a line plot in the same plot or figure. This saves you from creating several plots in a loop.\n",
    "\n",
    "In this tutorial, we'll use a [Covid 19 dataset](https://www.kaggle.com/imdevskp/corona-virus-report) which shows the covid caseload across different countries and add a dropdown to change the country within the same plot.\n",
    "\n",
    "### Altair\n",
    "\n",
    "You can read more about interactive components with Altair [here](https://altair-viz.github.io/gallery/multiple\\_interactions.html). Creating the plot with Altair involves binding a country list to a selection component:&#x20;"
   ]
  },
  {
   "cell_type": "code",
   "execution_count": null,
   "id": "7c71553b-2744-43d5-9ecc-1b5ef59c6ce9",
   "metadata": {
    "tags": [
     "remove_all_output"
    ]
   },
   "outputs": [],
   "source": [
    "import pandas as pd\n",
    "import datapane as dp\n",
    "import altair as alt\n",
    "\n",
    "alt.data_transformers.disable_max_rows()\n",
    "\n",
    "df = pd.read_csv(\"./covid_19_clean_complete.csv\")\n",
    "country_list = list(df[\"Country/Region\"].unique())[0:5]\n",
    "df = df[df['Country/Region'].isin(country_list)]\n",
    "df[\"Date\"] = pd.to_datetime(df[\"Date\"])\n",
    "\n",
    "input_dropdown = alt.binding_select(options=country_list)\n",
    "selection = alt.selection_single(\n",
    "    fields=[\"Country/Region\"], bind=input_dropdown, name=\"Country\"\n",
    ")\n",
    "\n",
    "alt_plot = (\n",
    "    alt.Chart(df)\n",
    "    .mark_line()\n",
    "    .encode(x=\"Date\", y=\"Confirmed\", tooltip=\"Confirmed\")\n",
    "    .add_selection(selection)\n",
    "    .transform_filter(selection)\n",
    ")\n",
    "\n",
    "app = dp.App(dp.Plot(alt_plot))\n",
    "app.save(path=\"interactive-altair-plot.html\")"
   ]
  },
  {
   "cell_type": "markdown",
   "id": "e4006c43-bb5c-4a10-a2c2-8ab4dd9430de",
   "metadata": {},
   "source": [
    "Running that code gives us:"
   ]
  },
  {
   "cell_type": "code",
   "execution_count": null,
   "id": "c28c58f2-7da5-4578-bb44-1e1fc6108e4a",
   "metadata": {
    "tags": [
     "remove_input"
    ]
   },
   "outputs": [],
   "source": [
    "from dpdocsutils import previews\n",
    "previews.embed_local_app('/guides/adding-interactive-filters-to-plots/interactive-altair-plot.html', width=\"100%\", height=480)"
   ]
  },
  {
   "cell_type": "markdown",
   "id": "699f2165-5ef6-463c-97b3-0a4c2e72c4ee",
   "metadata": {},
   "source": [
    "### Plotly\n",
    "\n",
    "Plotly offers a range of interactive options which are called [Custom Controls](https://plotly.com/python/#controls). The best part about these controls is that they can be added to the plots purely in pythonic code. Let's visualize the same plot in Plotly:&#x20;"
   ]
  },
  {
   "cell_type": "code",
   "execution_count": null,
   "id": "68343e3e-064e-4ded-81cf-8b42979b8a02",
   "metadata": {
    "tags": [
     "remove_all_output"
    ]
   },
   "outputs": [],
   "source": [
    "import pandas as pd\n",
    "import plotly.graph_objects as go\n",
    "import plotly.express as px\n",
    "\n",
    "df = pd.read_csv(\"./covid_19_clean_complete.csv\")\n",
    "country_list = list(df[\"Country/Region\"].unique())[0:5]\n",
    "df = df[df['Country/Region'].isin(country_list)]\n",
    "\n",
    "fig = go.Figure()\n",
    "\n",
    "for country in country_list:\n",
    "    fig.add_trace(\n",
    "        go.Scatter(\n",
    "            x=df[\"Date\"][df[\"Country/Region\"] == country],\n",
    "            y=df[\"Confirmed\"][df[\"Country/Region\"] == country],\n",
    "            name=country,\n",
    "            visible=True,\n",
    "        )\n",
    "    )\n",
    "\n",
    "buttons = []\n",
    "\n",
    "for i, country in enumerate(country_list):\n",
    "    args = [False] * len(country_list)\n",
    "    args[i] = True\n",
    "    button = dict(label=country, method=\"update\", args=[{\"visible\": args}])\n",
    "    buttons.append(button)\n",
    "\n",
    "fig.update_layout(\n",
    "    updatemenus=[\n",
    "        dict(\n",
    "            active=0,\n",
    "            type=\"dropdown\",\n",
    "            buttons=buttons,\n",
    "            x=0,\n",
    "            y=1.1,\n",
    "            xanchor=\"left\",\n",
    "            yanchor=\"bottom\",\n",
    "        )\n",
    "    ],\n",
    "    autosize=False,\n",
    "    width=1000,\n",
    "    height=800,\n",
    ")\n",
    "\n",
    "app = dp.App(dp.Plot(fig))\n",
    "app.save(path=\"interactive-plotly-plot.html\")"
   ]
  },
  {
   "cell_type": "markdown",
   "id": "40099e45-697a-404f-bdfb-e8c1d7b91f3d",
   "metadata": {},
   "source": [
    "And you will have a nice-looking dropdown added to the time-series plot:&#x20;"
   ]
  },
  {
   "cell_type": "code",
   "execution_count": null,
   "id": "54a40d32-58f7-4cd1-94ea-db232112f89a",
   "metadata": {
    "tags": [
     "remove_input"
    ]
   },
   "outputs": [],
   "source": [
    "from dpdocsutils import previews\n",
    "previews.embed_local_app('/guides/adding-interactive-filters-to-plots/interactive-plotly-plot.html', width=\"100%\", height=920)"
   ]
  },
  {
   "cell_type": "markdown",
   "id": "117a13b5-a6ef-4cb3-8d53-25b6af8ae950",
   "metadata": {},
   "source": [
    "### Bokeh\n",
    "\n",
    "Bokeh has components called widgets which can be used to add several interactive components to your plots. Widgets are primarily aimed at creating dashboard components hosted on the Bokeh server. You can read more about widgets [here](https://docs.bokeh.org/en/latest/docs/user\\_guide/interaction/widgets.html).\n",
    "\n",
    "Keep in mind that in order to create widgets for standalone HTML files or even while working with Jupyter notebook, you will need to use **CustomJS** callbacks. This requires a bit of JavaScript knowledge to get the dropdown working properly. If you want to do it the pure pythonic way, you have to use the Bokeh server to make the widgets work.\n",
    "\n",
    "We will replicate the same use-case as above using Bokeh dropdowns."
   ]
  },
  {
   "cell_type": "code",
   "execution_count": null,
   "id": "6a55639a-e08e-44df-8ddc-4a104837f0b6",
   "metadata": {
    "tags": [
     "remove_all_output"
    ]
   },
   "outputs": [],
   "source": [
    "import pandas as pd\n",
    "import datapane as dp\n",
    "from bokeh.io import output_file, show, output_notebook, save\n",
    "from bokeh.models import ColumnDataSource, Select, DateRangeSlider\n",
    "from bokeh.plotting import figure, show\n",
    "from bokeh.models import CustomJS\n",
    "from bokeh.layouts import row, column\n",
    "\n",
    "df = pd.read_csv(\"./covid_19_clean_complete.csv\")\n",
    "country_list = list(df[\"Country/Region\"].unique())[0:5]\n",
    "df = df[df['Country/Region'].isin(country_list)]\n",
    "df[\"Date\"] = pd.to_datetime(df[\"Date\"])\n",
    "\n",
    "cols1 = df[[\"Country/Region\", \"Date\", \"Confirmed\"]]\n",
    "cols2 = cols1[cols1[\"Country/Region\"] == \"Afghanistan\"]\n",
    "\n",
    "Overall = ColumnDataSource(data=cols1)\n",
    "Curr = ColumnDataSource(data=cols2)\n",
    "\n",
    "# plot and the menu is linked with each other by this callback function\n",
    "callback = CustomJS(\n",
    "    args=dict(source=Overall, sc=Curr),\n",
    "    code=\"\"\"\n",
    "        var f = cb_obj.value\n",
    "        sc.data['Date']=[]\n",
    "        sc.data['Confirmed']=[]\n",
    "        for(var i = 0; i <= source.get_length(); i++){\n",
    "            if (source.data['Country/Region'][i] == f){\n",
    "                sc.data['Date'].push(source.data['Date'][i])\n",
    "                sc.data['Confirmed'].push(source.data['Confirmed'][i])\n",
    "             }\n",
    "        }   \n",
    "\n",
    "        sc.change.emit();\n",
    "\"\"\",\n",
    ")\n",
    "\n",
    "menu = Select(\n",
    "    options=country_list, value=\"Afghanistan\", title=\"Country\"\n",
    ")  # drop down menu\n",
    "\n",
    "bokeh_p = figure(\n",
    "    x_axis_label=\"Date\",\n",
    "    y_axis_label=\"Confirmed\",\n",
    "    y_axis_type=\"linear\",\n",
    "    x_axis_type=\"datetime\",\n",
    ")  # creating figure object\n",
    "bokeh_p.line(\n",
    "    x=\"Date\", y=\"Confirmed\", color=\"green\", source=Curr\n",
    ")  # plotting the data using glyph circle\n",
    "\n",
    "menu.js_on_change(\"value\", callback)  # calling the function on change of selection\n",
    "layout = column(menu, bokeh_p)  # creating the layout\n",
    "\n",
    "app = dp.App(dp.Plot(layout))\n",
    "app.save(path=\"interactive-bokeh-plot.html\")"
   ]
  },
  {
   "cell_type": "markdown",
   "id": "4d9c4244-6b88-4712-9426-77225357ce9f",
   "metadata": {},
   "source": [
    "The output will look like the following:"
   ]
  },
  {
   "cell_type": "code",
   "execution_count": null,
   "id": "97c78afb-6a77-405c-8924-c36c983ffc7a",
   "metadata": {
    "tags": [
     "remove_input"
    ]
   },
   "outputs": [],
   "source": [
    "from dpdocsutils import previews\n",
    "previews.embed_local_app('/guides/adding-interactive-filters-to-plots/interactive-bokeh-plot.html', width=\"100%\", height=800)"
   ]
  },
  {
   "cell_type": "markdown",
   "id": "45c26adc-ec00-4987-8cf2-62f734f3a199",
   "metadata": {},
   "source": [
    "### Matplotlib/Seaborn\n",
    "\n",
    "If you want to use a non-interactive library like Matplotlib or Seaborn, you can use the `dp.Select`  block to mimic the interactive filter ability, like this:&#x20;"
   ]
  },
  {
   "cell_type": "code",
   "execution_count": null,
   "id": "7c123467-5c47-49b2-8dd3-0e4728370878",
   "metadata": {
    "tags": [
     "remove_all_output"
    ]
   },
   "outputs": [],
   "source": [
    "import pandas as pd\n",
    "import matplotlib.pyplot as plt\n",
    "import datapane as dp\n",
    "\n",
    "df = pd.read_csv(\"./covid_19_clean_complete.csv\")\n",
    "country_list = list(df[\"Country/Region\"].unique())[0:5]\n",
    "df = df[df['Country/Region'].isin(country_list)]\n",
    "\n",
    "plt.figure(figsize=(10, 5), dpi=300)\n",
    "\n",
    "plot_list = [\n",
    "    dp.Plot(\n",
    "        df[df[\"Country/Region\"] == country].plot.line(x=\"Date\", y=\"Confirmed\"),\n",
    "        label=country,\n",
    "    )\n",
    "    for country in country_list\n",
    "]\n",
    "\n",
    "app = dp.App(dp.Select(blocks=plot_list))\n",
    "app.save(path=\"interactive-matplotlib-plot.html\")"
   ]
  },
  {
   "cell_type": "markdown",
   "id": "61e58a87-eee1-4346-83d2-2b5d1d82599d",
   "metadata": {},
   "source": [
    "In this example, we've restricted it to 10 plots.&#x20;"
   ]
  },
  {
   "cell_type": "code",
   "execution_count": null,
   "id": "94756775-ff96-47b8-9180-cf1f6f4d593d",
   "metadata": {
    "tags": [
     "remove_input"
    ]
   },
   "outputs": [],
   "source": [
    "from dpdocsutils import previews\n",
    "previews.embed_local_app('/guides/adding-interactive-filters-to-plots/interactive-matplotlib-plot.html', width=\"100%\", height=700)"
   ]
  },
  {
   "cell_type": "markdown",
   "id": "285b79f1-78a5-4726-bcaa-2e7fba707620",
   "metadata": {},
   "source": [
    "## Date range slider\n",
    "\n",
    "Another interactive component that comes really handy (especially while working with timeseries plots) is a date range slider.\n",
    "\n",
    "Since most of the timeseries plots have a date range in the X-axis, a slider allows you to dynamically change the period and view only a section of the plot to understand the trends for that particular period.\n",
    "\n",
    "### Altair\n",
    "\n",
    "With Altair, similar to Plotly, you can use the generic slider to use as a Date Range Slider. However, keep in mind that Vega considers the timeseries data in milliseconds and it is  difficult to show the date information in the slider. It works if you have yearly data - but if the data is broken into days and months, it is tricky to make it work."
   ]
  },
  {
   "cell_type": "code",
   "execution_count": null,
   "id": "d7a6029b-71da-4bb4-aaac-1ed77c4fabdc",
   "metadata": {
    "tags": [
     "remove_all_output"
    ]
   },
   "outputs": [],
   "source": [
    "import altair as alt\n",
    "import pandas as pd\n",
    "import datapane as dp\n",
    "\n",
    "alt.data_transformers.disable_max_rows()\n",
    "\n",
    "df = pd.read_csv(\"./covid_19_clean_complete.csv\")\n",
    "country_list = list(df[\"Country/Region\"].unique())[0:5]\n",
    "df = df[df['Country/Region'].isin(country_list)]\n",
    "df[\"Date\"] = pd.to_datetime(df[\"Date\"])\n",
    "\n",
    "input_dropdown = alt.binding_select(options=country_list)\n",
    "selection = alt.selection_single(\n",
    "    fields=[\"Country/Region\"], bind=input_dropdown, name=\"Country\"\n",
    ")\n",
    "\n",
    "\n",
    "def timestamp(t):\n",
    "    return pd.to_datetime(t).timestamp() * 1000\n",
    "\n",
    "\n",
    "slider = alt.binding_range(\n",
    "    step=30 * 24 * 60 * 60 * 1000,  # 30 days in milliseconds\n",
    "    min=timestamp(min(df[\"Date\"])),\n",
    "    max=timestamp(max(df[\"Date\"])),\n",
    ")\n",
    "\n",
    "select_date = alt.selection_single(\n",
    "    fields=[\"Date\"],\n",
    "    bind=slider,\n",
    "    init={\"Date\": timestamp(min(df[\"Date\"]))},\n",
    "    name=\"slider\",\n",
    ")\n",
    "\n",
    "alt_plot = (\n",
    "    alt.Chart(df)\n",
    "    .mark_line()\n",
    "    .encode(x=\"Date\", y=\"Confirmed\", tooltip=\"Confirmed\")\n",
    "    .add_selection(selection)\n",
    "    .transform_filter(selection)\n",
    "    .add_selection(select_date)\n",
    "    .transform_filter(\n",
    "        \"(year(datum.Date) == year(slider.Date[0])) && \"\n",
    "        \"(month(datum.Date) == month(slider.Date[0]))\"\n",
    "    )\n",
    ")\n",
    "\n",
    "app = dp.App(dp.Plot(alt_plot))\n",
    "app.save(path=\"interactive-slider-altair-plot.html\")"
   ]
  },
  {
   "cell_type": "markdown",
   "id": "2d443bc4-5608-42f4-b68b-b6be30ce38f4",
   "metadata": {},
   "source": [
    "The output will look like the following:"
   ]
  },
  {
   "cell_type": "code",
   "execution_count": null,
   "id": "adc7b2c4-d120-4a44-bdfb-a9df09e0d4fb",
   "metadata": {
    "tags": [
     "remove_input"
    ]
   },
   "outputs": [],
   "source": [
    "from dpdocsutils import previews\n",
    "previews.embed_local_app('/guides/adding-interactive-filters-to-plots/interactive-slider-altair-plot.html', width=\"100%\", height=600)"
   ]
  },
  {
   "cell_type": "markdown",
   "id": "740bfa59-dc47-4910-a8d6-f315dfbe912c",
   "metadata": {},
   "source": [
    "### Plotly\n",
    "\n",
    "Plotly has a generic slider component that can be used to change the data corresponding to any axis. While it does not have a specific slider for timeseries data, the generic slider can be used to create a date range slider. You can read more about sliders [here](https://plotly.com/python/sliders/).\n",
    "\n",
    "To create a slider, we will take the same timeseries plot created previously with the dropdown menu and add a slider component below the plot - just a single extra parameter `xaxis1_rangeslider_visible`!&#x20;"
   ]
  },
  {
   "cell_type": "code",
   "execution_count": null,
   "id": "be72e2e2-54a5-4e3f-975c-2fc88c697cee",
   "metadata": {
    "tags": [
     "remove_all_output"
    ]
   },
   "outputs": [],
   "source": [
    "import pandas as pd\n",
    "import plotly.graph_objects as go\n",
    "import plotly.express as px\n",
    "\n",
    "df = pd.read_csv(\"./covid_19_clean_complete.csv\")\n",
    "country_list = list(df[\"Country/Region\"].unique())[0:5]\n",
    "df = df[df['Country/Region'].isin(country_list)]\n",
    "fig = go.Figure()\n",
    "\n",
    "for country in country_list:\n",
    "    fig.add_trace(\n",
    "        go.Scatter(\n",
    "            x=df[\"Date\"][df[\"Country/Region\"] == country],\n",
    "            y=df[\"Confirmed\"][df[\"Country/Region\"] == country],\n",
    "            name=country,\n",
    "            visible=True,\n",
    "        )\n",
    "    )\n",
    "\n",
    "buttons = []\n",
    "\n",
    "for i, country in enumerate(country_list):\n",
    "    args = [False] * len(country_list)\n",
    "    args[i] = True\n",
    "\n",
    "    # create a button object for the country we are on\n",
    "    button = dict(label=country, method=\"update\", args=[{\"visible\": args}])\n",
    "\n",
    "    # add the button to our list of buttons\n",
    "    buttons.append(button)\n",
    "\n",
    "fig.update_layout(\n",
    "    updatemenus=[\n",
    "        dict(\n",
    "            active=0,\n",
    "            type=\"dropdown\",\n",
    "            buttons=buttons,\n",
    "            x=0,\n",
    "            y=1.1,\n",
    "            xanchor=\"left\",\n",
    "            yanchor=\"bottom\",\n",
    "        )\n",
    "    ],\n",
    "    autosize=False,\n",
    "    width=1000,\n",
    "    height=800,\n",
    "    xaxis1_rangeslider_visible=True,\n",
    ")\n",
    "\n",
    "app = dp.App(dp.Plot(fig))\n",
    "app.save(path=\"interactive-slider-plotly-plot.html\")"
   ]
  },
  {
   "cell_type": "markdown",
   "id": "b5bd1c9f-c76d-4a8a-b5f3-ea2f131d38f6",
   "metadata": {},
   "source": [
    "The output will look like the following:"
   ]
  },
  {
   "cell_type": "code",
   "execution_count": null,
   "id": "63825df2-ec18-454f-b5ad-b70f6003fd6c",
   "metadata": {
    "tags": [
     "remove_input"
    ]
   },
   "outputs": [],
   "source": [
    "from dpdocsutils import previews\n",
    "previews.embed_local_app('/guides/adding-interactive-filters-to-plots/interactive-slider-plotly-plot.html', width=\"100%\", height=900)"
   ]
  },
  {
   "cell_type": "markdown",
   "id": "b006cb7e-ca0a-4221-9d22-451a465430d0",
   "metadata": {},
   "source": [
    "### Bokeh\n",
    "\n",
    "Similar to the Dropdown widget, Bokeh has a Date Range Slider widget specifically to work with timeseries data. This widget is different from the generic Range Slider widget. In order to make this widget work, a CustomJS callback is required."
   ]
  },
  {
   "cell_type": "code",
   "execution_count": null,
   "id": "8af09220-4a78-4ce6-802a-c96fc2739404",
   "metadata": {
    "tags": [
     "remove_all_output"
    ]
   },
   "outputs": [],
   "source": [
    "import pandas as pd\n",
    "import datapane as dp\n",
    "from bokeh.io import output_file, show, output_notebook, save\n",
    "from bokeh.models import ColumnDataSource, Select, DateRangeSlider\n",
    "from bokeh.plotting import figure, show\n",
    "from bokeh.models import CustomJS\n",
    "from bokeh.layouts import row, column\n",
    "\n",
    "df = pd.read_csv(\"./covid_19_clean_complete.csv\")\n",
    "country_list = list(df[\"Country/Region\"].unique())[0:5]\n",
    "df = df[df['Country/Region'].isin(country_list)]\n",
    "df[\"Date\"] = pd.to_datetime(df[\"Date\"])\n",
    "\n",
    "cols1 = df.loc[:, [\"Country/Region\", \"Date\", \"Confirmed\"]]\n",
    "cols2 = cols1[cols1[\"Country/Region\"] == \"Afghanistan\"]\n",
    "\n",
    "Overall = ColumnDataSource(data=cols1)\n",
    "Curr = ColumnDataSource(\n",
    "    data=cols2\n",
    ")  # plot and the menu is linked with each other by this callback function\n",
    "\n",
    "callback = CustomJS(\n",
    "    args=dict(source=Overall, sc=Curr),\n",
    "    code=\"\"\"\n",
    "        var f = cb_obj.value\n",
    "        sc.data['Date']=[]\n",
    "        sc.data['Confirmed']=[]\n",
    "        for(var i = 0; i <= source.get_length(); i++){\n",
    "            if (source.data['Country/Region'][i] == f){\n",
    "                sc.data['Date'].push(source.data['Date'][i])\n",
    "                sc.data['Confirmed'].push(source.data['Confirmed'][i])\n",
    "             }\n",
    "        }   \n",
    "\n",
    "        sc.change.emit();\n",
    "\t\t\"\"\",\n",
    ")\n",
    "\n",
    "menu = Select(\n",
    "    options=country_list, value=\"Afghanistan\", title=\"Country/Region\"\n",
    ")  # drop down menu\n",
    "bokeh_p = figure(\n",
    "    x_axis_label=\"Date\",\n",
    "    y_axis_label=\"Confirmed\",\n",
    "    y_axis_type=\"linear\",\n",
    "    x_axis_type=\"datetime\",\n",
    ")  # creating figure object\n",
    "bokeh_p.line(\n",
    "    x=\"Date\", y=\"Confirmed\", color=\"green\", source=Curr\n",
    ")  # plotting the data using glyph circle\n",
    "\n",
    "menu.js_on_change(\"value\", callback)  # calling the function on change of selection\n",
    "\n",
    "date_range_slider = DateRangeSlider(\n",
    "    value=(min(df[\"Date\"]), max(df[\"Date\"])), start=min(df[\"Date\"]), end=max(df[\"Date\"])\n",
    ")\n",
    "\n",
    "date_range_slider.js_link(\"value\", bokeh_p.x_range, \"start\", attr_selector=0)\n",
    "date_range_slider.js_link(\"value\", bokeh_p.x_range, \"end\", attr_selector=1)\n",
    "layout = column(menu, date_range_slider, bokeh_p)\n",
    "\n",
    "app = dp.App(dp.Plot(layout))\n",
    "app.save(path=\"interactive-slider-bokeh-plot.html\")"
   ]
  },
  {
   "cell_type": "markdown",
   "id": "c2eb91f8-b5b5-4ab0-989a-00d8377560b9",
   "metadata": {},
   "source": [
    "The output will look like the following:"
   ]
  },
  {
   "cell_type": "code",
   "execution_count": null,
   "id": "601b9980-9339-4eb6-b1ee-5731ad4c0d1e",
   "metadata": {
    "tags": [
     "remove_input"
    ]
   },
   "outputs": [],
   "source": [
    "from dpdocsutils import previews\n",
    "previews.embed_local_app('/guides/adding-interactive-filters-to-plots/interactive-slider-bokeh-plot.html', width=\"100%\", height=800)"
   ]
  }
 ],
 "metadata": {
  "language_info": {
   "name": "python"
  }
 },
 "nbformat": 4,
 "nbformat_minor": 5
}
