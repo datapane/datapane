{
 "cells": [
  {
   "cell_type": "markdown",
   "id": "c327fc19-daa9-47b1-b123-d897137594bd",
   "metadata": {},
   "source": [
    "# Catalogs\n",
    "\n",
    "Browse through premade and reusable Blocks, Components, and Templates.\n",
    "\n",
    "<div class=\"grid cards\" markdown>\n",
    "    \n",
    "-   :material-toy-brick-search:{ .lg .middle } __Blocks__\n",
    "\n",
    "    ---\n",
    "\n",
    "    Examples of Datapane blocks in action.\n",
    "    \n",
    "    [:octicons-arrow-right-24: Browse blocks](/catalogs/blocks)\n",
    "\n",
    "-   :material-wall:{ .lg .middle } __Components__\n",
    "\n",
    "    ---\n",
    "    \n",
    "    Example combinations of multiple Datapane blocks.\n",
    "\n",
    "    [:octicons-arrow-right-24: Browse components](/catalogs/components)\n",
    "\n",
    "-   :material-post-outline:{ .lg .middle } __Templates__\n",
    "\n",
    "    ---\n",
    "    \n",
    "    Expertly crafted Datapane templates that can be used as a starting point for your next project.\n",
    "\n",
    "    [:octicons-arrow-right-24: Browse templates](/catalogs/templates)\n",
    "\n",
    "    \n",
    "\n",
    "</div>"
   ]
  }
 ],
 "metadata": {
  "language_info": {
   "name": "python"
  }
 },
 "nbformat": 4,
 "nbformat_minor": 5
}
