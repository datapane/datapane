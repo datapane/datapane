{
 "cells": [
  {
   "cell_type": "markdown",
   "id": "c327fc19-daa9-47b1-b123-d897137594bd",
   "metadata": {},
   "source": [
    "# Catalogues\n",
    "\n",
    "Browse through premade and reusable Blocks, Components, and Templates.\n",
    "\n",
    "<div class=\"grid cards\" markdown>\n",
    "    \n",
    "-   :material-toy-brick-search:{ .lg .middle } __Browse blocks__\n",
    "\n",
    "    ---\n",
    "\n",
    "    Examples of Datapane blocks in action.\n",
    "    \n",
    "    [:octicons-arrow-right-24: Browse components](/catalogues/blocks)\n",
    "\n",
    "-   :material-wall:{ .lg .middle } __Components__\n",
    "\n",
    "    ---\n",
    "    \n",
    "    Example combinations of multiple Datapane blocks.\n",
    "\n",
    "    [:octicons-arrow-right-24: Browse components](/catalogues/components)\n",
    "\n",
    "-   :material-post-outline:{ .lg .middle } __Templates__\n",
    "\n",
    "    ---\n",
    "    \n",
    "    Expertly crafted Datapane templates that can be used as a starting point for your next project.\n",
    "\n",
    "    [:octicons-arrow-right-24: Browse templates](/catalogues/templates)\n",
    "\n",
    "    \n",
    "\n",
    "</div>"
   ]
  }
 ],
 "metadata": {
  "kernelspec": {
   "display_name": "Python 3 (ipykernel)",
   "language": "python",
   "name": "python3"
  },
  "language_info": {
   "codemirror_mode": {
    "name": "ipython",
    "version": 3
   },
   "file_extension": ".py",
   "mimetype": "text/x-python",
   "name": "python",
   "nbconvert_exporter": "python",
   "pygments_lexer": "ipython3",
   "version": "3.10.5"
  }
 },
 "nbformat": 4,
 "nbformat_minor": 5
}
