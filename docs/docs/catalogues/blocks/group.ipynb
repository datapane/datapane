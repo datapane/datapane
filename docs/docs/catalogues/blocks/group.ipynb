{
 "cells": [
  {
   "cell_type": "markdown",
   "id": "5a5f7147-d2d4-4aa6-ac06-8f7df277c13a",
   "metadata": {},
   "source": [
    "# Groups and Grid layouts\n",
    "\n",
    "If you pass a list of blocks (such as `Plot` and `Table`) to a Report, they are -- by default -- laid out in a single column with a row per block. If you would like to customize the rows and columns, Datapane provides a `Group` component which takes a list of blocks and a number of columns and lays them out in a grid.\n",
    "\n",
    "If we take the example in the earlier tutorial, but want to lay the plot and dataset side-by-side, we can use specify this using `Group` and specifying the number of columns."
   ]
  },
  {
   "cell_type": "code",
   "execution_count": 1,
   "id": "699a36be-52de-4bb2-9b64-f9b05c1ed5ab",
   "metadata": {
    "tags": [
     "remove_all_output"
    ]
   },
   "outputs": [
    {
     "data": {
      "text/markdown": [
       "Report saved to ./grid-layout.html"
      ],
      "text/plain": [
       "<IPython.core.display.Markdown object>"
      ]
     },
     "metadata": {},
     "output_type": "display_data"
    }
   ],
   "source": [
    "import pandas as pd\n",
    "import altair as alt\n",
    "import datapane as dp\n",
    "alt.data_transformers.disable_max_rows()\n",
    "\n",
    "dataset = pd.read_csv(\"https://covid.ourworldindata.org/data/owid-covid-data.csv\")\n",
    "df = (\n",
    "    dataset.groupby([\"continent\", \"date\"])[\"new_cases_smoothed_per_million\"]\n",
    "    .mean()\n",
    "    .reset_index()\n",
    ")\n",
    "\n",
    "plot = (\n",
    "    alt.Chart(df)\n",
    "    .mark_area(opacity=0.4, stroke=\"black\")\n",
    "    .encode(\n",
    "        x=\"date:T\",\n",
    "        y=alt.Y(\"new_cases_smoothed_per_million:Q\", stack=None),\n",
    "        color=alt.Color(\"continent:N\", scale=alt.Scale(scheme=\"set1\")),\n",
    "        tooltip=\"continent:N\",\n",
    "    )\n",
    "    .interactive()\n",
    "    .properties(width=\"container\")\n",
    ")\n",
    "\n",
    "report = dp.Report(dp.Group(dp.Plot(plot), dp.DataTable(df), columns=2))\n",
    "report = report.save(path=\"grid-layout.html\")"
   ]
  },
  {
   "cell_type": "code",
   "execution_count": 2,
   "id": "2a240bfc-181c-4f73-af00-33bdd5dd842c",
   "metadata": {
    "tags": [
     "remove_input"
    ]
   },
   "outputs": [
    {
     "data": {
      "text/html": [
       "<a href=\"/catalogues/blocks/grid-layout.html\"><img src=\"/catalogues/blocks/grid-layout-preview.png\"></a>"
      ],
      "text/plain": [
       "<IPython.core.display.HTML object>"
      ]
     },
     "metadata": {},
     "output_type": "display_data"
    }
   ],
   "source": [
    "from dpdocsutils import previews\n",
    "previews.embed_local_report('/catalogues/blocks/grid-layout.html', width=\"100%\", height=580)"
   ]
  },
  {
   "cell_type": "markdown",
   "id": "f0ae4a24-a67c-4826-aea4-de2626c4520d",
   "metadata": {},
   "source": [
    "If you're generating your plots programmatically or have a lot of plots, you can pass them into the Group block as a list, using the `blocks` parameter. We can rewrite the previous example as follows :&#x20;"
   ]
  },
  {
   "cell_type": "code",
   "execution_count": 3,
   "id": "47fa0da6-85ee-40db-8a20-d10ed49d01fc",
   "metadata": {
    "tags": [
     "remove_all_output"
    ]
   },
   "outputs": [
    {
     "data": {
      "text/markdown": [
       "Report saved to ./group-list.html"
      ],
      "text/plain": [
       "<IPython.core.display.Markdown object>"
      ]
     },
     "metadata": {},
     "output_type": "display_data"
    }
   ],
   "source": [
    "import pandas as pd\n",
    "import altair as alt\n",
    "import datapane as dp\n",
    "\n",
    "dataset = pd.read_csv(\"https://covid.ourworldindata.org/data/owid-covid-data.csv\")\n",
    "df = (\n",
    "    dataset.groupby([\"continent\", \"date\"])[\"new_cases_smoothed_per_million\"]\n",
    "    .mean()\n",
    "    .reset_index()\n",
    ")\n",
    "\n",
    "plot = (\n",
    "    alt.Chart(df)\n",
    "    .mark_area(opacity=0.4, stroke=\"black\")\n",
    "    .encode(\n",
    "        x=\"date:T\",\n",
    "        y=alt.Y(\"new_cases_smoothed_per_million:Q\", stack=None),\n",
    "        color=alt.Color(\"continent:N\", scale=alt.Scale(scheme=\"set1\")),\n",
    "        tooltip=\"continent:N\",\n",
    "    )\n",
    "    .interactive()\n",
    "    .properties(width=\"container\")\n",
    ")\n",
    "\n",
    "# You could also generate these in a loop/function\n",
    "my_plots = [dp.Plot(plot), dp.DataTable(df)]\n",
    "\n",
    "report = dp.Report(dp.Group(blocks=my_plots, columns=2))\n",
    "\n",
    "report.save(path=\"group-list.html\")"
   ]
  },
  {
   "cell_type": "code",
   "execution_count": 4,
   "id": "c5763946-4d86-4df2-bba7-379ceb327973",
   "metadata": {
    "tags": [
     "remove_input"
    ]
   },
   "outputs": [
    {
     "data": {
      "text/html": [
       "<a href=\"/catalogues/blocks/group-list.html\"><img src=\"/catalogues/blocks/group-list-preview.png\"></a>"
      ],
      "text/plain": [
       "<IPython.core.display.HTML object>"
      ]
     },
     "metadata": {},
     "output_type": "display_data"
    }
   ],
   "source": [
    "from dpdocsutils import previews\n",
    "previews.embed_local_report('/catalogues/blocks/group-list.html', width=\"100%\", height=580)"
   ]
  },
  {
   "cell_type": "markdown",
   "id": "787a8312-1f76-4eae-9c30-f6bbf0aec7e6",
   "metadata": {},
   "source": [
    "!!! info\n",
    "    \n",
    "    As `Group`components are components themselves, they are composable, and you can create more custom layers of nested blocks, for instance nesting 2 rows in the left column of a 2 column layout\n",
    "\n",
    "### Customizing width\n",
    "\n",
    "To customize the width of your report, you can set the [report type](/tutorials/styling/)."
   ]
  }
 ],
 "metadata": {
  "language_info": {
   "name": "python"
  }
 },
 "nbformat": 4,
 "nbformat_minor": 5
}
