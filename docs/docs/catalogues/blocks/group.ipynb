{
 "cells": [
  {
   "cell_type": "markdown",
   "id": "f866037b-28e2-42f7-8358-b9233a53c9b2",
   "metadata": {},
   "source": [
    "# Groups and Grid layouts\n",
    "\n",
    "If you pass a list of blocks (such as `Plot` and `Table`) to an app, they are -- by default -- laid out in a single column with a row per block. If you would like to customize the rows and columns, Datapane provides a `Group` block which takes a list of blocks and a number of columns and lays them out in a grid.\n",
    "\n",
    "!!! info\n",
    "    \n",
    "    As `Group`blocks are blocks themselves, they are composable, and you can create more custom layers of nested blocks, for instance nesting 2 rows in the left column of a 2 column layout"
   ]
  },
  {
   "cell_type": "markdown",
   "id": "eba7d4ea-1474-4af1-a9c9-5ca20b3fd058",
   "metadata": {},
   "source": [
    "## Simple 2 column grid"
   ]
  },
  {
   "cell_type": "code",
   "execution_count": 1,
   "id": "c18bd957-919c-4041-bf91-74ebccfce417",
   "metadata": {
    "tags": [
     "remove_all_output"
    ]
   },
   "outputs": [
    {
     "data": {
      "text/markdown": [
       "App saved to ./simple-grid.html"
      ],
      "text/plain": [
       "<IPython.core.display.Markdown object>"
      ]
     },
     "metadata": {},
     "output_type": "display_data"
    }
   ],
   "source": [
    "import datapane as dp\n",
    "\n",
    "app = dp.App(\n",
    "    dp.Group(dp.Text(\"⬅️ Left side\"), dp.Text(\"➡️ Right side\"), columns=2)\n",
    ")\n",
    "\n",
    "app.save(path=\"simple-grid.html\")"
   ]
  },
  {
   "cell_type": "code",
   "execution_count": 2,
   "id": "4bd5e3b5-3976-44a0-86eb-13d360cdb697",
   "metadata": {
    "tags": [
     "remove_input"
    ]
   },
   "outputs": [
    {
     "data": {
      "text/html": [
       "<a href=\"/catalogues/blocks/simple-grid.html\"><img src=\"/catalogues/blocks/simple-grid-preview.png\"></a>"
      ],
      "text/plain": [
       "<IPython.core.display.HTML object>"
      ]
     },
     "metadata": {},
     "output_type": "display_data"
    }
   ],
   "source": [
    "from dpdocsutils import previews\n",
    "previews.embed_local_app('/catalogues/blocks/simple-grid.html', width=\"100%\", height=160)"
   ]
  },
  {
   "cell_type": "markdown",
   "id": "3d1c392c-0a62-4b20-9316-af658ea66f83",
   "metadata": {},
   "source": [
    "## Plot and DataTable in a 2 column grid"
   ]
  },
  {
   "cell_type": "code",
   "execution_count": 3,
   "id": "699a36be-52de-4bb2-9b64-f9b05c1ed5ab",
   "metadata": {
    "tags": [
     "remove_all_output"
    ]
   },
   "outputs": [
    {
     "data": {
      "text/markdown": [
       "App saved to ./grid-layout.html"
      ],
      "text/plain": [
       "<IPython.core.display.Markdown object>"
      ]
     },
     "metadata": {},
     "output_type": "display_data"
    }
   ],
   "source": [
    "import pandas as pd\n",
    "import altair as alt\n",
    "import datapane as dp\n",
    "\n",
    "alt.data_transformers.disable_max_rows()\n",
    "\n",
    "dataset = pd.read_csv(\"https://covid.ourworldindata.org/data/owid-covid-data.csv\")\n",
    "df = (\n",
    "    dataset.groupby([\"continent\", \"date\"])[\"new_cases_smoothed_per_million\"]\n",
    "    .mean()\n",
    "    .reset_index()\n",
    ")\n",
    "\n",
    "plot = (\n",
    "    alt.Chart(df)\n",
    "    .mark_area(opacity=0.4, stroke=\"black\")\n",
    "    .encode(\n",
    "        x=\"date:T\",\n",
    "        y=alt.Y(\"new_cases_smoothed_per_million:Q\", stack=None),\n",
    "        color=alt.Color(\"continent:N\", scale=alt.Scale(scheme=\"set1\")),\n",
    "        tooltip=\"continent:N\",\n",
    "    )\n",
    "    .interactive()\n",
    "    .properties(width=\"container\")\n",
    ")\n",
    "\n",
    "app = dp.App(dp.Group(dp.Plot(plot), dp.DataTable(df), columns=2))\n",
    "app = app.save(path=\"grid-layout.html\")"
   ]
  },
  {
   "cell_type": "code",
   "execution_count": 4,
   "id": "2a240bfc-181c-4f73-af00-33bdd5dd842c",
   "metadata": {
    "tags": [
     "remove_input"
    ]
   },
   "outputs": [
    {
     "data": {
      "text/html": [
       "<a href=\"/catalogues/blocks/grid-layout.html\"><img src=\"/catalogues/blocks/grid-layout-preview.png\"></a>"
      ],
      "text/plain": [
       "<IPython.core.display.HTML object>"
      ]
     },
     "metadata": {},
     "output_type": "display_data"
    }
   ],
   "source": [
    "from dpdocsutils import previews\n",
    "previews.embed_local_app('/catalogues/blocks/grid-layout.html', width=\"100%\", height=580)"
   ]
  },
  {
   "cell_type": "markdown",
   "id": "f0ae4a24-a67c-4826-aea4-de2626c4520d",
   "metadata": {},
   "source": [
    "## Populating a grid with a list of Blocks\n",
    "\n",
    "If you're generating your plots programmatically or have a lot of plots, you can pass them into the Group block as a list, using the `blocks` parameter. We can rewrite the previous example as follows :&#x20;"
   ]
  },
  {
   "cell_type": "code",
   "execution_count": 5,
   "id": "47fa0da6-85ee-40db-8a20-d10ed49d01fc",
   "metadata": {
    "tags": [
     "remove_all_output"
    ]
   },
   "outputs": [
    {
     "data": {
      "text/markdown": [
       "App saved to ./group-list.html"
      ],
      "text/plain": [
       "<IPython.core.display.Markdown object>"
      ]
     },
     "metadata": {},
     "output_type": "display_data"
    }
   ],
   "source": [
    "import pandas as pd\n",
    "import altair as alt\n",
    "import datapane as dp\n",
    "\n",
    "dataset = pd.read_csv(\"https://covid.ourworldindata.org/data/owid-covid-data.csv\")\n",
    "df = (\n",
    "    dataset.groupby([\"continent\", \"date\"])[\"new_cases_smoothed_per_million\"]\n",
    "    .mean()\n",
    "    .reset_index()\n",
    ")\n",
    "\n",
    "plot = (\n",
    "    alt.Chart(df)\n",
    "    .mark_area(opacity=0.4, stroke=\"black\")\n",
    "    .encode(\n",
    "        x=\"date:T\",\n",
    "        y=alt.Y(\"new_cases_smoothed_per_million:Q\", stack=None),\n",
    "        color=alt.Color(\"continent:N\", scale=alt.Scale(scheme=\"set1\")),\n",
    "        tooltip=\"continent:N\",\n",
    "    )\n",
    "    .interactive()\n",
    "    .properties(width=\"container\")\n",
    ")\n",
    "\n",
    "# You could also generate these in a loop/function\n",
    "my_plots = [dp.Plot(plot), dp.DataTable(df)]\n",
    "\n",
    "app = dp.App(dp.Group(blocks=my_plots, columns=2))\n",
    "\n",
    "app.save(path=\"group-list.html\")"
   ]
  },
  {
   "cell_type": "code",
   "execution_count": 6,
   "id": "c5763946-4d86-4df2-bba7-379ceb327973",
   "metadata": {
    "tags": [
     "remove_input"
    ]
   },
   "outputs": [
    {
     "data": {
      "text/html": [
       "<a href=\"/catalogues/blocks/group-list.html\"><img src=\"/catalogues/blocks/group-list-preview.png\"></a>"
      ],
      "text/plain": [
       "<IPython.core.display.HTML object>"
      ]
     },
     "metadata": {},
     "output_type": "display_data"
    }
   ],
   "source": [
    "from dpdocsutils import previews\n",
    "previews.embed_local_app('/catalogues/blocks/group-list.html', width=\"100%\", height=580)"
   ]
  }
 ],
 "metadata": {
  "language_info": {
   "name": "python"
  }
 },
 "nbformat": 4,
 "nbformat_minor": 5
}
