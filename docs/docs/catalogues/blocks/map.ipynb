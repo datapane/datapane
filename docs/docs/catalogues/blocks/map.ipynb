{
 "cells": [
  {
   "cell_type": "markdown",
   "id": "816c341a-cb80-4039-8487-26a93a694283",
   "metadata": {},
   "source": [
    "# Maps\n",
    "\n",
    "Datapane supports all major Python visualization libraries, allowing you to add interactive maps to your report.\n",
    "\n",
    "The `dp.Plot` block takes a plot object from one of the supported Python visualisation libraries and renders it in your report. \n",
    "\n",
    "!!! info\n",
    "\n",
    "    Datapane will automatically wrap your visualization in a `dp.Plot` block if you pass it into your report directly.\n",
    "\n",
    "It takes the following parameters: \n",
    "\n",
    "* `name`: Sets the name of the chart within the caption\n",
    "* `caption` : Adds a caption beneath your plot\n",
    "* `responsive`:  Boolean \\(`True` by default\\) which controls whether the plot fills the block. Set to `False` if you want to manually specify the height and width within the plot object. \n",
    "\n",
    "```python\n",
    "dp.Plot(\n",
    "    fig, name=\"fig1\", caption=\"Chart showing average life expectancy\", responsive=False\n",
    ")\n",
    "```\n",
    "\n",
    "Datapane currently supports the following libraries for mapping geographical data:\n",
    "\n",
    "| Library | Site / Docs |\n",
    "| :--- | :--- |\n",
    "| [Folium](#folium) | [https://python-visualization.github.io/folium/](https://python-visualization.github.io/folium/) |\n",
    "| [Altair](/catalogues/blocks/plot/#altair) | [https://altair-viz.github.io/](https://altair-viz.github.io/) |\n",
    "| [Matplotlib / Seaborn](/catalogues/blocks/plot/#matplotlib) | [https://matplotlib.org/](https://matplotlib.org/) / [https://seaborn.pydata.org/](https://seaborn.pydata.org/) |\n",
    "| [Bokeh](/catalogues/blocks/plot/#bokeh) | [https://bokeh.org/](https://bokeh.org/) |\n",
    "| [Plotly](catalogues/blocks/plot/#plotly) | [https://plotly.com/python/](https://plotly.com/python/) |\n",
    "\n",
    "If you're using another visualization library e.g. Pyvis for networks, try saving your chart as a local HTML file and wrapping that in a [dp.HTML](/catalogues/blocks/html) block. \n",
    "\n",
    "## Folium\n",
    "\n",
    "[Folium](https://python-visualization.github.io/folium/) makes it easy to visualize data that’s been manipulated in Python on an interactive leaflet map. It enables both the binding of data to a map for `choropleth` visualizations as well as passing rich vector/raster/HTML visualizations as markers on the map.\n",
    "\n",
    "The library has a number of built-in tilesets from OpenStreetMap, Mapbox, and Stamen, and supports custom tilesets with Mapbox or Cloudmade API keys. \n",
    "\n",
    "!!! info\n",
    "    \n",
    "    If your folium map consumes live data which expires after a certain time, you can automate it to refresh the map on a cadence. See [Automation](/tutorials/automation)."
   ]
  },
  {
   "cell_type": "code",
   "execution_count": 1,
   "id": "98872e9c-7999-4377-a3bf-f0086f8e448b",
   "metadata": {
    "tags": [
     "remove_all_output"
    ]
   },
   "outputs": [
    {
     "data": {
      "text/markdown": [
       "Report saved to ./folium-plot.html"
      ],
      "text/plain": [
       "<IPython.core.display.Markdown object>"
      ]
     },
     "metadata": {},
     "output_type": "display_data"
    }
   ],
   "source": [
    "import folium\n",
    "import datapane as dp\n",
    "\n",
    "m = folium.Map(location=[45.5236, -122.6750])\n",
    "\n",
    "dp.Report(dp.Plot(m)).save(path=\"folium-plot.html\")"
   ]
  },
  {
   "cell_type": "code",
   "execution_count": 2,
   "id": "2304bd4d-d0f0-48f6-bcc5-a6ea39c3afc4",
   "metadata": {
    "tags": [
     "remove_input"
    ]
   },
   "outputs": [
    {
     "data": {
      "text/html": [
       "<a href=\"/catalogues/blocks/folium-plot.html\"><img src=\"/catalogues/blocks/folium-plot-preview.png\"></a>"
      ],
      "text/plain": [
       "<IPython.core.display.HTML object>"
      ]
     },
     "metadata": {},
     "output_type": "display_data"
    }
   ],
   "source": [
    "from dpdocsutils import previews\n",
    "previews.embed_local_report('/catalogues/blocks/folium-plot.html', width=\"100%\", height=650)"
   ]
  }
 ],
 "metadata": {
  "kernelspec": {
   "display_name": "Python 3 (ipykernel)",
   "language": "python",
   "name": "python3"
  },
  "language_info": {
   "codemirror_mode": {
    "name": "ipython",
    "version": 3
   },
   "file_extension": ".py",
   "mimetype": "text/x-python",
   "name": "python",
   "nbconvert_exporter": "python",
   "pygments_lexer": "ipython3",
   "version": "3.10.5"
  }
 },
 "nbformat": 4,
 "nbformat_minor": 5
}
