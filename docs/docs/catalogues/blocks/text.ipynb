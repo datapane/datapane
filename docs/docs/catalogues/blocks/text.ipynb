{
 "cells": [
  {
   "cell_type": "markdown",
   "id": "715d98b8-5cbb-41ce-a74c-825349388227",
   "metadata": {},
   "source": [
    "# Text\n",
    "\n",
    "You can add short or long-form Markdown content to your app with the `Text` block.\n",
    "\n",
    "!!! info\n",
    "\n",
    "    Markdown is a lightweight markup language that allows you to include formatted text in your app, and can be access through `dp.Text`, or by passing in a string directly.&#x20;\n",
    "    \n",
    "    Check [here](https://github.com/adam-p/markdown-here/wiki/Markdown-Cheatsheet) for more information on how to format your text with markdown."
   ]
  },
  {
   "cell_type": "markdown",
   "id": "a8080790-a4d2-48ec-acdd-9d5962be43e3",
   "metadata": {},
   "source": [
    "## Simple Text from Markdown"
   ]
  },
  {
   "cell_type": "code",
   "execution_count": 1,
   "id": "08cd6fd9-bcce-42d8-af66-8575898c97c2",
   "metadata": {
    "tags": [
     "remove_all_output"
    ]
   },
   "outputs": [
    {
     "data": {
      "text/markdown": [
       "App saved to ./simple-text.html"
      ],
      "text/plain": [
       "<IPython.core.display.Markdown object>"
      ]
     },
     "metadata": {},
     "output_type": "display_data"
    }
   ],
   "source": [
    "import datapane as dp\n",
    "\n",
    "app = dp.App(dp.Text(\"__My awesome markdown__\"))\n",
    "app.save(\"simple-text.html\")"
   ]
  },
  {
   "cell_type": "code",
   "execution_count": 2,
   "id": "e433bf4c-d53d-4d59-b00f-9ad634bf24e2",
   "metadata": {
    "tags": [
     "remove_input"
    ]
   },
   "outputs": [
    {
     "data": {
      "text/html": [
       "\n",
       "        <iframe\n",
       "            width=\"100%\"\n",
       "            height=\"120\"\n",
       "            src=\"/catalogues/blocks/simple-text.html\"\n",
       "            frameborder=\"0\"\n",
       "            allowfullscreen\n",
       "            \n",
       "        ></iframe>\n",
       "        "
      ],
      "text/plain": [
       "<IPython.lib.display.IFrame at 0x16922b2e0>"
      ]
     },
     "execution_count": 2,
     "metadata": {},
     "output_type": "execute_result"
    }
   ],
   "source": [
    "from dpdocsutils import previews\n",
    "previews.embed_local_app('/catalogues/blocks/simple-text.html', width=\"100%\", height=120)"
   ]
  },
  {
   "cell_type": "markdown",
   "id": "49a6849b-4fc9-4ced-aac3-a55a8e29f9c3",
   "metadata": {},
   "source": [
    "## Multi-line Text\n",
    "\n",
    "To include multi-line text and formatting the words, use triple-quoted string, e.g. `\"\"\"Some words\"\"\"`"
   ]
  },
  {
   "cell_type": "code",
   "execution_count": 3,
   "id": "c875f8d0-a85e-418b-9729-d4354f97d33f",
   "metadata": {
    "tags": [
     "remove_all_output"
    ]
   },
   "outputs": [
    {
     "data": {
      "text/markdown": [
       "App saved to ./multi-line.html"
      ],
      "text/plain": [
       "<IPython.core.display.Markdown object>"
      ]
     },
     "metadata": {},
     "output_type": "display_data"
    }
   ],
   "source": [
    "import datapane as dp\n",
    "\n",
    "md = \"\"\"Quas *diva coeperat usum*; suisque, ab alii, prato. Et cornua frontes puerum,\n",
    "referam vocassent **umeris**. Dies nec suorum alis adstitit, *temeraria*,\n",
    "anhelis aliis lacunabant quoque adhuc spissatus illum refugam perterrita in\n",
    "sonus. Facturus ad montes victima fluctus undae Zancle et nulli; frigida me.\n",
    "Regno memini concedant argento Aiacis terga, foribusque audit Persephone\n",
    "serieque, obsidis cupidine qualibet Exadius.\n",
    "\n",
    "```python\n",
    "utf_torrent_flash = -1;\n",
    "urlUpnp -= leakWebE - dslam;\n",
    "skinCdLdap += sessionCyberspace;\n",
    "var ascii = address - software_compile;\n",
    "webFlaming(cable, pathIllegalHtml);```\n",
    "\n",
    "## Quo exul exsecrere cuique non alti caerulaque\n",
    "\n",
    "*Optatae o*! Quo et callida et caeleste amorem: nocet recentibus causamque.\n",
    "\n",
    "- Voce adduntque\n",
    "- Divesque quam exstinctum revulsus\n",
    "- Et utrique eunti\n",
    "- Vos tantum quercum fervet et nec\n",
    "- Eris pennis maneas quam\n",
    "\"\"\"\n",
    "\n",
    "app = dp.App(dp.Text(md))\n",
    "app.save(path=\"multi-line.html\")"
   ]
  },
  {
   "cell_type": "code",
   "execution_count": 4,
   "id": "b7de5b29-338f-4df0-856f-34ed2e7e9324",
   "metadata": {
    "tags": [
     "remove_input"
    ]
   },
   "outputs": [
    {
     "data": {
      "text/html": [
       "\n",
       "        <iframe\n",
       "            width=\"100%\"\n",
       "            height=\"600\"\n",
       "            src=\"/catalogues/blocks/multi-line.html\"\n",
       "            frameborder=\"0\"\n",
       "            allowfullscreen\n",
       "            \n",
       "        ></iframe>\n",
       "        "
      ],
      "text/plain": [
       "<IPython.lib.display.IFrame at 0x1693a9e10>"
      ]
     },
     "execution_count": 4,
     "metadata": {},
     "output_type": "execute_result"
    }
   ],
   "source": [
    "from dpdocsutils import previews\n",
    "previews.embed_local_app('/catalogues/blocks/multi-line.html', width=\"100%\", height=600)"
   ]
  },
  {
   "cell_type": "markdown",
   "id": "a1c26321-7f03-4785-a972-e06abbdfe397",
   "metadata": {},
   "source": [
    "## Text-heavy apps\n",
    "\n",
    "If your app is text-heavy (such as an blogpost) and it contains multiple other blocks, creating a list of strings and blocks in Python can be cumbersome. To solve this, Datapane provides a `format` option, which allows you to write a single block of Markdown (either in your app, or in a separate file), and intersperse it with other blocks.&#x20;\n",
    "\n",
    "To do this, use double braces to specify where you want your other blocks to appear throughout your text."
   ]
  },
  {
   "cell_type": "code",
   "execution_count": 5,
   "id": "736fc01b-c4cb-48a9-9bb9-9a0866c93785",
   "metadata": {
    "tags": [
     "remove_all_output"
    ]
   },
   "outputs": [
    {
     "data": {
      "text/markdown": [
       "App saved to ./text-heavy.html"
      ],
      "text/plain": [
       "<IPython.core.display.Markdown object>"
      ]
     },
     "metadata": {},
     "output_type": "display_data"
    }
   ],
   "source": [
    "import seaborn as sns\n",
    "import altair as alt\n",
    "import datapane as dp\n",
    "\n",
    "md = \"\"\"\n",
    "For example, if we want to visualize the number of people in each class within the interval we select a point chart between age and fare, we could do something like this.\n",
    "\n",
    "{{plot}}\n",
    "\n",
    "Altair allows you to create some extremely interactive plots which do on-the-fly calculations — without even requiring a running Python server!\n",
    "\"\"\"\n",
    "\n",
    "titanic = sns.load_dataset(\"titanic\")\n",
    "\n",
    "points = (\n",
    "    alt.Chart(titanic)\n",
    "    .mark_point()\n",
    "    .encode(\n",
    "        x=\"age:Q\",\n",
    "        color=\"class:N\",\n",
    "        y=\"fare:Q\",\n",
    "    )\n",
    "    .interactive()\n",
    "    .properties(width=\"container\")\n",
    ")\n",
    "\n",
    "app = dp.App(dp.Text(md).format(plot=points))\n",
    "\n",
    "app.save(path=\"text-heavy.html\")"
   ]
  },
  {
   "cell_type": "code",
   "execution_count": 6,
   "id": "489a55bc-cada-4c3d-81fe-f69046a5428b",
   "metadata": {
    "tags": [
     "remove_input"
    ]
   },
   "outputs": [
    {
     "data": {
      "text/html": [
       "\n",
       "        <iframe\n",
       "            width=\"100%\"\n",
       "            height=\"600\"\n",
       "            src=\"/catalogues/blocks/text-heavy.html\"\n",
       "            frameborder=\"0\"\n",
       "            allowfullscreen\n",
       "            \n",
       "        ></iframe>\n",
       "        "
      ],
      "text/plain": [
       "<IPython.lib.display.IFrame at 0x1693ab4f0>"
      ]
     },
     "execution_count": 6,
     "metadata": {},
     "output_type": "execute_result"
    }
   ],
   "source": [
    "from dpdocsutils import previews\n",
    "previews.embed_local_app('/catalogues/blocks/text-heavy.html', width=\"100%\", height=600)"
   ]
  },
  {
   "cell_type": "markdown",
   "id": "2724b99b-c831-4819-8054-f2ac9151059b",
   "metadata": {},
   "source": [
    "## Text from File"
   ]
  },
  {
   "cell_type": "markdown",
   "id": "cb704cd5-7a46-48cb-b968-4a825cb75b13",
   "metadata": {},
   "source": [
    "Alternatively, you can write your article or post in your favourite markdown editor, and pass it in as a file.\n",
    "\n",
    "```python\n",
    "import datapane as dp\n",
    "\n",
    "...\n",
    "\n",
    "dp.App(\n",
    "  dp.Text(file=\"./my_blogpost.md\").format(plot=points)\n",
    ")\n",
    "```"
   ]
  }
 ],
 "metadata": {
  "language_info": {
   "name": "python"
  }
 },
 "nbformat": 4,
 "nbformat_minor": 5
}
