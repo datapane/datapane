{
 "cells": [
  {
   "cell_type": "markdown",
   "id": "cbd62af1-d7ee-4704-b19f-a62c21f02718",
   "metadata": {},
   "source": [
    "# Table\n",
    "\n",
    "The Table block takes a pandas DataFrame and renders an HTML table in your report.&#x20;\n",
    "\n",
    "!!! info\n",
    "\n",
    "    `Table` is the best option for displaying multidimensional DataFrames, as `DataTable` will flatten your data."
   ]
  },
  {
   "cell_type": "markdown",
   "id": "7b611cf1-35b9-4d42-928a-3f456608c0f9",
   "metadata": {},
   "source": [
    "## Simple Table from DataFrame"
   ]
  },
  {
   "cell_type": "code",
   "execution_count": 1,
   "id": "022b64ed-6566-43cb-8ca7-9024b9313748",
   "metadata": {
    "tags": [
     "remove_all_output"
    ]
   },
   "outputs": [
    {
     "data": {
      "text/markdown": [
       "Report saved to ./table.html"
      ],
      "text/plain": [
       "<IPython.core.display.Markdown object>"
      ]
     },
     "metadata": {},
     "output_type": "display_data"
    }
   ],
   "source": [
    "import datapane as dp\n",
    "import pandas as pd\n",
    "import numpy as np\n",
    "\n",
    "df = pd.DataFrame(\n",
    "    {\n",
    "        \"A\": np.random.normal(-1, 1, 5),\n",
    "        \"B\": np.random.normal(1, 2, 5),\n",
    "    }\n",
    ")\n",
    "\n",
    "table = dp.Table(df)\n",
    "report = dp.Report(table)\n",
    "report.save(path=\"table.html\")"
   ]
  },
  {
   "cell_type": "code",
   "execution_count": 2,
   "id": "72e1b41d-c812-42a4-8b42-83b6e7ef3884",
   "metadata": {
    "tags": [
     "remove_input"
    ]
   },
   "outputs": [
    {
     "data": {
      "text/html": [
       "<a href=\"/catalogues/blocks/table.html\"><img src=\"/catalogues/blocks/table-preview.png\"></a>"
      ],
      "text/plain": [
       "<IPython.core.display.HTML object>"
      ]
     },
     "metadata": {},
     "output_type": "display_data"
    }
   ],
   "source": [
    "from dpdocsutils import previews\n",
    "previews.embed_local_report('/catalogues/blocks/table.html', width=\"100%\", height=320)"
   ]
  },
  {
   "cell_type": "markdown",
   "id": "8ffdc3e7-6933-41da-8be2-8ad34818a86e",
   "metadata": {},
   "source": [
    "## Styled Table from DataFrame"
   ]
  },
  {
   "cell_type": "markdown",
   "id": "96deac01-960a-43d2-88ff-896b2bbb84a6",
   "metadata": {},
   "source": [
    "If your DataFrame includes [DataFrame Styles](https://pandas.pydata.org/pandas-docs/stable/user\\_guide/style.html), these will be included in your report. DataFrame styles allows you create custom formatted tables; for instance, to show trends, highlight cells, add bar charts, or display correlations.&#x20;"
   ]
  },
  {
   "cell_type": "code",
   "execution_count": 3,
   "id": "714989ec-f913-4698-8aba-8b180b659c8f",
   "metadata": {
    "tags": [
     "remove_all_output"
    ]
   },
   "outputs": [
    {
     "name": "stderr",
     "output_type": "stream",
     "text": [
      "/Users/shahin/Documents/datapane-hosted/datapane/projects/python-client/src/datapane/client/api/files.py:136: FutureWarning: this method is deprecated in favour of `Styler.to_html()`\n",
      "  return obj.render()\n"
     ]
    },
    {
     "data": {
      "text/markdown": [
       "Report saved to ./table-style.html"
      ],
      "text/plain": [
       "<IPython.core.display.Markdown object>"
      ]
     },
     "metadata": {},
     "output_type": "display_data"
    }
   ],
   "source": [
    "import pandas as pd\n",
    "import datapane as dp\n",
    "import numpy as np\n",
    "\n",
    "df = pd.DataFrame({\"A\": np.linspace(1, 10, 10)})\n",
    "df = pd.concat([df, pd.DataFrame(np.random.randn(10, 4), columns=list(\"BCDE\"))], axis=1)\n",
    "\n",
    "report = dp.Report(\n",
    "    blocks=[df.style.background_gradient(cmap=\"viridis\")]\n",
    ")\n",
    "\n",
    "report.save(\"table-style.html\")"
   ]
  },
  {
   "cell_type": "code",
   "execution_count": 4,
   "id": "f13e54a8-dee6-4fb6-a09d-4dafad49e9ee",
   "metadata": {
    "tags": [
     "remove_input"
    ]
   },
   "outputs": [
    {
     "data": {
      "text/html": [
       "<a href=\"/catalogues/blocks/table-style.html\"><img src=\"/catalogues/blocks/table-style-preview.png\"></a>"
      ],
      "text/plain": [
       "<IPython.core.display.HTML object>"
      ]
     },
     "metadata": {},
     "output_type": "display_data"
    }
   ],
   "source": [
    "from dpdocsutils import previews\n",
    "previews.embed_local_report('/catalogues/blocks/table-style.html', width=\"100%\", height=540)"
   ]
  }
 ],
 "metadata": {
  "kernelspec": {
   "display_name": "Python 3 (ipykernel)",
   "language": "python",
   "name": "python3"
  },
  "language_info": {
   "codemirror_mode": {
    "name": "ipython",
    "version": 3
   },
   "file_extension": ".py",
   "mimetype": "text/x-python",
   "name": "python",
   "nbconvert_exporter": "python",
   "pygments_lexer": "ipython3",
   "version": "3.10.5"
  }
 },
 "nbformat": 4,
 "nbformat_minor": 5
}
