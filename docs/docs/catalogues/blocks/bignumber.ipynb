{
 "cells": [
  {
   "cell_type": "markdown",
   "id": "39b916e3-301f-405a-bc69-3e1e3722c152",
   "metadata": {},
   "source": [
    "# BigNumber\n",
    "\n",
    "A single number or change can often be the most important thing in an app. The `BigNumber`block allows you to present KPIs, changes, and statistics in a friendly way to your viewers. You can optionally set intent, and pass in numbers or text.&#x20;"
   ]
  },
  {
   "cell_type": "markdown",
   "id": "179c6539-cb78-4041-b225-1579343311ec",
   "metadata": {},
   "source": [
    "## Simple BigNumber"
   ]
  },
  {
   "cell_type": "code",
   "execution_count": 1,
   "id": "946e9627-75d2-4eab-a78c-7b42603e4496",
   "metadata": {
    "tags": [
     "remove_all_output"
    ]
   },
   "outputs": [
    {
     "data": {
      "text/markdown": [
       "App saved to ./simple-bignumber.html"
      ],
      "text/plain": [
       "<IPython.core.display.Markdown object>"
      ]
     },
     "metadata": {},
     "output_type": "display_data"
    }
   ],
   "source": [
    "import datapane as dp\n",
    "\n",
    "app = dp.App(\n",
    "    dp.BigNumber(heading=\"Simple Statistic\", value=100),\n",
    ")\n",
    "\n",
    "app.save(path=\"simple-bignumber.html\")"
   ]
  },
  {
   "cell_type": "code",
   "execution_count": 2,
   "id": "ddd5a0c3-6055-4742-8e85-0f62f877b54b",
   "metadata": {
    "tags": [
     "remove_input"
    ]
   },
   "outputs": [
    {
     "data": {
      "text/html": [
       "<a href=\"/catalogues/blocks/simple-bignumber.html\"><img src=\"/catalogues/blocks/simple-bignumber-preview.png\"></a>"
      ],
      "text/plain": [
       "<IPython.core.display.HTML object>"
      ]
     },
     "metadata": {},
     "output_type": "display_data"
    }
   ],
   "source": [
    "from dpdocsutils import previews\n",
    "previews.embed_local_app('/catalogues/blocks/simple-bignumber.html', width=\"100%\", height=210)"
   ]
  },
  {
   "cell_type": "markdown",
   "id": "e90dc066-1a0b-4557-bb8e-067fa877fb43",
   "metadata": {},
   "source": [
    "## BigNumber with change indicators"
   ]
  },
  {
   "cell_type": "code",
   "execution_count": 3,
   "id": "d4da4154-3159-446e-9efe-2d34dabad46b",
   "metadata": {
    "tags": [
     "remove_all_output"
    ]
   },
   "outputs": [
    {
     "data": {
      "text/markdown": [
       "App saved to ./bignumber-change.html"
      ],
      "text/plain": [
       "<IPython.core.display.Markdown object>"
      ]
     },
     "metadata": {},
     "output_type": "display_data"
    }
   ],
   "source": [
    "import datapane as dp\n",
    "\n",
    "app = dp.App(\n",
    "    dp.Group(\n",
    "        dp.BigNumber(\n",
    "            heading=\"Percentage points\",\n",
    "            value=\"84%\",\n",
    "            change=\"2%\",\n",
    "            is_upward_change=True,\n",
    "        ),\n",
    "        dp.BigNumber(\n",
    "            heading=\"Percentage points\",\n",
    "            value=\"84%\",\n",
    "            change=\"2%\",\n",
    "            is_upward_change=False,\n",
    "        ),\n",
    "        dp.BigNumber(\n",
    "            heading=\"Points\",\n",
    "            value=\"1234\",\n",
    "            change=\"200\",\n",
    "            is_upward_change=True,\n",
    "        ),\n",
    "        dp.BigNumber(\n",
    "            heading=\"Points\",\n",
    "            value=\"1234\",\n",
    "            change=\"200\",\n",
    "            is_upward_change=False,\n",
    "        ),\n",
    "        columns=2,\n",
    "    )\n",
    ")\n",
    "\n",
    "app.save(path=\"bignumber-change.html\")"
   ]
  },
  {
   "cell_type": "code",
   "execution_count": 4,
   "id": "5b051f82-2ff5-4dfe-805f-347a4efb16ca",
   "metadata": {
    "tags": [
     "remove_input"
    ]
   },
   "outputs": [
    {
     "data": {
      "text/html": [
       "<a href=\"/catalogues/blocks/bignumber-change.html\"><img src=\"/catalogues/blocks/bignumber-change-preview.png\"></a>"
      ],
      "text/plain": [
       "<IPython.core.display.HTML object>"
      ]
     },
     "metadata": {},
     "output_type": "display_data"
    }
   ],
   "source": [
    "from dpdocsutils import previews\n",
    "previews.embed_local_app('/catalogues/blocks/bignumber-change.html', width=\"100%\", height=340)"
   ]
  }
 ],
 "metadata": {
  "language_info": {
   "name": "python"
  }
 },
 "nbformat": 4,
 "nbformat_minor": 5
}
