{
 "cells": [
  {
   "cell_type": "markdown",
   "id": "39b916e3-301f-405a-bc69-3e1e3722c152",
   "metadata": {},
   "source": [
    "# BigNumber\n",
    "\n",
    "A single number or change can often be the most important thing in a report. The `BigNumber`block allows you to present KPIs, changes, and statistics in a friendly way to your viewers. You can optionally set intent, and pass in numbers or text.&#x20;"
   ]
  },
  {
   "cell_type": "markdown",
   "id": "179c6539-cb78-4041-b225-1579343311ec",
   "metadata": {},
   "source": [
    "## Simple BigNumber"
   ]
  },
  {
   "cell_type": "code",
   "execution_count": 1,
   "id": "946e9627-75d2-4eab-a78c-7b42603e4496",
   "metadata": {
    "tags": [
     "remove_all_output"
    ]
   },
   "outputs": [
    {
     "data": {
      "text/markdown": [
       "Report saved to ./simple-bignumber.html"
      ],
      "text/plain": [
       "<IPython.core.display.Markdown object>"
      ]
     },
     "metadata": {},
     "output_type": "display_data"
    }
   ],
   "source": [
    "import datapane as dp\n",
    "\n",
    "report = dp.Report(\n",
    "    dp.BigNumber(heading=\"Simple Statistic\", value=100),\n",
    ")\n",
    "\n",
    "report.save(path=\"simple-bignumber.html\")"
   ]
  },
  {
   "cell_type": "code",
   "execution_count": 12,
   "id": "ddd5a0c3-6055-4742-8e85-0f62f877b54b",
   "metadata": {
    "tags": [
     "remove_input"
    ]
   },
   "outputs": [
    {
     "data": {
      "text/html": [
       "<a href=\"/catalogues/blocks/simple-bignumber.html\"><img src=\"/catalogues/blocks/simple-bignumber-preview.png\"></a>"
      ],
      "text/plain": [
       "<IPython.core.display.HTML object>"
      ]
     },
     "metadata": {},
     "output_type": "display_data"
    }
   ],
   "source": [
    "from dpdocsutils import previews\n",
    "previews.embed_local_report('/catalogues/blocks/simple-bignumber.html', width=\"100%\", height=210)"
   ]
  },
  {
   "cell_type": "markdown",
   "id": "e90dc066-1a0b-4557-bb8e-067fa877fb43",
   "metadata": {},
   "source": [
    "## BigNumber with change indicators"
   ]
  },
  {
   "cell_type": "code",
   "execution_count": 13,
   "id": "d4da4154-3159-446e-9efe-2d34dabad46b",
   "metadata": {
    "tags": [
     "remove_all_output"
    ]
   },
   "outputs": [
    {
     "data": {
      "text/markdown": [
       "Report saved to ./bignumber-change.html"
      ],
      "text/plain": [
       "<IPython.core.display.Markdown object>"
      ]
     },
     "metadata": {},
     "output_type": "display_data"
    }
   ],
   "source": [
    "import datapane as dp\n",
    "\n",
    "report = dp.Report(\n",
    "    dp.Group(\n",
    "        dp.BigNumber(\n",
    "            heading=\"Percentage points\",\n",
    "            value=\"84%\",\n",
    "            change=\"2%\",\n",
    "            is_upward_change=True,\n",
    "        ),\n",
    "        dp.BigNumber(\n",
    "            heading=\"Percentage points\",\n",
    "            value=\"84%\",\n",
    "            change=\"2%\",\n",
    "            is_upward_change=False,\n",
    "        ),\n",
    "        dp.BigNumber(\n",
    "            heading=\"Points\",\n",
    "            value=\"1234\",\n",
    "            change=\"200\",\n",
    "            is_upward_change=True,\n",
    "        ),\n",
    "        dp.BigNumber(\n",
    "            heading=\"Points\",\n",
    "            value=\"1234\",\n",
    "            change=\"200\",\n",
    "            is_upward_change=False,\n",
    "        ),\n",
    "        columns=2,\n",
    "    )\n",
    ")\n",
    "\n",
    "report.save(path=\"bignumber-change.html\")"
   ]
  },
  {
   "cell_type": "code",
   "execution_count": 16,
   "id": "5b051f82-2ff5-4dfe-805f-347a4efb16ca",
   "metadata": {
    "tags": [
     "remove_input"
    ]
   },
   "outputs": [
    {
     "data": {
      "text/html": [
       "<a href=\"/catalogues/blocks/bignumber-change.html\"><img src=\"/catalogues/blocks/bignumber-change-preview.png\"></a>"
      ],
      "text/plain": [
       "<IPython.core.display.HTML object>"
      ]
     },
     "metadata": {},
     "output_type": "display_data"
    }
   ],
   "source": [
    "from dpdocsutils import previews\n",
    "previews.embed_local_report('/catalogues/blocks/bignumber-change.html', width=\"100%\", height=340)"
   ]
  }
 ],
 "metadata": {
  "kernelspec": {
   "display_name": "Python 3 (ipykernel)",
   "language": "python",
   "name": "python3"
  },
  "language_info": {
   "codemirror_mode": {
    "name": "ipython",
    "version": 3
   },
   "file_extension": ".py",
   "mimetype": "text/x-python",
   "name": "python",
   "nbconvert_exporter": "python",
   "pygments_lexer": "ipython3",
   "version": "3.10.5"
  }
 },
 "nbformat": 4,
 "nbformat_minor": 5
}
