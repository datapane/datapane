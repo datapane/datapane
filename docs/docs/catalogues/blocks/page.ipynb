{
 "cells": [
  {
   "cell_type": "markdown",
   "id": "4f212c4e-ac35-4abd-b798-80ccbbbb5020",
   "metadata": {
    "tags": []
   },
   "source": [
    "# Pages&#x20;\n",
    "\n",
    "Reports on Datapane can have multiple pages, which are presented to users as tabs at the top of your report. These can be used similarly to sheets in an Excel document.\n",
    "\n",
    "To add a page, use the `dp.Page` block at the top-level of your report, and give it a title with the `title` parameter.\n",
    "\n",
    "!!! info \n",
    "    \n",
    "    Pages cannot be nested, and can only exist at the root level of your `dp.Report` object. If you're using pages, all other blocks must be contained inside a Page block.&#x20;"
   ]
  },
  {
   "cell_type": "code",
   "execution_count": 1,
   "id": "feb85b17-db4a-4042-ac49-cb2aff1085ac",
   "metadata": {
    "tags": [
     "remove_all_output"
    ]
   },
   "outputs": [
    {
     "data": {
      "text/markdown": [
       "Report saved to ./page.html"
      ],
      "text/plain": [
       "<IPython.core.display.Markdown object>"
      ]
     },
     "metadata": {},
     "output_type": "display_data"
    }
   ],
   "source": [
    "import seaborn as sns\n",
    "import altair as alt\n",
    "import datapane as dp\n",
    "\n",
    "titanic = sns.load_dataset(\"titanic\")\n",
    "\n",
    "points = (\n",
    "    alt.Chart(titanic)\n",
    "    .mark_point()\n",
    "    .encode(\n",
    "        x=\"age:Q\",\n",
    "        color=\"class:N\",\n",
    "        y=\"fare:Q\",\n",
    "    )\n",
    "    .interactive()\n",
    "    .properties(width=\"container\")\n",
    ")\n",
    "\n",
    "report = dp.Report(\n",
    "    dp.Page(title=\"Titanic Dataset\", blocks=[\"### Dataset\", titanic]),\n",
    "    dp.Page(title=\"Titanic Plot\", blocks=[\"### Plot\", points]),\n",
    ")\n",
    "\n",
    "report.save(path=\"page.html\")"
   ]
  },
  {
   "cell_type": "code",
   "execution_count": 2,
   "id": "b9db65f6-afbf-48bd-a2f4-415cc47afb04",
   "metadata": {
    "tags": [
     "remove_input"
    ]
   },
   "outputs": [
    {
     "data": {
      "text/html": [
       "<a href=\"/catalogues/blocks/page.html\"><img src=\"/catalogues/blocks/page-preview.png\"></a>"
      ],
      "text/plain": [
       "<IPython.core.display.HTML object>"
      ]
     },
     "metadata": {},
     "output_type": "display_data"
    }
   ],
   "source": [
    "from dpdocsutils import previews\n",
    "previews.embed_local_report('/catalogues/blocks/page.html', width=\"100%\", height=740)"
   ]
  }
 ],
 "metadata": {
  "language_info": {
   "name": "python"
  }
 },
 "nbformat": 4,
 "nbformat_minor": 5
}
