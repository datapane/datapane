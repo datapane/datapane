{
 "cells": [
  {
   "cell_type": "markdown",
   "id": "72013dca-0427-4fc6-842e-f495beceab7b",
   "metadata": {},
   "source": [
    "# Media\n",
    "\n",
    "The Media block allows you to include images, GIFs, video and audio in your reports. If the file is in a supported format, it will be displayed inline in your report. To include an image, you can use `dp.Media` and pass the path.\n",
    "\n",
    "```python\n",
    "dp.Media(file='./image.png')\n",
    "```\n",
    "\n",
    "In the following example, Datapane will attempt to display images in your report for viewers and allow users to download them."
   ]
  },
  {
   "cell_type": "code",
   "execution_count": 1,
   "id": "0f025658-d0f5-4396-bce8-b96f7fe6a889",
   "metadata": {
    "tags": [
     "remove_all_output"
    ]
   },
   "outputs": [
    {
     "data": {
      "text/markdown": [
       "Report saved to ./image.html"
      ],
      "text/plain": [
       "<IPython.core.display.Markdown object>"
      ]
     },
     "metadata": {},
     "output_type": "display_data"
    }
   ],
   "source": [
    "import datapane as dp\n",
    "\n",
    "report = dp.Report(\n",
    "    dp.Media(file=\"./image.png\", name=\"Image1\", caption=\"Datapane in action!\"),\n",
    ")\n",
    "\n",
    "report.save(path=\"image.html\")"
   ]
  },
  {
   "cell_type": "code",
   "execution_count": 2,
   "id": "d63f7614-9218-43c0-b76d-79fc122389f9",
   "metadata": {
    "tags": [
     "remove_input"
    ]
   },
   "outputs": [
    {
     "data": {
      "text/html": [
       "<a href=\"/tutorials/blocks/image.html\"><img src=\"/tutorials/blocks/image-preview.png\"></a>"
      ],
      "text/plain": [
       "<IPython.core.display.HTML object>"
      ]
     },
     "metadata": {},
     "output_type": "display_data"
    }
   ],
   "source": [
    "from dpdocsutils import previews\n",
    "previews.embed_local_report('/catalogues/blocks/image.html', width=\"100%\", height=640)"
   ]
  }
 ],
 "metadata": {
  "kernelspec": {
   "display_name": "Python 3 (ipykernel)",
   "language": "python",
   "name": "python3"
  },
  "language_info": {
   "codemirror_mode": {
    "name": "ipython",
    "version": 3
   },
   "file_extension": ".py",
   "mimetype": "text/x-python",
   "name": "python",
   "nbconvert_exporter": "python",
   "pygments_lexer": "ipython3",
   "version": "3.10.5"
  }
 },
 "nbformat": 4,
 "nbformat_minor": 5
}
