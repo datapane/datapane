{
 "cells": [
  {
   "cell_type": "markdown",
   "id": "72013dca-0427-4fc6-842e-f495beceab7b",
   "metadata": {},
   "source": [
    "# Media\n",
    "\n",
    "The Media block allows you to include images, GIFs, video and audio in your apps. If the file is in a supported format, it will be displayed inline in your app. To include an image, you can use `dp.Media` and pass the path.\n",
    "\n",
    "```python\n",
    "dp.Media(file='./image.png')\n",
    "```\n",
    "\n",
    "## Simple image embed\n",
    "\n",
    "In the following example, Datapane will display images in your app for viewers and allow users to download them."
   ]
  },
  {
   "cell_type": "code",
   "execution_count": null,
   "id": "0f025658-d0f5-4396-bce8-b96f7fe6a889",
   "metadata": {
    "tags": [
     "remove_all_output"
    ]
   },
   "outputs": [],
   "source": [
    "import datapane as dp\n",
    "\n",
    "app = dp.App(\n",
    "    dp.Media(file=\"./image.png\", name=\"Image1\", caption=\"Datapane in action!\"),\n",
    ")\n",
    "\n",
    "app.save(path=\"simple-image.html\")"
   ]
  },
  {
   "cell_type": "code",
   "execution_count": null,
   "id": "d63f7614-9218-43c0-b76d-79fc122389f9",
   "metadata": {
    "tags": [
     "remove_input"
    ]
   },
   "outputs": [],
   "source": [
    "from dpdocsutils import previews\n",
    "previews.embed_local_app('/catalogues/blocks/simple-image.html', width=\"100%\", height=640)"
   ]
  }
 ],
 "metadata": {
  "language_info": {
   "name": "python"
  }
 },
 "nbformat": 4,
 "nbformat_minor": 5
}
