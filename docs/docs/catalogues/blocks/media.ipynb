{
 "cells": [
  {
   "cell_type": "markdown",
   "id": "72013dca-0427-4fc6-842e-f495beceab7b",
   "metadata": {},
   "source": [
    "# Media\n",
    "\n",
    "The Media block allows you to include images, GIFs, video and audio in your reports. If the file is in a supported format, it will be displayed inline in your report. To include an image, you can use `dp.Media` and pass the path.\n",
    "\n",
    "```python\n",
    "dp.Media(file='./image.png')\n",
    "```\n",
    "\n",
    "## Simple image embed\n",
    "\n",
    "In the following example, Datapane will display images in your report for viewers and allow users to download them."
   ]
  },
  {
   "cell_type": "code",
   "execution_count": 1,
   "id": "0f025658-d0f5-4396-bce8-b96f7fe6a889",
   "metadata": {
    "tags": [
     "remove_all_output"
    ]
   },
   "outputs": [
    {
     "data": {
      "text/markdown": [
       "App saved to ./simple-image.html"
      ],
      "text/plain": [
       "<IPython.core.display.Markdown object>"
      ]
     },
     "metadata": {},
     "output_type": "display_data"
    }
   ],
   "source": [
    "import datapane as dp\n",
    "\n",
    "report = dp.Report(\n",
    "    dp.Media(file=\"./image.png\", name=\"Image1\", caption=\"Datapane in action!\"),\n",
    ")\n",
    "\n",
    "report.save(path=\"simple-image.html\")"
   ]
  },
  {
   "cell_type": "code",
   "execution_count": 2,
   "id": "d63f7614-9218-43c0-b76d-79fc122389f9",
   "metadata": {
    "tags": [
     "remove_input"
    ]
   },
   "outputs": [
    {
     "data": {
      "text/html": [
       "<a href=\"/catalogues/blocks/simple-image.html\"><img src=\"/catalogues/blocks/simple-image-preview.png\"></a>"
      ],
      "text/plain": [
       "<IPython.core.display.HTML object>"
      ]
     },
     "metadata": {},
     "output_type": "display_data"
    }
   ],
   "source": [
    "from dpdocsutils import previews\n",
    "previews.embed_local_report('/catalogues/blocks/simple-image.html', width=\"100%\", height=640)"
   ]
  }
 ],
 "metadata": {
  "language_info": {
   "name": "python"
  }
 },
 "nbformat": 4,
 "nbformat_minor": 5
}
