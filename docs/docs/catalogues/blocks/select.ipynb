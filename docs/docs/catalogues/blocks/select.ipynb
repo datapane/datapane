{
 "cells": [
  {
   "cell_type": "markdown",
   "id": "2e6ffc18-d80a-443b-bf8a-9f921e997941",
   "metadata": {},
   "source": [
    "# Selects and Tabs\n",
    "\n",
    "In addition to top-level pages elements, you can include tabs and dropdown selects inside your reports using the `dp.Select` block. This allows users to switch between multiple blocks interactively and can even function as a basic filter. It is also useful for providing background context to another block - for instance, to add source code to a plot or a dataset.\n",
    "\n",
    "The `dp.Select` block has two modes:&#x20;\n",
    "\n",
    "* **Tabs** are used for less than 5 options - you can override this default by passing in the parameter `type=dp.SelectType.TABS`\n",
    "* **Drop downs** are used for 5 or more options - you can override this default by passing in the parameter`type = dp.SelectType.DROPDOWN`. In addition, a search bar will appear if the block contains more than 10 options.&#x20;\n",
    "\n",
    "To set the option names, make sure each block contained inside your `dp.Select` has a `label` - see example:"
   ]
  },
  {
   "cell_type": "code",
   "execution_count": 1,
   "id": "29d7277e-01d4-401b-aaf1-d37281bc670a",
   "metadata": {
    "tags": [
     "remove_all_output"
    ]
   },
   "outputs": [
    {
     "data": {
      "text/markdown": [
       "Report saved to ./select.html"
      ],
      "text/plain": [
       "<IPython.core.display.Markdown object>"
      ]
     },
     "metadata": {},
     "output_type": "display_data"
    }
   ],
   "source": [
    "import seaborn as sns\n",
    "import altair as alt\n",
    "import datapane as dp\n",
    "\n",
    "code = \"\"\"\n",
    "titanic = sns.load_dataset(\"titanic\")\n",
    "\n",
    "report = dp.Report(\n",
    "    \"# Titanic overview\",\n",
    "    dp.HTML(\n",
    "        '<html><img src=\"https://upload.wikimedia.org/wikipedia/commons/thumb/f/fd/RMS_Titanic_3.jpg/1599px-RMS_Titanic_3.jpg\" style=\"height:400px;display:flex;margin:auto\"></img></html>'\n",
    "    ),\n",
    "    dp.Select(\n",
    "        blocks=[\n",
    "            dp.Table(titanic.describe(), label=\"Data Description\"),\n",
    "            dp.DataTable(titanic, label=\"Whole Dataset\"),\n",
    "            dp.Code(code, label=\"Source code\"),\n",
    "        ]\n",
    "    ),\n",
    ")\n",
    "\n",
    "report.save(path=\"select.html\")\n",
    "\"\"\"\n",
    "\n",
    "titanic = sns.load_dataset(\"titanic\")\n",
    "\n",
    "report = dp.Report(\n",
    "    \"# Titanic overview\",\n",
    "    dp.HTML(\n",
    "        '<html><img src=\"https://upload.wikimedia.org/wikipedia/commons/thumb/f/fd/RMS_Titanic_3.jpg/1599px-RMS_Titanic_3.jpg\" style=\"height:400px;display:flex;margin:auto\"></img></html>'\n",
    "    ),\n",
    "    dp.Select(\n",
    "        blocks=[\n",
    "            dp.Table(titanic.describe(), label=\"Data Description\"),\n",
    "            dp.DataTable(titanic, label=\"Whole Dataset\"),\n",
    "            dp.Code(code, label=\"Source code\"),\n",
    "        ]\n",
    "    ),\n",
    ")\n",
    "\n",
    "report.save(path=\"select.html\")"
   ]
  },
  {
   "cell_type": "code",
   "execution_count": 2,
   "id": "dc6ce142-7f79-4307-8903-dd1fb8dbac6d",
   "metadata": {
    "tags": [
     "remove_input"
    ]
   },
   "outputs": [
    {
     "data": {
      "text/html": [
       "<a href=\"/catalogues/blocks/select.html\"><img src=\"/catalogues/blocks/select-preview.png\"></a>"
      ],
      "text/plain": [
       "<IPython.core.display.HTML object>"
      ]
     },
     "metadata": {},
     "output_type": "display_data"
    }
   ],
   "source": [
    "from dpdocsutils import previews\n",
    "previews.embed_local_report('/catalogues/blocks/select.html', width=\"100%\", height=1000)"
   ]
  }
 ],
 "metadata": {
  "kernelspec": {
   "display_name": "Python 3 (ipykernel)",
   "language": "python",
   "name": "python3"
  },
  "language_info": {
   "codemirror_mode": {
    "name": "ipython",
    "version": 3
   },
   "file_extension": ".py",
   "mimetype": "text/x-python",
   "name": "python",
   "nbconvert_exporter": "python",
   "pygments_lexer": "ipython3",
   "version": "3.10.5"
  }
 },
 "nbformat": 4,
 "nbformat_minor": 5
}
