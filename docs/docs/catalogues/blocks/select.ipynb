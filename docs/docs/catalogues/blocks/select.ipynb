{
 "cells": [
  {
   "cell_type": "markdown",
   "id": "2e6ffc18-d80a-443b-bf8a-9f921e997941",
   "metadata": {},
   "source": [
    "# Selects and Tabs\n",
    "\n",
    "In addition to top-level pages elements, you can include tabs and dropdown selects inside your apps using the `dp.Select` block. This allows users to switch between multiple blocks interactively and can even function as a basic filter. It is also useful for providing background context to another block - for instance, to add source code to a plot or a dataset.\n",
    "\n",
    "The `dp.Select` block has two modes:&#x20;\n",
    "\n",
    "* **Tabs** are used for less than 5 options - you can override this default by passing in the parameter `type=dp.SelectType.TABS`\n",
    "* **Drop downs** are used for 5 or more options - you can override this default by passing in the parameter`type = dp.SelectType.DROPDOWN`. In addition, a search bar will appear if the block contains more than 10 options.&#x20;\n",
    "\n",
    "To set the option names, make sure each block contained inside your `dp.Select` has a `label`."
   ]
  },
  {
   "cell_type": "markdown",
   "id": "5bd6f836-0c86-44fd-bffe-50f44abfc3d5",
   "metadata": {},
   "source": [
    "## Simple Tabs"
   ]
  },
  {
   "cell_type": "code",
   "execution_count": 1,
   "id": "29d7277e-01d4-401b-aaf1-d37281bc670a",
   "metadata": {
    "tags": [
     "remove_all_output"
    ]
   },
   "outputs": [
    {
     "data": {
      "text/markdown": [
       "App saved to ./simple-select.html"
      ],
      "text/plain": [
       "<IPython.core.display.Markdown object>"
      ]
     },
     "metadata": {},
     "output_type": "display_data"
    }
   ],
   "source": [
    "import seaborn as sns\n",
    "import altair as alt\n",
    "import datapane as dp\n",
    "\n",
    "code = \"\"\"\n",
    "titanic = sns.load_dataset(\"titanic\")\n",
    "\n",
    "app = dp.App(\n",
    "    \"# Titanic overview\",\n",
    "    dp.HTML(\n",
    "        '<html><img src=\"https://upload.wikimedia.org/wikipedia/commons/thumb/f/fd/RMS_Titanic_3.jpg/1599px-RMS_Titanic_3.jpg\" style=\"height:400px;display:flex;margin:auto\"></img></html>'\n",
    "    ),\n",
    "    dp.Select(\n",
    "        blocks=[\n",
    "            dp.Table(titanic.describe(), label=\"Data Description\"),\n",
    "            dp.DataTable(titanic, label=\"Whole Dataset\"),\n",
    "            dp.Code(code, label=\"Source code\"),\n",
    "        ]\n",
    "    ),\n",
    ")\n",
    "\n",
    "app.save(path=\"select.html\")\n",
    "\"\"\"\n",
    "\n",
    "titanic = sns.load_dataset(\"titanic\")\n",
    "\n",
    "app = dp.App(\n",
    "    \"# Titanic overview\",\n",
    "    dp.HTML(\n",
    "        '<html><img src=\"https://upload.wikimedia.org/wikipedia/commons/thumb/f/fd/RMS_Titanic_3.jpg/1599px-RMS_Titanic_3.jpg\" style=\"height:400px;display:flex;margin:auto\"></img></html>'\n",
    "    ),\n",
    "    dp.Select(\n",
    "        blocks=[\n",
    "            dp.Table(titanic.describe(), label=\"Data Description\"),\n",
    "            dp.DataTable(titanic, label=\"Whole Dataset\"),\n",
    "            dp.Code(code, label=\"Source code\"),\n",
    "        ]\n",
    "    ),\n",
    ")\n",
    "\n",
    "app.save(path=\"simple-select.html\")"
   ]
  },
  {
   "cell_type": "code",
   "execution_count": 2,
   "id": "dc6ce142-7f79-4307-8903-dd1fb8dbac6d",
   "metadata": {
    "tags": [
     "remove_input"
    ]
   },
   "outputs": [
    {
     "data": {
      "text/html": [
       "\n",
       "        <iframe\n",
       "            width=\"100%\"\n",
       "            height=\"1000\"\n",
       "            src=\"/catalogues/blocks/simple-select.html\"\n",
       "            frameborder=\"0\"\n",
       "            allowfullscreen\n",
       "            \n",
       "        ></iframe>\n",
       "        "
      ],
      "text/plain": [
       "<IPython.lib.display.IFrame at 0x1056cb760>"
      ]
     },
     "execution_count": 2,
     "metadata": {},
     "output_type": "execute_result"
    }
   ],
   "source": [
    "from dpdocsutils import previews\n",
    "previews.embed_local_app('/catalogues/blocks/simple-select.html', width=\"100%\", height=1000)"
   ]
  },
  {
   "cell_type": "markdown",
   "id": "14cb0990-4a7b-4cb2-b096-6f6d01b4aa0c",
   "metadata": {},
   "source": [
    "## Simple Dropdown"
   ]
  },
  {
   "cell_type": "code",
   "execution_count": 3,
   "id": "60afd9e7-b677-4c44-a81c-748b176544dd",
   "metadata": {
    "tags": [
     "remove_all_output"
    ]
   },
   "outputs": [
    {
     "data": {
      "text/markdown": [
       "App saved to ./select-dropdown.html"
      ],
      "text/plain": [
       "<IPython.core.display.Markdown object>"
      ]
     },
     "metadata": {},
     "output_type": "display_data"
    }
   ],
   "source": [
    "import seaborn as sns\n",
    "import altair as alt\n",
    "import datapane as dp\n",
    "\n",
    "code = \"\"\"\n",
    "titanic = sns.load_dataset(\"titanic\")\n",
    "\n",
    "app = dp.App(\n",
    "    \"# Titanic overview\",\n",
    "    dp.HTML(\n",
    "        '<html><img src=\"https://upload.wikimedia.org/wikipedia/commons/thumb/f/fd/RMS_Titanic_3.jpg/1599px-RMS_Titanic_3.jpg\" style=\"height:400px;display:flex;margin:auto\"></img></html>'\n",
    "    ),\n",
    "    dp.Select(\n",
    "        blocks=[\n",
    "            dp.Table(titanic.describe(), label=\"Data Description\"),\n",
    "            dp.DataTable(titanic, label=\"Whole Dataset\"),\n",
    "            dp.Code(code, label=\"Source code\"),\n",
    "        ]\n",
    "    ),\n",
    ")\n",
    "\n",
    "app.save(path=\"select.html\")\n",
    "\"\"\"\n",
    "\n",
    "titanic = sns.load_dataset(\"titanic\")\n",
    "\n",
    "app = dp.App(\n",
    "    \"# Titanic overview\",\n",
    "    dp.HTML(\n",
    "        '<html><img src=\"https://upload.wikimedia.org/wikipedia/commons/thumb/f/fd/RMS_Titanic_3.jpg/1599px-RMS_Titanic_3.jpg\" style=\"height:400px;display:flex;margin:auto\"></img></html>'\n",
    "    ),\n",
    "    dp.Select(\n",
    "        blocks=[\n",
    "            dp.Table(titanic.describe(), label=\"Data Description\"),\n",
    "            dp.DataTable(titanic, label=\"Whole Dataset\"),\n",
    "            dp.Code(code, label=\"Source code\"),\n",
    "        ],\n",
    "        type=dp.SelectType.DROPDOWN,\n",
    "    ),\n",
    ")\n",
    "\n",
    "app.save(path=\"select-dropdown.html\")"
   ]
  },
  {
   "cell_type": "code",
   "execution_count": 4,
   "id": "0de44e3f-a4b7-4e61-86f0-b8f450ad79ce",
   "metadata": {
    "tags": [
     "remove_input"
    ]
   },
   "outputs": [
    {
     "data": {
      "text/html": [
       "\n",
       "        <iframe\n",
       "            width=\"100%\"\n",
       "            height=\"1000\"\n",
       "            src=\"/catalogues/blocks/select-dropdown.html\"\n",
       "            frameborder=\"0\"\n",
       "            allowfullscreen\n",
       "            \n",
       "        ></iframe>\n",
       "        "
      ],
      "text/plain": [
       "<IPython.lib.display.IFrame at 0x16afa1600>"
      ]
     },
     "execution_count": 4,
     "metadata": {},
     "output_type": "execute_result"
    }
   ],
   "source": [
    "from dpdocsutils import previews\n",
    "previews.embed_local_app('/catalogues/blocks/select-dropdown.html', width=\"100%\", height=1000)"
   ]
  }
 ],
 "metadata": {
  "language_info": {
   "name": "python"
  }
 },
 "nbformat": 4,
 "nbformat_minor": 5
}
