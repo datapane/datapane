{
 "cells": [
  {
   "cell_type": "markdown",
   "id": "5679acac-3960-44fb-b486-952d4ef249c3",
   "metadata": {
    "tags": []
   },
   "source": [
    "# Embeds\n",
    "\n",
    "The Embed block lets you embed content from other platforms e.g. Youtube, Spotify. This is how you'd use it:&#x20;\n",
    "\n",
    "!!! info\n",
    "\n",
    "    If you're trying to embed an `iframe`, you can wrap it in an `HTML` block.\n",
    "    \n",
    "    [Text and HTML](text-code-and-html.ipynb#html){ .md-button }"
   ]
  },
  {
   "cell_type": "markdown",
   "id": "a04aa872-8205-4f0f-8d2c-edf09dfd8350",
   "metadata": {},
   "source": [
    "## Simple YouTube embed"
   ]
  },
  {
   "cell_type": "code",
   "execution_count": 1,
   "id": "cdff0811-1c7f-4cf5-9ab4-6611c9c5b90f",
   "metadata": {
    "tags": [
     "remove_all_output"
    ]
   },
   "outputs": [
    {
     "data": {
      "text/markdown": [
       "Report saved to ./embed-video.html"
      ],
      "text/plain": [
       "<IPython.core.display.Markdown object>"
      ]
     },
     "metadata": {},
     "output_type": "display_data"
    }
   ],
   "source": [
    "import datapane as dp\n",
    "\n",
    "report = dp.Report(\n",
    "    dp.Embed(url='https://www.youtube.com/watch?v=_KS_yZBI71s&t')\n",
    ")\n",
    "\n",
    "report.save(path='embed-video.html')"
   ]
  },
  {
   "cell_type": "code",
   "execution_count": 2,
   "id": "4febbf4f-ce77-42bb-97a4-c2d14ea72dff",
   "metadata": {
    "tags": [
     "remove_input"
    ]
   },
   "outputs": [
    {
     "data": {
      "text/html": [
       "<a href=\"/catalogues/blocks/embed-video.html\"><img src=\"/catalogues/blocks/embed-video-preview.png\"></a>"
      ],
      "text/plain": [
       "<IPython.core.display.HTML object>"
      ]
     },
     "metadata": {},
     "output_type": "display_data"
    }
   ],
   "source": [
    "from dpdocsutils import previews\n",
    "previews.embed_local_report('/catalogues/blocks/embed-video.html', width=\"100%\", height=640)"
   ]
  },
  {
   "cell_type": "markdown",
   "id": "09b76b7a-d5ff-40cb-a778-1f9640703d87",
   "metadata": {},
   "source": [
    "You don't need to use this block for simple embeds on TextReports like GIFs. For those, just use Markdown syntax i.e. `![](https://my-example-gif.gif)`"
   ]
  }
 ],
 "metadata": {
  "kernelspec": {
   "display_name": "Python 3 (ipykernel)",
   "language": "python",
   "name": "python3"
  },
  "language_info": {
   "codemirror_mode": {
    "name": "ipython",
    "version": 3
   },
   "file_extension": ".py",
   "mimetype": "text/x-python",
   "name": "python",
   "nbconvert_exporter": "python",
   "pygments_lexer": "ipython3",
   "version": "3.10.5"
  }
 },
 "nbformat": 4,
 "nbformat_minor": 5
}
