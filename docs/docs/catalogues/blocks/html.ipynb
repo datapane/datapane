{
 "cells": [
  {
   "cell_type": "markdown",
   "id": "11b3d907-e398-49dc-bdae-91d6faca056e",
   "metadata": {},
   "source": [
    "# HTML\n",
    "\n",
    "The HTML block allows you to add raw HTML to your report,  allowing for highly customized components, such as your company's brand, logo, and more.\n",
    "\n",
    "!!! info \n",
    "    \n",
    "    The HTML component is sandboxed and cannot execute JavaScript.\n",
    "    \n",
    "## Simple HTML content"
   ]
  },
  {
   "cell_type": "code",
   "execution_count": 1,
   "id": "3f75e54c-6b48-4fc6-b3e8-568ff87d58bb",
   "metadata": {
    "tags": [
     "remove_all_output"
    ]
   },
   "outputs": [
    {
     "data": {
      "text/markdown": [
       "Report saved to ./html.html"
      ],
      "text/plain": [
       "<IPython.core.display.Markdown object>"
      ]
     },
     "metadata": {},
     "output_type": "display_data"
    }
   ],
   "source": [
    "import datapane as dp\n",
    "\n",
    "html = \"\"\"\n",
    "<html>\n",
    "    <style type='text/css'>\n",
    "        @keyframes example {\n",
    "            0%   {color: #EEE;}\n",
    "            25%  {color: #EC4899;}\n",
    "            50%  {color: #8B5CF6;}\n",
    "            100% {color: #EF4444;}\n",
    "        }\n",
    "        #container {\n",
    "            background: #1F2937;\n",
    "            padding: 10em;\n",
    "        }\n",
    "        h1 {\n",
    "            color:#eee;\n",
    "            animation-name: example;\n",
    "            animation-duration: 4s;\n",
    "            animation-iteration-count: infinite;\n",
    "        }\n",
    "    </style>\n",
    "    <div id=\"container\">\n",
    "      <h1> Welcome to my Report </h1>\n",
    "    </div>\n",
    "</html>\n",
    "\"\"\"\n",
    "\n",
    "report = dp.Report(dp.HTML(html))\n",
    "\n",
    "report.save(path=\"html.html\")"
   ]
  },
  {
   "cell_type": "code",
   "execution_count": 2,
   "id": "ae7220fd-9294-413c-a41e-048f19914406",
   "metadata": {
    "tags": [
     "remove_input"
    ]
   },
   "outputs": [
    {
     "data": {
      "text/html": [
       "<a href=\"/catalogues/blocks/html.html\"><img src=\"/catalogues/blocks/html-preview.png\"></a>"
      ],
      "text/plain": [
       "<IPython.core.display.HTML object>"
      ]
     },
     "metadata": {},
     "output_type": "display_data"
    }
   ],
   "source": [
    "from dpdocsutils import previews\n",
    "previews.embed_local_report('/catalogues/blocks/html.html', width=\"100%\", height=600)"
   ]
  }
 ],
 "metadata": {
  "kernelspec": {
   "display_name": "Python 3 (ipykernel)",
   "language": "python",
   "name": "python3"
  },
  "language_info": {
   "codemirror_mode": {
    "name": "ipython",
    "version": 3
   },
   "file_extension": ".py",
   "mimetype": "text/x-python",
   "name": "python",
   "nbconvert_exporter": "python",
   "pygments_lexer": "ipython3",
   "version": "3.10.5"
  }
 },
 "nbformat": 4,
 "nbformat_minor": 5
}
