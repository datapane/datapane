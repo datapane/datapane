{
 "cells": [
  {
   "cell_type": "markdown",
   "id": "b603b93c-597e-44e4-a82b-0fea3163e525",
   "metadata": {},
   "source": [
    "# Attachments and Python objects\n",
    "\n",
    "If you want to include static files like PDFs or Excel docs in your app, use the `dp.Attachment` block.  You can also pass in a Python object directly. Once you upload the app, your users will be able to explore and download these attachments. &#x20;"
   ]
  },
  {
   "cell_type": "markdown",
   "id": "36eaa88c-d853-4699-bda9-bd002659abda",
   "metadata": {},
   "source": [
    "## Simple attachment"
   ]
  },
  {
   "cell_type": "code",
   "execution_count": null,
   "id": "3885465f-c5ca-4947-8b30-99db431ea4d7",
   "metadata": {
    "tags": [
     "remove_all_output"
    ]
   },
   "outputs": [],
   "source": [
    "import datapane as dp\n",
    "\n",
    "data_path = \"./netflix_stock_data.csv\"\n",
    "\n",
    "app = dp.App(dp.Attachment(file=data_path))\n",
    "\n",
    "app.save(path=\"simple-attachment.html\")"
   ]
  },
  {
   "cell_type": "code",
   "execution_count": null,
   "id": "c95c0f47-7741-4b5c-b0e0-82de837484ee",
   "metadata": {
    "tags": [
     "remove_input"
    ]
   },
   "outputs": [],
   "source": [
    "from dpdocsutils import previews\n",
    "previews.embed_local_app('/catalogues/blocks/simple-attachment.html', width=\"100%\", height=200)"
   ]
  },
  {
   "cell_type": "markdown",
   "id": "d8da6076-7427-4fd7-b391-770f01847bb5",
   "metadata": {},
   "source": [
    "## Python object attachment"
   ]
  },
  {
   "cell_type": "code",
   "execution_count": null,
   "id": "d773ff16-190e-4de3-b91b-5e530a7dea0d",
   "metadata": {
    "tags": [
     "remove_all_output"
    ]
   },
   "outputs": [],
   "source": [
    "import datapane as dp\n",
    "\n",
    "vehicle_dict = {\"brand\": \"Ford\", \"model\": \"Mustang\", \"year\": 1964}\n",
    "\n",
    "app = dp.App(dp.Attachment(vehicle_dict, name=\"vehicle_dict\"))\n",
    "\n",
    "app.save(path=\"object-attachment.html\")"
   ]
  },
  {
   "cell_type": "code",
   "execution_count": null,
   "id": "3746fd2f-f107-4dce-b015-ad6447123385",
   "metadata": {
    "tags": [
     "remove_input"
    ]
   },
   "outputs": [],
   "source": [
    "from dpdocsutils import previews\n",
    "previews.embed_local_app('/catalogues/blocks/object-attachment.html', width=\"100%\", height=200)"
   ]
  },
  {
   "cell_type": "markdown",
   "id": "62528a0d-94b8-4639-8f16-8c8e7148ff41",
   "metadata": {},
   "source": [
    "## Multiple attachments"
   ]
  },
  {
   "cell_type": "code",
   "execution_count": null,
   "id": "1cfa6042-fedc-4c26-8872-96958f07ed1b",
   "metadata": {
    "tags": [
     "remove_all_output"
    ]
   },
   "outputs": [],
   "source": [
    "import datapane as dp\n",
    "\n",
    "data_path = \"./netflix_stock_data.csv\"\n",
    "\n",
    "vehicle_dict = {\"brand\": \"Ford\", \"model\": \"Mustang\", \"year\": 1964}\n",
    "\n",
    "app = dp.App(\n",
    "    dp.Attachment(file=data_path), dp.Attachment(vehicle_dict, name=\"vehicle_dict\")\n",
    ")\n",
    "\n",
    "app.save(path=\"multiple-attachments.html\")"
   ]
  },
  {
   "cell_type": "code",
   "execution_count": null,
   "id": "68840276-bde2-4b04-9eb9-aa8f9b1a90ed",
   "metadata": {
    "tags": [
     "remove_input"
    ]
   },
   "outputs": [],
   "source": [
    "from dpdocsutils import previews\n",
    "previews.embed_local_app('/catalogues/blocks/multiple-attachments.html', width=\"100%\", height=300)"
   ]
  }
 ],
 "metadata": {
  "language_info": {
   "name": "python"
  }
 },
 "nbformat": 4,
 "nbformat_minor": 5
}
