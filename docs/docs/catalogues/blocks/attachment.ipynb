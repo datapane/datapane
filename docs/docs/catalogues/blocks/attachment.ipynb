{
 "cells": [
  {
   "cell_type": "markdown",
   "id": "b603b93c-597e-44e4-a82b-0fea3163e525",
   "metadata": {},
   "source": [
    "## Attachments and Python objects\n",
    "\n",
    "If you want to include static files like PDFs or Excel docs in your report, use the `dp.Attachment` block.  You can also pass in a Python object directly. Once you upload the report, your users will be able to explore and download these attachments. &#x20;"
   ]
  },
  {
   "cell_type": "code",
   "execution_count": 3,
   "id": "3885465f-c5ca-4947-8b30-99db431ea4d7",
   "metadata": {
    "tags": [
     "remove_all_output"
    ]
   },
   "outputs": [
    {
     "data": {
      "text/markdown": [
       "Report saved to ./attachments-and-objects.html"
      ],
      "text/plain": [
       "<IPython.core.display.Markdown object>"
      ]
     },
     "metadata": {},
     "output_type": "display_data"
    }
   ],
   "source": [
    "import datapane as dp\n",
    "\n",
    "data_path = \"./netflix_stock_data.csv\"\n",
    "\n",
    "vehicle_dict = {\n",
    "  \"brand\": \"Ford\",\n",
    "  \"model\": \"Mustang\",\n",
    "  \"year\": 1964\n",
    "}\n",
    "\n",
    "report = dp.Report(\n",
    "  dp.Attachment(file = data_path),\n",
    "  dp.Attachment(vehicle_dict, name='vehicle_dict')\n",
    ")\n",
    "\n",
    "report.save(path='attachments-and-objects.html')"
   ]
  },
  {
   "cell_type": "code",
   "execution_count": 4,
   "id": "c95c0f47-7741-4b5c-b0e0-82de837484ee",
   "metadata": {
    "tags": [
     "remove_input"
    ]
   },
   "outputs": [
    {
     "data": {
      "text/html": [
       "<a href=\"/tutorials/blocks/attachments-and-objects.html\"><img src=\"/tutorials/blocks/attachments-and-objects-preview.png\"></a>"
      ],
      "text/plain": [
       "<IPython.core.display.HTML object>"
      ]
     },
     "metadata": {},
     "output_type": "display_data"
    }
   ],
   "source": [
    "from dpdocsutils import previews\n",
    "previews.embed_local_report('/catalogues/blocks/attachments-and-objects.html', width=\"100%\", height=300)"
   ]
  }
 ],
 "metadata": {
  "kernelspec": {
   "display_name": "Python 3 (ipykernel)",
   "language": "python",
   "name": "python3"
  },
  "language_info": {
   "codemirror_mode": {
    "name": "ipython",
    "version": 3
   },
   "file_extension": ".py",
   "mimetype": "text/x-python",
   "name": "python",
   "nbconvert_exporter": "python",
   "pygments_lexer": "ipython3",
   "version": "3.10.5"
  }
 },
 "nbformat": 4,
 "nbformat_minor": 5
}
