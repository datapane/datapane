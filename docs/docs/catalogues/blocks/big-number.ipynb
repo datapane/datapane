{
 "cells": [
  {
   "cell_type": "markdown",
   "id": "39b916e3-301f-405a-bc69-3e1e3722c152",
   "metadata": {},
   "source": [
    "# Big Number\n",
    "\n",
    "A single number or change can often be the most important thing in a report. The `BigNumber`component allows you to present KPIs, changes, and statistics in a friendly way to your viewers. You can optionally set intent, and pass in numbers or text.&#x20;\n",
    "\n",
    "For full reference on styling your number, see the [API Documentation](https://datapane.github.io/datapane/report.html#datapane.client.api.report.BigNumber)."
   ]
  },
  {
   "cell_type": "code",
   "execution_count": 1,
   "id": "d4da4154-3159-446e-9efe-2d34dabad46b",
   "metadata": {
    "tags": [
     "remove_all_output"
    ]
   },
   "outputs": [
    {
     "data": {
      "text/markdown": [
       "Report saved to ./bignumber.html"
      ],
      "text/plain": [
       "<IPython.core.display.Markdown object>"
      ]
     },
     "metadata": {},
     "output_type": "display_data"
    }
   ],
   "source": [
    "import datapane as dp\n",
    "\n",
    "report = dp.Report(\n",
    "    dp.Group(\n",
    "        dp.BigNumber(\n",
    "            heading=\"Number of percentage points\",\n",
    "            value=\"84%\",\n",
    "            change=\"2%\",\n",
    "            is_upward_change=True,\n",
    "        ),\n",
    "        dp.BigNumber(heading=\"Simple Statistic\", value=100),\n",
    "        columns=2,\n",
    "    )\n",
    ")\n",
    "\n",
    "report.save(path=\"bignumber.html\")"
   ]
  },
  {
   "cell_type": "code",
   "execution_count": 2,
   "id": "5b051f82-2ff5-4dfe-805f-347a4efb16ca",
   "metadata": {
    "tags": [
     "remove_input"
    ]
   },
   "outputs": [
    {
     "data": {
      "text/html": [
       "<a href=\"/catalogues/blocks/bignumber.html\"><img src=\"/catalogues/blocks/bignumber-preview.png\"></a>"
      ],
      "text/plain": [
       "<IPython.core.display.HTML object>"
      ]
     },
     "metadata": {},
     "output_type": "display_data"
    }
   ],
   "source": [
    "from dpdocsutils import previews\n",
    "previews.embed_local_report('/catalogues/blocks/bignumber.html', width=\"100%\", height=300)"
   ]
  }
 ],
 "metadata": {
  "language_info": {
   "name": "python"
  }
 },
 "nbformat": 4,
 "nbformat_minor": 5
}
