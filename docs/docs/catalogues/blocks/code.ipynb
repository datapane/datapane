{
 "cells": [
  {
   "cell_type": "markdown",
   "id": "4a78a84f-49c2-4185-a29f-4a0d84ac947b",
   "metadata": {},
   "source": [
    "# Code\n",
    "\n",
    "The code block allows you to embed syntax highlighted source code into your report. This block currently supports Python and JavaScript."
   ]
  },
  {
   "cell_type": "markdown",
   "id": "657bafec-4b68-41f3-b7e7-dc341526ae6e",
   "metadata": {},
   "source": [
    "## Simple Code Block"
   ]
  },
  {
   "cell_type": "code",
   "execution_count": 1,
   "id": "3b2dfdf8-2978-420e-9a18-4aa93849d03b",
   "metadata": {
    "tags": [
     "remove_all_output"
    ]
   },
   "outputs": [
    {
     "data": {
      "text/markdown": [
       "Report saved to ./code.html"
      ],
      "text/plain": [
       "<IPython.core.display.Markdown object>"
      ]
     },
     "metadata": {},
     "output_type": "display_data"
    }
   ],
   "source": [
    "import datapane as dp\n",
    "\n",
    "code = \"\"\"\n",
    "function foo(n) {\n",
    "  return foo(n + 1)\n",
    "}\n",
    "\"\"\"\n",
    "\n",
    "report = dp.Report(dp.Code(code=code, language=\"javascript\"))\n",
    "report.save(path=\"code.html\")"
   ]
  },
  {
   "cell_type": "code",
   "execution_count": 2,
   "id": "2dda5675-8570-4e12-a09b-4dacf96a1c79",
   "metadata": {
    "tags": [
     "remove_input"
    ]
   },
   "outputs": [
    {
     "data": {
      "text/html": [
       "<a href=\"/catalogues/blocks/code.html\"><img src=\"/catalogues/blocks/code-preview.png\"></a>"
      ],
      "text/plain": [
       "<IPython.core.display.HTML object>"
      ]
     },
     "metadata": {},
     "output_type": "display_data"
    }
   ],
   "source": [
    "from dpdocsutils import previews\n",
    "previews.embed_local_report('/catalogues/blocks/code.html', width=\"100%\", height=200)"
   ]
  }
 ],
 "metadata": {
  "kernelspec": {
   "display_name": "Python 3 (ipykernel)",
   "language": "python",
   "name": "python3"
  },
  "language_info": {
   "codemirror_mode": {
    "name": "ipython",
    "version": 3
   },
   "file_extension": ".py",
   "mimetype": "text/x-python",
   "name": "python",
   "nbconvert_exporter": "python",
   "pygments_lexer": "ipython3",
   "version": "3.10.5"
  }
 },
 "nbformat": 4,
 "nbformat_minor": 5
}
