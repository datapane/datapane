{
 "cells": [
  {
   "cell_type": "markdown",
   "id": "4a78a84f-49c2-4185-a29f-4a0d84ac947b",
   "metadata": {},
   "source": [
    "# Code\n",
    "\n",
    "The code block allows you to embed syntax highlighted source code into your app. This block currently supports Python and JavaScript."
   ]
  },
  {
   "cell_type": "markdown",
   "id": "657bafec-4b68-41f3-b7e7-dc341526ae6e",
   "metadata": {},
   "source": [
    "## Simple Code Block"
   ]
  },
  {
   "cell_type": "code",
   "execution_count": 1,
   "id": "3b2dfdf8-2978-420e-9a18-4aa93849d03b",
   "metadata": {
    "tags": [
     "remove_all_output"
    ]
   },
   "outputs": [
    {
     "data": {
      "text/markdown": [
       "App saved to ./simple-code.html"
      ],
      "text/plain": [
       "<IPython.core.display.Markdown object>"
      ]
     },
     "metadata": {},
     "output_type": "display_data"
    }
   ],
   "source": [
    "import datapane as dp\n",
    "\n",
    "code = \"\"\"\n",
    "function foo(n) {\n",
    "  return foo(n + 1)\n",
    "}\n",
    "\"\"\"\n",
    "\n",
    "app = dp.App(dp.Code(code=code, language=\"javascript\"))\n",
    "app.save(path=\"simple-code.html\")"
   ]
  },
  {
   "cell_type": "code",
   "execution_count": 2,
   "id": "2dda5675-8570-4e12-a09b-4dacf96a1c79",
   "metadata": {
    "tags": [
     "remove_input"
    ]
   },
   "outputs": [
    {
     "data": {
      "text/html": [
       "\n",
       "        <iframe\n",
       "            width=\"100%\"\n",
       "            height=\"200\"\n",
       "            src=\"/catalogues/blocks/simple-code.html\"\n",
       "            frameborder=\"0\"\n",
       "            allowfullscreen\n",
       "            \n",
       "        ></iframe>\n",
       "        "
      ],
      "text/plain": [
       "<IPython.lib.display.IFrame at 0x13192b4c0>"
      ]
     },
     "execution_count": 2,
     "metadata": {},
     "output_type": "execute_result"
    }
   ],
   "source": [
    "from dpdocsutils import previews\n",
    "previews.embed_local_app('/catalogues/blocks/simple-code.html', width=\"100%\", height=200)"
   ]
  }
 ],
 "metadata": {
  "language_info": {
   "name": "python"
  }
 },
 "nbformat": 4,
 "nbformat_minor": 5
}
