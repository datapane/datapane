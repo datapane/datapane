{
 "cells": [
  {
   "cell_type": "markdown",
   "id": "cd383738-f830-46f9-9e1c-2b89af5347bd",
   "metadata": {
    "tags": []
   },
   "source": [
    "# DataTable\n",
    "\n",
    "The DataTable block takes a pandas DataFrame and renders an interactive, sortable, searchable table in your report, along with advanced analysis options such as exploring data through [SandDance](https://www.microsoft.com/en-us/research/project/sanddance/). It supports large datasets and viewers can also download the table from the website as a CSV or Excel file.\n",
    "\n",
    "!!! info\n",
    "\n",
    "    [`Table`](/catalogues/blocks/table) is the best option for displaying multidimensional DataFrames, as `DataTable` will flatten your data."
   ]
  },
  {
   "cell_type": "markdown",
   "id": "8ff9cf19-ffc1-420c-b0de-223f251ebaf1",
   "metadata": {},
   "source": [
    "## Simple DataTable from DataFrame"
   ]
  },
  {
   "cell_type": "code",
   "execution_count": 1,
   "id": "61fa442c-9b0f-4f86-a280-fdb0c87a7e53",
   "metadata": {
    "tags": [
     "remove_all_output"
    ]
   },
   "outputs": [
    {
     "data": {
      "text/markdown": [
       "App saved to ./simple-datatable.html"
      ],
      "text/plain": [
       "<IPython.core.display.Markdown object>"
      ]
     },
     "metadata": {},
     "output_type": "display_data"
    }
   ],
   "source": [
    "import datapane as dp\n",
    "import pandas as pd\n",
    "import numpy as np\n",
    "\n",
    "df = pd.DataFrame(\n",
    "    {\n",
    "        \"A\": np.random.normal(-1, 1, 5000),\n",
    "        \"B\": np.random.normal(1, 2, 5000),\n",
    "    }\n",
    ")\n",
    "\n",
    "table = dp.DataTable(df)\n",
    "report = dp.Report(table)\n",
    "report.save(path=\"simple-datatable.html\")"
   ]
  },
  {
   "cell_type": "code",
   "execution_count": 2,
   "id": "8e066c62-6fb6-40c3-bcda-fb2c8a912f40",
   "metadata": {
    "tags": [
     "remove_input"
    ]
   },
   "outputs": [
    {
     "data": {
      "text/html": [
       "<a href=\"/catalogues/blocks/simple-datatable.html\"><img src=\"/catalogues/blocks/simple-datatable-preview.png\"></a>"
      ],
      "text/plain": [
       "<IPython.core.display.HTML object>"
      ]
     },
     "metadata": {},
     "output_type": "display_data"
    }
   ],
   "source": [
    "from dpdocsutils import previews\n",
    "previews.embed_local_report('/catalogues/blocks/simple-datatable.html', width=\"100%\", height=540)"
   ]
  },
  {
   "cell_type": "markdown",
   "id": "bfc506b7-2fcf-4bbc-8fdd-6c727fb65e7d",
   "metadata": {},
   "source": [
    "## Running Queries on DataTable\n",
    "\n",
    "You can run SQL queries on your datatable if you need more advanced filtering & calculations. In the previous example, if we wanted to show only the rows which had a value A > 0.5, we would write the following (note that `$tbl` is the builtin table name and cannot be changed):  &#x20;\n",
    "\n",
    "```sql\n",
    "SELECT * FROM $tbl\n",
    "WHERE A > 0.5\n",
    "```"
   ]
  }
 ],
 "metadata": {
  "language_info": {
   "name": "python"
  }
 },
 "nbformat": 4,
 "nbformat_minor": 5
}
