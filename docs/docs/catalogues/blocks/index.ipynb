{
 "cells": [
  {
   "cell_type": "markdown",
   "id": "5d593263-7cc4-49f6-84ef-89fcc312839e",
   "metadata": {
    "tags": []
   },
   "source": [
    "# Blocks catalogue"
   ]
  },
  {
   "cell_type": "markdown",
   "id": "bbdb7596-16ee-4476-ba93-fc3eb3ae5dd6",
   "metadata": {
    "tags": []
   },
   "source": [
    "## Tables and data\n",
    "\n",
    "Add datasets to your reports, from simple tables to interactive drilldowns.\n",
    "\n",
    "<div class=\"grid cards\" markdown>\n",
    "    \n",
    "-   <a href=\"/catalogues/blocks/table\"><img style=\"width:100%;height:180px;object-fit: cover;\" src=\"../../img/catalogues/table.png\"></a>\n",
    "\n",
    "    __[Table](/catalogues/blocks/table)__\n",
    "    \n",
    "-   <a href=\"/catalogues/blocks/data-table\"><img style=\"width:100%;height:180px;object-fit: cover;\" src=\"../../img/catalogues/data-table.png\"></a>\n",
    "\n",
    "    __[Data Table](/catalogues/blocks/data-table)__\n",
    "\n",
    "-   <a href=\"/catalogues/blocks/big-number\"><img style=\"width:100%;height:180px;object-fit: cover;\" src=\"../../img/catalogues/big-number.png\"></a>\n",
    "\n",
    "    __[Big Number](/catalogues/blocks/big-number)__\n",
    " \n",
    "</div>"
   ]
  },
  {
   "cell_type": "markdown",
   "id": "1307aca3-fa31-4ca6-9250-231c6a7fe5df",
   "metadata": {},
   "source": [
    "## Plots and visualizations\n",
    "\n",
    "Add interactive plots and visualizations to your report. Supports all major Python visualization libraries. \n",
    "\n",
    "<div class=\"grid cards\" markdown>\n",
    "    \n",
    "-   <a href=\"/catalogues/blocks/plot\"><img style=\"width:100%;height:180px;object-fit: cover;\" src=\"../../img/catalogues/plot.png\"></a>\n",
    "\n",
    "    __[Plots](/catalogues/blocks/plot)__\n",
    "\n",
    "-   <a href=\"/catalogues/blocks/map\"><img style=\"width:100%;height:180px;object-fit: cover;\" src=\"../../img/catalogues/map.png\"></a>\n",
    "\n",
    "    __[Maps](/catalogues/blocks/map)__\n",
    "    \n",
    "</div>"
   ]
  },
  {
   "cell_type": "markdown",
   "id": "b9429c83-f451-4477-989f-7563ffc67b3b",
   "metadata": {},
   "source": [
    "## Text and HTML\n",
    "\n",
    "Add markdown text to your reports, including helpers for creating text-heavy Python reports.\n",
    "\n",
    "<div class=\"grid cards\" markdown>\n",
    "    \n",
    "-   <a href=\"/catalogues/blocks/text\"><img style=\"width:100%;height:180px;object-fit: cover;\" src=\"../../img/catalogues/text.png\"></a>\n",
    "\n",
    "    __[Text](/catalogues/blocks/text)__\n",
    "\n",
    "-   <a href=\"/catalogues/blocks/formula\"><img style=\"width:100%;height:180px;object-fit: cover;\" src=\"../../img/catalogues/formula.png\"></a>\n",
    "\n",
    "    __[Formulas](/catalogues/blocks/formula)__\n",
    "    \n",
    "-   <a href=\"/catalogues/blocks/code\"><img style=\"width:100%;height:180px;object-fit: cover;\" src=\"../../img/catalogues/code.png\"></a>\n",
    "\n",
    "    __[Code](/catalogues/blocks/code)__\n",
    "    \n",
    "-   <a href=\"/catalogues/blocks/html\"><img style=\"width:100%;height:180px;object-fit: cover;\" src=\"../../img/catalogues/html.png\"></a>\n",
    "\n",
    "    __[HTML](/catalogues/blocks/html)__\n",
    "    \n",
    "</div>"
   ]
  },
  {
   "cell_type": "markdown",
   "id": "fd43588b-294c-4a76-b910-75d0b6de6b08",
   "metadata": {},
   "source": [
    "## Media and embeds\n",
    "\n",
    "Add images, GIFs, videos, attachments, and embeds to your report.\n",
    "\n",
    "<div class=\"grid cards\" markdown>\n",
    "    \n",
    "-   <a href=\"/catalogues/blocks/media\"><img style=\"width:100%;height:180px;object-fit: cover;\" src=\"../../img/catalogues/media.png\"></a>\n",
    "\n",
    "    __[Media](/catalogues/blocks/media)__\n",
    "\n",
    "-   <a href=\"/catalogues/blocks/attachment\"><img style=\"width:100%;height:180px;object-fit: cover;\" src=\"../../img/catalogues/attachment.png\"></a>\n",
    "\n",
    "    __[Attachments](/catalogues/blocks/attachment)__\n",
    "    \n",
    "-   <a href=\"/catalogues/blocks/embed\"><img style=\"width:100%;height:180px;object-fit: cover;\" src=\"../../img/catalogues/embed.png\"></a>\n",
    "\n",
    "    __[Embeds](/catalogues/blocks/embed)__\n",
    "    \n",
    "</div>"
   ]
  },
  {
   "cell_type": "markdown",
   "id": "8695579f-4482-4181-8982-e7c9b7c7f640",
   "metadata": {},
   "source": [
    "## Layout and pages\n",
    "\n",
    "Laying out your report to make it more readable and understandable.\n",
    "\n",
    "<div class=\"grid cards\" markdown>\n",
    "    \n",
    "-   <a href=\"/catalogues/blocks/group\"><img style=\"width:100%;height:180px;object-fit: cover;\" src=\"../../img/catalogues/group.png\"></a>\n",
    "\n",
    "    __[Grids](/catalogues/blocks/group)__\n",
    "\n",
    "-   <a href=\"/catalogues/blocks/page\"><img style=\"width:100%;height:180px;object-fit: cover;\" src=\"../../img/catalogues/page.png\"></a>\n",
    "\n",
    "    __[Pages](/catalogues/blocks/page)__\n",
    "    \n",
    "-   <a href=\"/catalogues/blocks/select\"><img style=\"width:100%;height:180px;object-fit: cover;\" src=\"../../img/catalogues/select.png\"></a>\n",
    "\n",
    "    __[Tabs and dropdowns](/catalogues/blocks/select)__\n",
    "    \n",
    "</div>"
   ]
  }
 ],
 "metadata": {
  "kernelspec": {
   "display_name": "Python 3 (ipykernel)",
   "language": "python",
   "name": "python3"
  },
  "language_info": {
   "codemirror_mode": {
    "name": "ipython",
    "version": 3
   },
   "file_extension": ".py",
   "mimetype": "text/x-python",
   "name": "python",
   "nbconvert_exporter": "python",
   "pygments_lexer": "ipython3",
   "version": "3.10.5"
  }
 },
 "nbformat": 4,
 "nbformat_minor": 5
}
