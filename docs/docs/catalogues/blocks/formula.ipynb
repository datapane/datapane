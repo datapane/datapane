{
 "cells": [
  {
   "cell_type": "markdown",
   "id": "52bddb17-ebd8-4ef9-8380-5aca261f5f4d",
   "metadata": {},
   "source": [
    "# Formulas\n",
    "\n",
    "The formula block allows you easily to add [_LaTeX_](https://en.wikipedia.org/wiki/LaTeX)-formatted equations to your app, with an optional caption. A brief intro into _LaTeX_ formulas can be found [here](https://en.wikibooks.org/wiki/LaTeX/Mathematics).&#x20;"
   ]
  },
  {
   "cell_type": "markdown",
   "id": "32f6d219-fa75-48bb-8cad-8e0900ca21a2",
   "metadata": {},
   "source": [
    "## Simple LaTeX Formula"
   ]
  },
  {
   "cell_type": "code",
   "execution_count": 1,
   "id": "7f0e2b31-22e7-4518-bf88-4fbf171b03ab",
   "metadata": {
    "tags": [
     "remove_all_output"
    ]
   },
   "outputs": [
    {
     "data": {
      "text/markdown": [
       "App saved to ./simple-formula.html"
      ],
      "text/plain": [
       "<IPython.core.display.Markdown object>"
      ]
     },
     "metadata": {},
     "output_type": "display_data"
    }
   ],
   "source": [
    "import datapane as dp\n",
    "\n",
    "app = dp.App(dp.Formula(r\"\\frac{1}{\\sqrt{x^2 + 1}}\"))\n",
    "\n",
    "app.save(path=\"simple-formula.html\")"
   ]
  },
  {
   "cell_type": "code",
   "execution_count": 2,
   "id": "fc134ab3-55e1-49d1-abc7-37835a6b4a3f",
   "metadata": {
    "tags": [
     "remove_input"
    ]
   },
   "outputs": [
    {
     "data": {
      "text/html": [
       "\n",
       "        <iframe\n",
       "            width=\"100%\"\n",
       "            height=\"120\"\n",
       "            src=\"/catalogues/blocks/simple-formula.html\"\n",
       "            frameborder=\"0\"\n",
       "            allowfullscreen\n",
       "            \n",
       "        ></iframe>\n",
       "        "
      ],
      "text/plain": [
       "<IPython.lib.display.IFrame at 0x12562f550>"
      ]
     },
     "execution_count": 2,
     "metadata": {},
     "output_type": "execute_result"
    }
   ],
   "source": [
    "from dpdocsutils import previews\n",
    "previews.embed_local_app('/catalogues/blocks/simple-formula.html', width=\"100%\", height=120)"
   ]
  },
  {
   "cell_type": "markdown",
   "id": "6df06646-fbca-446e-b250-e03ed0a267da",
   "metadata": {},
   "source": [
    "!!! info \n",
    "\n",
    "    _LaTeX_ formulas commonly make use of special characters, hence prefix your formulas with `r` in Python as per the example above to make them raw strings, e.g. `r\"x^2\"`\n",
    "\n",
    "Under the hood we use MathJAX to render the equations in the browser and not a full TeX engine. This means that some of your TeX input may not be rendered correctly on our system - read the [MathJAX documentation](http://docs.mathjax.org/en/latest/input/tex/differences.html) for more info.&#x20;"
   ]
  }
 ],
 "metadata": {
  "language_info": {
   "name": "python"
  }
 },
 "nbformat": 4,
 "nbformat_minor": 5
}
