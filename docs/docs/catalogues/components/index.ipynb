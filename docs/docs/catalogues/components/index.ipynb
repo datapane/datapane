{
 "cells": [
  {
   "cell_type": "markdown",
   "id": "c3296873-aca8-4ecb-9b8c-23b0fd7bc51c",
   "metadata": {},
   "source": [
    "# Components catalogue\n",
    "\n",
    "Welcome to the Datapane components catalogue. Here you will find functioning and reusable examples of Datapane block combinations in action."
   ]
  }
 ],
 "metadata": {
  "kernelspec": {
   "display_name": "Python 3 (ipykernel)",
   "language": "python",
   "name": "python3"
  },
  "language_info": {
   "codemirror_mode": {
    "name": "ipython",
    "version": 3
   },
   "file_extension": ".py",
   "mimetype": "text/x-python",
   "name": "python",
   "nbconvert_exporter": "python",
   "pygments_lexer": "ipython3",
   "version": "3.10.5"
  }
 },
 "nbformat": 4,
 "nbformat_minor": 5
}
