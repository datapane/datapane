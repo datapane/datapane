{
 "cells": [
  {
   "cell_type": "markdown",
   "id": "c3296873-aca8-4ecb-9b8c-23b0fd7bc51c",
   "metadata": {
    "tags": []
   },
   "source": [
    "# Components catalogue\n",
    "\n",
    "Welcome to the Datapane components catalogue. Here you will find functioning and reusable examples of Datapane block combinations in action."
   ]
  },
  {
   "cell_type": "markdown",
   "id": "f9f5b4d9-20e2-403c-b736-1532a0371f32",
   "metadata": {
    "jp-MarkdownHeadingCollapsed": true,
    "tags": []
   },
   "source": [
    "<div class=\"grid cards\" markdown>\n",
    "    \n",
    "-   __[Calendar Heatmap](/catalogues/components/calendar-heatmap)__\n",
    "\n",
    "    <a href=\"/catalogues/components/calendar-heatmap\"><img style=\"width:100%;\" src=\"calendar-heatmap-component-preview.png\"></a>\n",
    "</div>"
   ]
  },
  {
   "cell_type": "markdown",
   "id": "890e0893-cd31-42b7-a67a-6b1ac11268d6",
   "metadata": {
    "jp-MarkdownHeadingCollapsed": true,
    "tags": []
   },
   "source": [
    "<div class=\"grid cards\" markdown>\n",
    "    \n",
    "-   __[Timeline](/catalogues/components/timeline)__\n",
    "\n",
    "    <a href=\"/catalogues/components/timeline\"><img style=\"width:100%;\" src=\"timeline-component-preview.png\"></a>\n",
    "</div>"
   ]
  }
 ],
 "metadata": {
  "language_info": {
   "name": "python"
  }
 },
 "nbformat": 4,
 "nbformat_minor": 5
}
