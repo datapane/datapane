{
 "cells": [
  {
   "cell_type": "markdown",
   "id": "c3296873-aca8-4ecb-9b8c-23b0fd7bc51c",
   "metadata": {
    "tags": []
   },
   "source": [
    "# Components catalogue\n",
    "\n",
    "Welcome to the Datapane components catalogue. Here you will find functioning and reusable examples of Datapane block combinations in action."
   ]
  },
  {
   "cell_type": "markdown",
   "id": "f9f5b4d9-20e2-403c-b736-1532a0371f32",
   "metadata": {
    "jp-MarkdownHeadingCollapsed": true,
    "tags": []
   },
   "source": [
    "<div class=\"grid cards\" markdown>\n",
    "    \n",
    "-   <a href=\"/catalogues/components/calendar-heatmap\"><img style=\"width:100%;\" src=\"calendar-heatmap-component-preview.png\"></a>\n",
    "\n",
    "    __[Calendar Heatmap](/catalogues/components/calendar-heatmap)__\n",
    "    \n",
    "<!-- -   <a href=\"/catalogues/blocks/datatable\"><img style=\"width:100%;\" src=\"../../img/catalogues/datatable.png\"></a>\n",
    "\n",
    "    __[Data Table](/catalogues/blocks/datatable)__\n",
    "\n",
    "-   <a href=\"/catalogues/blocks/bignumber\"><img style=\"width:100%;\" src=\"../../img/catalogues/bignumber.png\"></a>\n",
    "\n",
    "    __[Big Number](/catalogues/blocks/bignumber)__\n",
    "  -->\n",
    "</div>"
   ]
  }
 ],
 "metadata": {
  "kernelspec": {
   "display_name": "Python 3 (ipykernel)",
   "language": "python",
   "name": "python3"
  },
  "language_info": {
   "codemirror_mode": {
    "name": "ipython",
    "version": 3
   },
   "file_extension": ".py",
   "mimetype": "text/x-python",
   "name": "python",
   "nbconvert_exporter": "python",
   "pygments_lexer": "ipython3",
   "version": "3.10.5"
  }
 },
 "nbformat": 4,
 "nbformat_minor": 5
}
