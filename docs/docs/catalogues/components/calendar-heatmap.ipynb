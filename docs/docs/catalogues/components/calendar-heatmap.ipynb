{
 "cells": [
  {
   "cell_type": "markdown",
   "id": "da21f4e5-e0e4-4769-85bd-1c52a3e71bc3",
   "metadata": {},
   "source": [
    "# Calendar Heatmap\n",
    "\n",
    "<!-- A single number or change can often be the most important thing in an app. The `BigNumber`component allows you to present KPIs, changes, and statistics in a friendly way to your viewers. You can optionally set intent, and pass in numbers or text.&#x20; -->"
   ]
  },
  {
   "cell_type": "markdown",
   "id": "4a0931dd-2ce6-4aac-b22f-0ae2847cac9d",
   "metadata": {},
   "source": [
    "The Calendar Heatmap component works with timeseries data to visualise counts over a calendar year."
   ]
  },
  {
   "cell_type": "code",
   "execution_count": 1,
   "id": "91cfd96f-a985-4d17-8a37-bf54d95bba72",
   "metadata": {},
   "outputs": [],
   "source": [
    "import altair as alt\n",
    "import datapane as dp\n",
    "import pandas as pd \n",
    "from vega_datasets import data"
   ]
  },
  {
   "cell_type": "markdown",
   "id": "388b435e-bc87-4bff-be48-1a68d55b4591",
   "metadata": {},
   "source": [
    "## Wrangling and visualisation functions"
   ]
  },
  {
   "cell_type": "code",
   "execution_count": 2,
   "id": "a3a7d193-3c79-4fc8-a2b1-8b2b4300b126",
   "metadata": {},
   "outputs": [],
   "source": [
    "def wrangle_df(df, year=None):\n",
    "    df = df.set_index(\"Date\")\n",
    "    df.index = pd.DatetimeIndex(df.index)\n",
    "\n",
    "    # If not after a specific year, use year from last sample date\n",
    "    last_sample_date = df.index.max()\n",
    "    if not year:\n",
    "        year = last_sample_date.year\n",
    "\n",
    "    # Subsample to samples from the same year\n",
    "    df = df[df.index.year == year]\n",
    "\n",
    "    # Fill our DataFrame so there's a sample for every day of the year\n",
    "    idx = pd.date_range(f\"01-01-{year}\", f\"12-31-{year}\")\n",
    "    df = df.reindex(idx, fill_value=0)\n",
    "    df[\"Date\"] = df.index\n",
    "\n",
    "    return df, year, last_sample_date"
   ]
  },
  {
   "cell_type": "code",
   "execution_count": 3,
   "id": "79ffcc7c-4e48-49e5-96fc-9e0cf9db4fb9",
   "metadata": {},
   "outputs": [],
   "source": [
    "def plot_calendar_heatmap(\n",
    "    metric,\n",
    "    df_yt_analytics,\n",
    "    labels=True,\n",
    "    legend=True,\n",
    "    color_scheme=\"viridis\",\n",
    "    height=120,\n",
    "):\n",
    "    chart = (\n",
    "        alt.Chart(df_yt_analytics)\n",
    "        .mark_rect(stroke=\"white\", strokeWidth=2)\n",
    "        .encode(\n",
    "            alt.X(\n",
    "                \"week(Date):T\",\n",
    "                title=None,\n",
    "                axis=alt.Axis(\n",
    "                    grid=False,\n",
    "                    labels=labels,\n",
    "                    ticks=False,\n",
    "                    domain=False,\n",
    "                    tickCount=\"month\",\n",
    "                    format=\"%b\",\n",
    "                ),\n",
    "            ),\n",
    "            alt.Y(\n",
    "                \"day(Date):T\",\n",
    "                sort=\"descending\",\n",
    "                title=None,\n",
    "                axis=alt.Axis(\n",
    "                    labelBaseline=\"top\",\n",
    "                    grid=False,\n",
    "                    labels=labels,\n",
    "                    ticks=False,\n",
    "                    domain=False,\n",
    "                    tickCount={\"interval\": \"day\", \"step\": 3},\n",
    "                ),\n",
    "            ),\n",
    "            alt.Color(\n",
    "                f\"{metric}:Q\",\n",
    "                legend=alt.Legend() if legend else None,\n",
    "                title=None,\n",
    "                scale=alt.Scale(scheme=color_scheme),\n",
    "            ),\n",
    "            tooltip=[\"Date\", f\"{metric}\"],\n",
    "        )\n",
    "        .configure_view(strokeWidth=0)\n",
    "        .configure_axis(labelFontSize=12)\n",
    "        .properties(width=\"container\", height=height)\n",
    "    )\n",
    "\n",
    "    return chart"
   ]
  },
  {
   "cell_type": "markdown",
   "id": "88ee8af1-bcaf-4619-ba73-4b10eedac5b5",
   "metadata": {},
   "source": [
    "## Load and wrangle data"
   ]
  },
  {
   "cell_type": "markdown",
   "id": "f8e1bf61-b048-48fc-9824-4ab650db0ebd",
   "metadata": {},
   "source": [
    "The wrangling and visualisation functions expect a pandas `DataFrame` with two columns:\n",
    "- `Date`: Unique dates corresponding to some measure.\n",
    "- `Incidents`: containing the value counts, e.g. number of incidents on a particular day."
   ]
  },
  {
   "cell_type": "code",
   "execution_count": 4,
   "id": "a47deccb-4c9f-4395-a00a-3318449d7b64",
   "metadata": {},
   "outputs": [],
   "source": [
    "df_birdstrikes = data.birdstrikes()\n",
    "\n",
    "df_daily_incidents = pd.DataFrame(\n",
    "    df_birdstrikes[\"Flight_Date\"].value_counts()\n",
    ").reset_index()\n",
    "df_daily_incidents.columns = [\"Date\", \"Incidents\"]"
   ]
  },
  {
   "cell_type": "markdown",
   "id": "cc5842cd-5b7c-4e3c-b568-3591a87a4d6e",
   "metadata": {},
   "source": [
    "The name of the value counts column, e.g. `Incidents`, can be anything. If you change the column name, be sure to update the corresponding argument to `plot_calendar_heatmap`.\n",
    "\n",
    "The samples will look something like the following."
   ]
  },
  {
   "cell_type": "code",
   "execution_count": 5,
   "id": "db7c502a-f47a-41e0-b4d6-336344062c3e",
   "metadata": {
    "tags": [
     "remove_input"
    ]
   },
   "outputs": [
    {
     "data": {
      "text/html": [
       "<div>\n",
       "<style scoped>\n",
       "    .dataframe tbody tr th:only-of-type {\n",
       "        vertical-align: middle;\n",
       "    }\n",
       "\n",
       "    .dataframe tbody tr th {\n",
       "        vertical-align: top;\n",
       "    }\n",
       "\n",
       "    .dataframe thead th {\n",
       "        text-align: right;\n",
       "    }\n",
       "</style>\n",
       "<table border=\"1\" class=\"dataframe\">\n",
       "  <thead>\n",
       "    <tr style=\"text-align: right;\">\n",
       "      <th></th>\n",
       "      <th>Date</th>\n",
       "      <th>Incidents</th>\n",
       "    </tr>\n",
       "  </thead>\n",
       "  <tbody>\n",
       "    <tr>\n",
       "      <th>0</th>\n",
       "      <td>10/19/99 0:00</td>\n",
       "      <td>16</td>\n",
       "    </tr>\n",
       "    <tr>\n",
       "      <th>1</th>\n",
       "      <td>10/24/90 0:00</td>\n",
       "      <td>14</td>\n",
       "    </tr>\n",
       "    <tr>\n",
       "      <th>2</th>\n",
       "      <td>8/13/98 0:00</td>\n",
       "      <td>13</td>\n",
       "    </tr>\n",
       "    <tr>\n",
       "      <th>3</th>\n",
       "      <td>10/25/95 0:00</td>\n",
       "      <td>11</td>\n",
       "    </tr>\n",
       "    <tr>\n",
       "      <th>4</th>\n",
       "      <td>9/13/00 0:00</td>\n",
       "      <td>11</td>\n",
       "    </tr>\n",
       "  </tbody>\n",
       "</table>\n",
       "</div>"
      ],
      "text/plain": [
       "            Date  Incidents\n",
       "0  10/19/99 0:00         16\n",
       "1  10/24/90 0:00         14\n",
       "2   8/13/98 0:00         13\n",
       "3  10/25/95 0:00         11\n",
       "4   9/13/00 0:00         11"
      ]
     },
     "execution_count": 5,
     "metadata": {},
     "output_type": "execute_result"
    }
   ],
   "source": [
    "df_daily_incidents.head()"
   ]
  },
  {
   "cell_type": "markdown",
   "id": "64722ac7-f06a-4a42-a3f1-39aaa39e2385",
   "metadata": {},
   "source": [
    "Now we can pass this `DataFrame` to the provided function for wrangling. Specify the year to be visualised below, or omit it to visualise the latest year available."
   ]
  },
  {
   "cell_type": "code",
   "execution_count": 6,
   "id": "87ca4a53-3401-4ee4-89c7-f98982134c94",
   "metadata": {
    "tags": [
     "remove_all_output"
    ]
   },
   "outputs": [],
   "source": [
    "df, year, last_sample_date = wrangle_df(df_daily_incidents, year=2000)"
   ]
  },
  {
   "cell_type": "markdown",
   "id": "b5ae9ca6-cafe-444c-abe6-c0134b117e56",
   "metadata": {
    "tags": [
     "remove_all_output"
    ]
   },
   "source": [
    "## Build app"
   ]
  },
  {
   "cell_type": "code",
   "execution_count": 7,
   "id": "e620aff9-9472-41be-8374-00b05ff2b53a",
   "metadata": {
    "tags": [
     "remove_all_output"
    ]
   },
   "outputs": [
    {
     "data": {
      "text/markdown": [
       "App saved to ./calendar-heatmap-component.html"
      ],
      "text/plain": [
       "<IPython.core.display.Markdown object>"
      ]
     },
     "metadata": {},
     "output_type": "display_data"
    }
   ],
   "source": [
    "plot_heatmap = dp.Plot(\n",
    "    plot_calendar_heatmap(\"Incidents\", df, legend=True, color_scheme=\"viridis\")\n",
    ")\n",
    "\n",
    "app = dp.App(plot_heatmap)\n",
    "\n",
    "app.save(path=\"calendar-heatmap-component.html\", open=True)"
   ]
  },
  {
   "cell_type": "code",
   "execution_count": 8,
   "id": "0a462d1f-14e3-47f8-9a40-bbc31bdfec60",
   "metadata": {
    "tags": [
     "remove_input"
    ]
   },
   "outputs": [
    {
     "data": {
      "text/html": [
       "<a href=\"/catalogues/components/calendar-heatmap-component.html\"><img src=\"/catalogues/components/calendar-heatmap-component-preview.png\"></a>"
      ],
      "text/plain": [
       "<IPython.core.display.HTML object>"
      ]
     },
     "metadata": {},
     "output_type": "display_data"
    }
   ],
   "source": [
    "from dpdocsutils import previews\n",
    "\n",
    "previews.embed_local_app(\n",
    "    \"/catalogues/components/calendar-heatmap-component.html\", width=\"100%\", height=260\n",
    ")"
   ]
  }
 ],
 "metadata": {
  "language_info": {
   "name": "python"
  }
 },
 "nbformat": 4,
 "nbformat_minor": 5
}
