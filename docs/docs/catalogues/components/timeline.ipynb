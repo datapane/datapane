{
 "cells": [
  {
   "cell_type": "markdown",
   "id": "a2cd3765-22ff-4b53-8c64-6d56b3a8276b",
   "metadata": {},
   "source": [
    "# Timeline"
   ]
  },
  {
   "cell_type": "markdown",
   "id": "062a1494-34f3-47b6-a30d-0ad3b78b7520",
   "metadata": {},
   "source": [
    "The Timeline component expects a `list` of `dict` items with the following keys:\n",
    "\n",
    "- `time` is a string, so it can be something like a date, a time, \"5 days ago\", \"12h\", and more.\n",
    "- `icon` changes the icon and its background colour, default options are `actor`, `check`, `cross`, `code`, and `thumbs-up`.\n",
    "- `action` starts off the timeline entry, e.g. \"Completed the interview with\".\n",
    "- `name` completes the first line of the timeline entry, e.g. \"Datapane\", which paired with the action will read \"Completed the interview with Datapane\".\n",
    "- `description` allows for more information to be added to the timeline entry. HTML works here too!\n",
    "\n",
    "All keys in the dict are optional."
   ]
  },
  {
   "cell_type": "code",
   "execution_count": 1,
   "id": "bf792840-bf5f-47aa-8f07-efb329d3aceb",
   "metadata": {},
   "outputs": [],
   "source": [
    "import datapane as dp\n",
    "import string"
   ]
  },
  {
   "cell_type": "markdown",
   "id": "8e252f8e-de67-49a8-83ab-d235e6ba3995",
   "metadata": {},
   "source": [
    "## Load data\n",
    "\n",
    "Here is where we can load our data. In this case, we're creating our items within Python. \n",
    "\n",
    "Replace the following items with the desired entries. Unless we're customizing templates, this is the only part of the component code that needs changing."
   ]
  },
  {
   "cell_type": "code",
   "execution_count": 2,
   "id": "d4f60630-0417-4946-b268-9fad782861ac",
   "metadata": {},
   "outputs": [],
   "source": [
    "items = [\n",
    "    {\n",
    "        \"time\": \"Jan 1994\",\n",
    "        \"icon\": \"code\",\n",
    "        \"action\": \"Python 1.0 was released by the\",\n",
    "        \"name\": \"Python Software Foundation\",\n",
    "        \"description\": \"The major new features included in this release were the functional programming tools <code>lambda</code>, <code>map</code>, <code>filter</code> and <code>reduce</code>.\",\n",
    "    },\n",
    "    {\n",
    "        \"time\": \"Oct 2009\",\n",
    "        \"icon\": \"cross\",\n",
    "        \"action\": \"Regrets were shared by \",\n",
    "        \"name\": \"Guido van Rossum\",\n",
    "        \"description\": '\"I would not have the feature at all if I had to do it over.\" (<a class=\"underline text-gray-600\" href=\"https://mail.python.org/pipermail/python-ideas/2009-October/006157.html\">on <code>for-else</code> and <code>while-else</code></a>).',\n",
    "    },\n",
    "    {\n",
    "        \"time\": \"Unknown\",\n",
    "        \"icon\": \"thumbs-up\",\n",
    "        \"action\": \"Python was enjoyed by\",\n",
    "        \"name\": \"Many developers\",\n",
    "        \"description\": \"Python has thrived and been enjoyed by many developers throughout the years!\",\n",
    "    },\n",
    "    {\n",
    "        \"time\": \"22h\",\n",
    "        \"icon\": \"check\",\n",
    "        \"action\": \"Completed their journey with\",\n",
    "        \"name\": \"Datapane Timeline\",\n",
    "        \"description\": \"Thank you for joining us on this journey through component demonstration.\",\n",
    "    },\n",
    "    {\n",
    "        \"time\": \"Now\",\n",
    "        \"icon\": \"actor\",\n",
    "        \"action\": \"A Datapane user tries the\",\n",
    "        \"name\": \"Datapane Timeline\",\n",
    "        \"description\": 'Ready to give it a go? <img src=\"https://uploads-ssl.webflow.com/633eb64a2d33ad2e879f0287/6343097598f0f607ab58508d_6331d1d0412eafd8a9f25f97_code_to_app-p-1080-p-1080.png\">',\n",
    "    },\n",
    "]"
   ]
  },
  {
   "cell_type": "markdown",
   "id": "7b1fe929-9496-40d7-a09f-c71066653bca",
   "metadata": {},
   "source": [
    "## Templates and assets"
   ]
  },
  {
   "cell_type": "markdown",
   "id": "247aa694-569a-4027-bc98-01f94426b225",
   "metadata": {},
   "source": [
    "We can add support for more icons and colors by updating this `dict`."
   ]
  },
  {
   "cell_type": "code",
   "execution_count": 3,
   "id": "010cf1b2-4c65-443e-a5ed-b9c0c182ed8a",
   "metadata": {},
   "outputs": [],
   "source": [
    "icon_design = {\n",
    "    \"actor\": {\n",
    "        \"color\": \"bg-slate-400\",\n",
    "        \"icon\": \"\"\"<svg class=\"h-5 w-5 text-white\" xmlns=\"http://www.w3.org/2000/svg\" viewBox=\"0 0 20 20\" fill=\"currentColor\" aria-hidden=\"true\"><path d=\"M10 8a3 3 0 100-6 3 3 0 000 6zM3.465 14.493a1.23 1.23 0 00.41 1.412A9.957 9.957 0 0010 18c2.31 0 4.438-.784 6.131-2.1.43-.333.604-.903.408-1.41a7.002 7.002 0 00-13.074.003z\" /></svg>\"\"\",\n",
    "    },\n",
    "    \"thumbs-up\": {\n",
    "        \"color\": \"bg-indigo-500\",\n",
    "        \"icon\": \"\"\"<svg class=\"h-5 w-5 text-white\" xmlns=\"http://www.w3.org/2000/svg\" viewBox=\"0 0 20 20\" fill=\"currentColor\" aria-hidden=\"true\"><path d=\"M1 8.25a1.25 1.25 0 112.5 0v7.5a1.25 1.25 0 11-2.5 0v-7.5zM11 3V1.7c0-.268.14-.526.395-.607A2 2 0 0114 3c0 .995-.182 1.948-.514 2.826-.204.54.166 1.174.744 1.174h2.52c1.243 0 2.261 1.01 2.146 2.247a23.864 23.864 0 01-1.341 5.974C17.153 16.323 16.072 17 14.9 17h-3.192a3 3 0 01-1.341-.317l-2.734-1.366A3 3 0 006.292 15H5V8h.963c.685 0 1.258-.483 1.612-1.068a4.011 4.011 0 012.166-1.73c.432-.143.853-.386 1.011-.814.16-.432.248-.9.248-1.388z\" /></svg>\"\"\",\n",
    "    },\n",
    "    \"code\": {\n",
    "        \"color\": \"bg-amber-500\",\n",
    "        \"icon\": \"\"\"<svg class=\"h-5 w-5 text-white\" xmlns=\"http://www.w3.org/2000/svg\" viewBox=\"0 0 20 20\" fill=\"currentColor\" aria-hidden=\"true\"> <path fill-rule=\"evenodd\" d=\"M4.25 2A2.25 2.25 0 002 4.25v11.5A2.25 2.25 0 004.25 18h11.5A2.25 2.25 0 0018 15.75V4.25A2.25 2.25 0 0015.75 2H4.25zm4.03 6.28a.75.75 0 00-1.06-1.06L4.97 9.47a.75.75 0 000 1.06l2.25 2.25a.75.75 0 001.06-1.06L6.56 10l1.72-1.72zm4.5-1.06a.75.75 0 10-1.06 1.06L13.44 10l-1.72 1.72a.75.75 0 101.06 1.06l2.25-2.25a.75.75 0 000-1.06l-2.25-2.25z\" clip-rule=\"evenodd\" /></svg>\"\"\",\n",
    "    },\n",
    "    \"check\": {\n",
    "        \"color\": \"bg-emerald-500\",\n",
    "        \"icon\": \"\"\"<svg class=\"h-5 w-5 text-white\" xmlns=\"http://www.w3.org/2000/svg\" viewBox=\"0 0 20 20\" fill=\"currentColor\" aria-hidden=\"true\"><path fill-rule=\"evenodd\" d=\"M16.704 4.153a.75.75 0 01.143 1.052l-8 10.5a.75.75 0 01-1.127.075l-4.5-4.5a.75.75 0 011.06-1.06l3.894 3.893 7.48-9.817a.75.75 0 011.05-.143z\" clip-rule=\"evenodd\" /></svg>\"\"\",\n",
    "    },\n",
    "    \"cross\": {\n",
    "        \"color\": \"bg-rose-500\",\n",
    "        \"icon\": \"\"\"<svg class=\"h-5 w-5 text-white\" xmlns=\"http://www.w3.org/2000/svg\" viewBox=\"0 0 20 20\" fill=\"currentColor\"><path d=\"M6.28 5.22a.75.75 0 00-1.06 1.06L8.94 10l-3.72 3.72a.75.75 0 101.06 1.06L10 11.06l3.72 3.72a.75.75 0 101.06-1.06L11.06 10l3.72-3.72a.75.75 0 00-1.06-1.06L10 8.94 6.28 5.22z\" /></svg>\"\"\",\n",
    "    },\n",
    "}"
   ]
  },
  {
   "cell_type": "markdown",
   "id": "594db1f0-0f1d-415d-a2fd-6fe7334aad2a",
   "metadata": {},
   "source": [
    "The template for individual Timeline entries."
   ]
  },
  {
   "cell_type": "code",
   "execution_count": 4,
   "id": "b095357e-7e67-4a47-9834-5dd6ccbc1df6",
   "metadata": {},
   "outputs": [],
   "source": [
    "template_timeline_children_html = string.Template(\n",
    "    (\n",
    "        \"\"\"\n",
    "<li>\n",
    "    <div class=\"relative pb-8\">\n",
    "        <span class=\"absolute top-4 left-4 -ml-px h-full w-0.5 bg-gray-200\" aria-hidden=\"true\"></span>\n",
    "        <div class=\"relative flex space-x-3\">\n",
    "            <div>\n",
    "                <span class=\"h-8 w-8 rounded-full ${color} flex items-center justify-center ring-8 ring-white\">\n",
    "                    ${icon}\n",
    "                </span>\n",
    "            </div>\n",
    "            <div class=\"flex min-w-0 flex-1 justify-between space-x-4 pt-1.5\">\n",
    "                <div>\n",
    "                    <p class=\"text-sm text-gray-500\">${action} <span class=\"font-medium text-gray-900\">${name}</span></p>\n",
    "                    <p class=\"mt-2 text-sm text-gray-500\">${description}</p>\n",
    "                </div>\n",
    "                <div class=\"whitespace-nowrap text-right text-sm text-gray-500\">\n",
    "                    <time>${time}</time>\n",
    "                </div>\n",
    "            </div>\n",
    "        </div>\n",
    "    </div>\n",
    "</li>\n",
    "\"\"\"\n",
    "    )\n",
    ")"
   ]
  },
  {
   "cell_type": "markdown",
   "id": "75c39e5c-d85d-4857-bbcc-759594aaf2a6",
   "metadata": {},
   "source": [
    "The template for the timeline container. We're including Tailwind CSS too."
   ]
  },
  {
   "cell_type": "code",
   "execution_count": 5,
   "id": "bbc847da-37be-4d77-95c5-7afc292b60a2",
   "metadata": {},
   "outputs": [],
   "source": [
    "template_timeline_parent_html = string.Template(\n",
    "    (\n",
    "        \"\"\"\n",
    "<script src=\"https://cdn.tailwindcss.com\"></script>\n",
    "<div class=\"flow-root max-w-prose\">\n",
    "  <ul role=\"list\" class=\"-mb-8\">\n",
    "   ${children}\n",
    "  </ul>\n",
    "</div>\n",
    "\"\"\"\n",
    "    )\n",
    ")"
   ]
  },
  {
   "cell_type": "markdown",
   "id": "4d390bc8-90c4-43b8-9f44-b1ba6296a8cc",
   "metadata": {},
   "source": [
    "## Build the timeline"
   ]
  },
  {
   "cell_type": "code",
   "execution_count": 6,
   "id": "99ae92af-ddec-4e23-bb71-9aadbfe0f20e",
   "metadata": {},
   "outputs": [],
   "source": [
    "def generate_html_timeline(items):\n",
    "    timeline_children_html = \"\"\n",
    "\n",
    "    for item in items:\n",
    "        timeline_children_html += template_timeline_children_html.safe_substitute(\n",
    "            color=icon_design[item.get(\"icon\", \"actor\")][\"color\"],\n",
    "            icon=icon_design[item.get(\"icon\", \"actor\")][\"icon\"],\n",
    "            time=item.get(\"time\", \"\"),\n",
    "            action=item.get(\"action\", \"\"),\n",
    "            name=item.get(\"name\", \"\"),\n",
    "            description=item.get(\"description\", \"\"),\n",
    "        )\n",
    "\n",
    "    timeline_parent_html = template_timeline_parent_html.safe_substitute(\n",
    "        children=timeline_children_html\n",
    "    )\n",
    "    \n",
    "    return timeline_parent_html"
   ]
  },
  {
   "cell_type": "markdown",
   "id": "f4d86d48-f167-4291-a31e-d4e07ca19145",
   "metadata": {},
   "source": [
    "# Build the app"
   ]
  },
  {
   "cell_type": "code",
   "execution_count": 7,
   "id": "7f3711af-89cd-4d1c-862b-871dd1c6275e",
   "metadata": {},
   "outputs": [
    {
     "data": {
      "text/markdown": [
       "App saved to ./timeline-component.html"
      ],
      "text/plain": [
       "<IPython.core.display.Markdown object>"
      ]
     },
     "metadata": {},
     "output_type": "display_data"
    }
   ],
   "source": [
    "html_timeline = dp.HTML(generate_html_timeline(items))\n",
    "\n",
    "app = dp.App(html_timeline)\n",
    "\n",
    "app.save(\"timeline-component.html\", open=True)"
   ]
  },
  {
   "cell_type": "code",
   "execution_count": 9,
   "id": "26438552-aba4-4ae2-8814-4f262fd00d9b",
   "metadata": {
    "tags": [
     "remove_input"
    ]
   },
   "outputs": [
    {
     "data": {
      "text/html": [
       "<a href=\"/catalogues/components/timeline-component.html\"><img src=\"/catalogues/components/timeline-component-preview.png\"></a>"
      ],
      "text/plain": [
       "<IPython.core.display.HTML object>"
      ]
     },
     "metadata": {},
     "output_type": "display_data"
    }
   ],
   "source": [
    "from dpdocsutils import previews\n",
    "\n",
    "previews.embed_local_app(\n",
    "    \"/catalogues/components/timeline-component.html\", width=\"100%\", height=800\n",
    ")"
   ]
  }
 ],
 "metadata": {
  "kernelspec": {
   "display_name": "Python 3.10.5 ('.venv': poetry)",
   "language": "python",
   "name": "python3"
  },
  "language_info": {
   "codemirror_mode": {
    "name": "ipython",
    "version": 3
   },
   "file_extension": ".py",
   "mimetype": "text/x-python",
   "name": "python",
   "nbconvert_exporter": "python",
   "pygments_lexer": "ipython3",
   "version": "3.10.5"
  },
  "vscode": {
   "interpreter": {
    "hash": "ea927ef3cbe61bf67e711d03142ba2e5d502df0a034e8febbb469ff4334e1fa4"
   }
  }
 },
 "nbformat": 4,
 "nbformat_minor": 5
}
