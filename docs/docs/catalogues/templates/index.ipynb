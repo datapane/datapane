{
 "cells": [
  {
   "cell_type": "markdown",
   "id": "f564dd2f-35e3-4c1a-b7f6-ad502f954ee5",
   "metadata": {},
   "source": [
    "# Templates\n",
    "\n",
    "Welcome to the Datapane templates catalogue. Here you will find expertly crafted Datapane templates that can be used as a starting point for your next project.\n",
    "\n",
    "To get up and running with a template, you can:\n",
    "\n",
    "- :octicons-mark-github-16: Visit the template repository to browse the source code.\n",
    "\n",
    "- :octicons-terminal-16: Use the `datapane template` command to retrieve and start up a template.\n",
    "\n",
    "- :octicons-repo-clone-16: Clone the repository directly.\n",
    "\n",
    "## Classifier dashboard\n",
    "\n",
    "A performance dashboard for classifiers. It can be used as a starting point for creating a Datapane report that highlights the performance of multiple classifiers on a dataset.\n",
    "\n",
    "<a src=\"/catalogues/blocks/table\"><img style=\"border: 2px solid #aaa; border-radius: 10px; width:400px;\" src=\"https://user-images.githubusercontent.com/15690380/183948469-c76fa50f-e0a2-438a-b13c-9e58d6071c1c.png\"></a>\n",
    "\n",
    "[:octicons-mark-github-16: `datapane/dp-template-classifier-dashboard`](https://github.com/datapane/dp-template-classifier-dashboard)\n",
    "\n",
    ":octicons-terminal-16: `datapane template dp-datapane-classifier-dashboard`\n",
    "\n",
    ":octicons-repo-clone-16: `git clone https://github.com/datapane/dp-template-classifier-dashboard.git`"
   ]
  }
 ],
 "metadata": {
  "kernelspec": {
   "display_name": "Python 3 (ipykernel)",
   "language": "python",
   "name": "python3"
  },
  "language_info": {
   "codemirror_mode": {
    "name": "ipython",
    "version": 3
   },
   "file_extension": ".py",
   "mimetype": "text/x-python",
   "name": "python",
   "nbconvert_exporter": "python",
   "pygments_lexer": "ipython3",
   "version": "3.10.5"
  }
 },
 "nbformat": 4,
 "nbformat_minor": 5
}
