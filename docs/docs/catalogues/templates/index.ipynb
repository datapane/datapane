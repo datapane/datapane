{
 "cells": [
  {
   "cell_type": "markdown",
   "id": "c0fff9f6-8808-4c25-9445-8d96668148d1",
   "metadata": {},
   "source": [
    "# Templates catalogue\n",
    "\n",
    "Welcome to the Datapane templates catalogue. Here you will find expertly crafted Datapane templates that can be used as a starting point for your next project.\n",
    "\n",
    "To get up and running with a template, you can:\n",
    "\n",
    "- :octicons-mark-github-16: Visit the template repository to browse the source code.\n",
    "\n",
    "- :octicons-terminal-16: Use the `datapane template` command to retrieve and start up a template.\n",
    "\n",
    "- :octicons-repo-clone-16: Clone the repository directly.\n",
    "\n",
    "---"
   ]
  },
  {
   "cell_type": "markdown",
   "id": "2a0f7101-a522-45e7-b39d-e2a5a6444ed7",
   "metadata": {},
   "source": [
    "## Classifier dashboard\n",
    "\n",
    "A performance dashboard for classifiers. It can be used as a starting point for creating a Datapane report that highlights the performance of multiple classifiers on a dataset.\n",
    "\n",
    "<a src=\"/catalogues/blocks/table\"><img class=\"docs-image\" src=\"https://user-images.githubusercontent.com/15690380/183948469-c76fa50f-e0a2-438a-b13c-9e58d6071c1c.png\"></a>\n",
    "\n",
    "[:octicons-mark-github-16: `datapane/dp-template-classifier-dashboard`](https://github.com/datapane/dp-template-classifier-dashboard)\n",
    "\n",
    ":octicons-terminal-16: `datapane template dp-datapane-classifier-dashboard`\n",
    "\n",
    ":octicons-repo-clone-16: `git clone https://github.com/datapane/dp-template-classifier-dashboard.git`\n",
    "\n",
    "---"
   ]
  },
  {
   "cell_type": "markdown",
   "id": "043a60ac-02ea-4e70-b208-9993e6c26be2",
   "metadata": {},
   "source": [
    "## Social media dashboard\n",
    "\n",
    "An engagement dashboard for social media. It can be used as a starting point for creating a Datapane report that highlights user engagement with social media channels.\n",
    "\n",
    "<a src=\"/catalogues/blocks/table\"><img class=\"docs-image\" src=\"https://user-images.githubusercontent.com/15690380/185420172-47395639-9edd-4865-9fe2-de6f54726eb6.png\"></a>\n",
    "\n",
    "[:octicons-mark-github-16: `datapane/dp-template-social-media-dashboard`](https://github.com/datapane/dp-template-social-media-dashboard)\n",
    "\n",
    ":octicons-terminal-16: `datapane template dp-template-social-media-dashboard`\n",
    "\n",
    ":octicons-repo-clone-16: `git clone https://github.com/datapane/dp-template-social-media-dashboard.git`"
   ]
  },
  {
   "cell_type": "markdown",
   "id": "b1c96678-bcc5-4c48-959e-0ffe4a0b63ac",
   "metadata": {},
   "source": [
    "## Text-heavy report\n",
    "\n",
    "A text-heavy report. It can be used as a starting point for creating a text-heavy Datapane report that starts off as a Jupyter Notebook.\n",
    "\n",
    "<a src=\"/catalogues/blocks/table\"><img class=\"docs-image\" src=\"https://user-images.githubusercontent.com/15690380/185621854-1ab0e1df-ef34-4956-ad92-90d905cbc09c.png\"></a>\n",
    "\n",
    "[:octicons-mark-github-16: `datapane/dp-template-text-heavy-report`](https://github.com/datapane/dp-template-text-heavy-report)\n",
    "\n",
    ":octicons-terminal-16: `datapane template dp-template-text-heavy-report`\n",
    "\n",
    ":octicons-repo-clone-16: `git clone https://github.com/datapane/dp-template-text-heavy-report.git`"
   ]
  }
 ],
 "metadata": {
  "kernelspec": {
   "display_name": "Python 3 (ipykernel)",
   "language": "python",
   "name": "python3"
  },
  "language_info": {
   "codemirror_mode": {
    "name": "ipython",
    "version": 3
   },
   "file_extension": ".py",
   "mimetype": "text/x-python",
   "name": "python",
   "nbconvert_exporter": "python",
   "pygments_lexer": "ipython3",
   "version": "3.10.5"
  }
 },
 "nbformat": 4,
 "nbformat_minor": 5
}