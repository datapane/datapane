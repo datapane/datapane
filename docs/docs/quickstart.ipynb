{
 "cells": [
  {
   "cell_type": "markdown",
   "id": "3ea7576e-1f54-4983-a8d1-1f6c0e2165de",
   "metadata": {},
   "source": [
    "# Quickstart\n",
    "\n",
    "These quick instructions will get you up and running with Datapane in a few minutes! Check the in-depth tutorials to learn more.\n",
    "\n",
    "## Installation\n",
    "\n",
    "Datapane's Python library and CLI can be installed using either `conda` or `pip` on macOS, Windows, or Linux. Datapane supports Python **3.6 - 3.9**.\n",
    "\n",
    "!!! info \"Installing Python\"\n",
    "\n",
    "    Instructions for installing Python can be found at [https://wiki.python.org/moin/BeginnersGuide/Download](https://wiki.python.org/moin/BeginnersGuide/Download).&#x20;\n",
    "\n",
    "Datapane can be installed with:\n",
    "\n",
    "=== \"conda\"\n",
    "\n",
    "    ``` bash\n",
    "    conda install -c conda-forge \"datapane>=0.14.0\"\n",
    "    ```\n",
    "\n",
    "=== \"pip\"\n",
    "\n",
    "    ``` bash\n",
    "    pip3 install datapane\n",
    "    ```\n",
    "\n",
    "\n"
   ]
  },
  {
   "cell_type": "markdown",
   "id": "ef299bb5-7382-44db-bb36-d5e44cacf998",
   "metadata": {},
   "source": [
    "## Creating a report\n",
    "\n",
    "Let’s create a simple report. In this scenario, we have a dataset and visualization that we need to share with our colleagues."
   ]
  },
  {
   "cell_type": "code",
   "execution_count": 1,
   "id": "c1bbee21-3241-41d7-a7e2-d7551a47a5bc",
   "metadata": {},
   "outputs": [],
   "source": [
    "import altair as alt\n",
    "from vega_datasets import data\n",
    "\n",
    "df = data.iris()\n",
    "fig = (\n",
    "    alt.Chart(df)\n",
    "    .mark_point()\n",
    "    .encode(x=\"petalLength:Q\", y=\"petalWidth:Q\", color=\"species:N\")\n",
    ")"
   ]
  },
  {
   "cell_type": "markdown",
   "id": "64363483-a584-4ac9-9848-71cc9f718281",
   "metadata": {},
   "source": [
    "Datapane makes generating a report simple – all it takes is the following."
   ]
  },
  {
   "cell_type": "code",
   "execution_count": 2,
   "id": "3c48add0-9241-4e22-bd10-5298656591be",
   "metadata": {
    "tags": [
     "remove_all_output"
    ]
   },
   "outputs": [
    {
     "data": {
      "text/markdown": [
       "Report saved to ./quickstart.html"
      ],
      "text/plain": [
       "<IPython.core.display.Markdown object>"
      ]
     },
     "metadata": {},
     "output_type": "display_data"
    }
   ],
   "source": [
    "import datapane as dp\n",
    "\n",
    "report = dp.Report(\n",
    "    dp.Plot(fig),\n",
    "    dp.DataTable(df)\n",
    ")\n",
    "\n",
    "report.save(path=\"quickstart.html\")"
   ]
  },
  {
   "cell_type": "markdown",
   "id": "78608157-21dc-4d23-b842-a8286f7727b6",
   "metadata": {},
   "source": [
    "This will generate an HTML file, `quickstart.html`, containing our interactive report:"
   ]
  },
  {
   "cell_type": "code",
   "execution_count": 3,
   "id": "8418fc97-5689-40bc-b68b-950aee46cd1f",
   "metadata": {
    "tags": [
     "remove_input"
    ]
   },
   "outputs": [
    {
     "data": {
      "text/html": [
       "<a href=\"/quickstart.html\"><img src=\"/quickstart-preview.png\"></a>"
      ],
      "text/plain": [
       "<IPython.core.display.HTML object>"
      ]
     },
     "metadata": {},
     "output_type": "display_data"
    }
   ],
   "source": [
    "from dpdocsutils import previews\n",
    "previews.embed_local_report('/quickstart.html', width=\"100%\", height=900)"
   ]
  },
  {
   "cell_type": "markdown",
   "id": "ed654243-1b48-413b-ab70-699d41fddb9a",
   "metadata": {},
   "source": [
    "We can now open our standalone HTML report with a web browser and email it to our colleagues who can do the same.\n",
    "\n",
    "But what if we want to send a link to our report or embed it instead?"
   ]
  },
  {
   "cell_type": "markdown",
   "id": "fb21606f-ae89-4a18-8b1e-d41bd0823376",
   "metadata": {},
   "source": [
    "## Uploading to Datapane Cloud\n",
    "\n",
    "Datapane Cloud is free! Share reports privately, or embed them into platforms like Salesforce and Medium.\n",
    "\n",
    "To get a free API key, run the following command:\n",
    "\n",
    "\n",
    "=== \"Terminal\"\n",
    "\n",
    "    ``` bash\n",
    "    datapane signup\n",
    "    ```\n",
    "\n",
    "Once we've completed signup, the API key will be stored in the current environment."
   ]
  },
  {
   "cell_type": "code",
   "execution_count": 4,
   "id": "01893ce3-378b-42a3-8298-470a1dd71be5",
   "metadata": {
    "tags": [
     "remove_all_output"
    ]
   },
   "outputs": [
    {
     "data": {
      "text/markdown": [
       "Uploading report and associated data - *please wait...*"
      ],
      "text/plain": [
       "<IPython.core.display.Markdown object>"
      ]
     },
     "metadata": {},
     "output_type": "display_data"
    },
    {
     "data": {
      "text/markdown": [
       "Your report only contains a single element - did you know you can include additional plots, tables and text in a single report? More info <a href='https://docs.datapane.com/reports/blocks/layout-pages-and-selects' target='_blank'>here</a>"
      ],
      "text/plain": [
       "<IPython.core.display.Markdown object>"
      ]
     },
     "metadata": {},
     "output_type": "display_data"
    },
    {
     "data": {
      "text/markdown": [
       "Report successfully uploaded. View and share your report <a href='https://datapane.com/reports/OkpqjJA/quickstart/' target='_blank'>here</a>, or edit your report <a href='https://datapane.com/reports/OkpqjJA/quickstart/edit/' target='_blank'>here</a>."
      ],
      "text/plain": [
       "<IPython.core.display.Markdown object>"
      ]
     },
     "metadata": {},
     "output_type": "display_data"
    }
   ],
   "source": [
    "report.upload(name=\"Quickstart\")"
   ]
  },
  {
   "cell_type": "markdown",
   "id": "8adff0a8-76d5-4f1d-b0f1-d9ad5b7045e2",
   "metadata": {},
   "source": [
    "By using `upload()` in place of `save()`, our report is uploaded to Datapane Cloud and a shareable link is generated.\n",
    "\n",
    "We can now send this link to our colleagues or use it to embed our report on another platform."
   ]
  },
  {
   "cell_type": "markdown",
   "id": "7c490721-5f1b-4244-8eb0-53ef1999e84c",
   "metadata": {},
   "source": [
    "## Next steps\n",
    "\n",
    "There's so much more we can do with Datapane!\n",
    "\n",
    "- [Check out our tutorials](https://docs.datapane.com/)\n",
    "- [Explore our community spaces](https://datapane.com/community)\n",
    "- [We're open-source – browse the Datapane repo](https://github.com/datapane/datapane)\n",
    "- [Sign up for a Datapane Cloud account](https://datapane.com/accounts/signup/)"
   ]
  }
 ],
 "metadata": {
  "language_info": {
   "name": "python"
  }
 },
 "nbformat": 4,
 "nbformat_minor": 5
}
